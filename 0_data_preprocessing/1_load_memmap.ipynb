{
 "cells": [
  {
   "cell_type": "raw",
   "id": "c15fb0b3-888c-4713-b358-2c8961b177b1",
   "metadata": {},
   "source": [
    "MIT License\n",
    "\n",
    "Copyright (c) 2022 alxyok\n",
    "\n",
    "Permission is hereby granted, free of charge, to any person obtaining a copy\n",
    "of this software and associated documentation files (the \"Software\"), to deal\n",
    "in the Software without restriction, including without limitation the rights\n",
    "to use, copy, modify, merge, publish, distribute, sublicense, and/or sell\n",
    "copies of the Software, and to permit persons to whom the Software is\n",
    "furnished to do so, subject to the following conditions:\n",
    "\n",
    "The above copyright notice and this permission notice shall be included in all\n",
    "copies or substantial portions of the Software.\n",
    "\n",
    "THE SOFTWARE IS PROVIDED \"AS IS\", WITHOUT WARRANTY OF ANY KIND, EXPRESS OR\n",
    "IMPLIED, INCLUDING BUT NOT LIMITED TO THE WARRANTIES OF MERCHANTABILITY,\n",
    "FITNESS FOR A PARTICULAR PURPOSE AND NONINFRINGEMENT. IN NO EVENT SHALL THE\n",
    "AUTHORS OR COPYRIGHT HOLDERS BE LIABLE FOR ANY CLAIM, DAMAGES OR OTHER\n",
    "LIABILITY, WHETHER IN AN ACTION OF CONTRACT, TORT OR OTHERWISE, ARISING FROM,\n",
    "OUT OF OR IN CONNECTION WITH THE SOFTWARE OR THE USE OR OTHER DEALINGS IN THE\n",
    "SOFTWARE."
   ]
  },
  {
   "cell_type": "markdown",
   "id": "40589b09-ef34-4bd9-8540-1beadc29aa6d",
   "metadata": {},
   "source": [
    "****************************************************************"
   ]
  },
  {
   "cell_type": "markdown",
   "id": "523e7e12-dac9-47c4-8d67-a210ff80daea",
   "metadata": {},
   "source": [
    "# Data exploration"
   ]
  },
  {
   "cell_type": "code",
   "execution_count": 1,
   "id": "288f6e76-7246-4409-b7ea-2ce46e32d64b",
   "metadata": {},
   "outputs": [
    {
     "name": "stdout",
     "output_type": "stream",
     "text": [
      "The Zen of Python, by Tim Peters\n",
      "\n",
      "Beautiful is better than ugly.\n",
      "Explicit is better than implicit.\n",
      "Simple is better than complex.\n",
      "Complex is better than complicated.\n",
      "Flat is better than nested.\n",
      "Sparse is better than dense.\n",
      "Readability counts.\n",
      "Special cases aren't special enough to break the rules.\n",
      "Although practicality beats purity.\n",
      "Errors should never pass silently.\n",
      "Unless explicitly silenced.\n",
      "In the face of ambiguity, refuse the temptation to guess.\n",
      "There should be one-- and preferably only one --obvious way to do it.\n",
      "Although that way may not be obvious at first unless you're Dutch.\n",
      "Now is better than never.\n",
      "Although never is often better than *right* now.\n",
      "If the implementation is hard to explain, it's a bad idea.\n",
      "If the implementation is easy to explain, it may be a good idea.\n",
      "Namespaces are one honking great idea -- let's do more of those!\n"
     ]
    }
   ],
   "source": [
    "import this"
   ]
  },
  {
   "cell_type": "markdown",
   "id": "ec2c8819-af9e-40de-84c1-12d2361ce88a",
   "metadata": {},
   "source": [
    "### Quick-note on project directory\n",
    "\n",
    "The main root dir `~/3dcorrection` is structured as follow:\n",
    "* `data/` contains raw and preprocessed data. \n",
    "    * `raw/` is actually a symbolic link to the same repo for all candidates, DO NOT TOUCH IT!\n",
    "    * `processed/` will be created when data is preprocessed and will contain all transformed data\n",
    "* "
   ]
  },
  {
   "cell_type": "code",
   "execution_count": 1,
   "id": "6f1bf27e-f883-4624-a3ff-d7de8bfb7936",
   "metadata": {},
   "outputs": [],
   "source": [
    "import os\n",
    "import os.path as osp\n",
    "\n",
    "root_path = osp.join('/', 'root', 'bootcamps')\n",
    "\n",
    "data_path = osp.join(root_path, 'data')\n",
    "cache_path = osp.join(data_path, 'cache')\n",
    "raw_data_path = osp.join(data_path, 'raw')\n",
    "processed_data_path = osp.join(data_path, 'processed')"
   ]
  },
  {
   "cell_type": "markdown",
   "id": "217c9021-6097-4edc-b596-ab9758bc32cb",
   "metadata": {},
   "source": [
    "### The 3D Correction Use-Case\n",
    "\n",
    "The European Centre for Medium-range Weather Forecasts (ECMWF) has developed a series of model giving the current best accurate parametrization scheme available—among those, SPARTACUS delivers **radiation** prediction over the globe. Because it is demanding in computations, a simpler, degraded model called TRIPLECLOUD is developed to satisfy the production environment constraints. \n",
    "\n",
    "Like most climate models, to leverage hardware acceleration, the choice is made to split the globe in blocks—this has the immediate consequence of losing the spatial correlation for a gain in parallelization. \n",
    "\n",
    "The unit block is a column that express values throughout the vertical dimension over a set of levels. Each level is"
   ]
  },
  {
   "cell_type": "markdown",
   "id": "c9d8e048-4c2e-42a6-bab2-35060ca35353",
   "metadata": {},
   "source": [
    "Now let's load the raw data we'll be using throughout this hands-on. Take a look at the [source notebook](https://git.ecmwf.int/projects/MLFET/repos/maelstrom-radiation/browse/climetlab_maelstrom_radiation/radiation.py) for a more info on the variables."
   ]
  },
  {
   "cell_type": "code",
   "execution_count": 12,
   "id": "7a82a516-48d1-471b-9b08-758be80e258f",
   "metadata": {},
   "outputs": [],
   "source": [
    "import climetlab as cml\n",
    "import dask\n",
    "import dask.array as da\n",
    "from glob import glob\n",
    "import numpy as np\n",
    "import os.path as osp\n",
    "import xarray as xr\n",
    "\n",
    "import config\n",
    "\n",
    "feats_path = osp.join(processed_data_path, 'feats_npy')\n",
    "x_files = sorted(glob(osp.join(feats_path, 'x', '*.npy')))\n",
    "y_files = sorted(glob(osp.join(feats_path, 'y', '*.npy')))\n",
    "\n",
    "# np.load(osp.join(processed_data_path"
   ]
  },
  {
   "cell_type": "markdown",
   "id": "3c96ef7b-2a3d-4964-87e4-44bf5662687e",
   "metadata": {},
   "source": [
    "The returned object is a ClimateLab dataset Xarray Dataset"
   ]
  },
  {
   "cell_type": "markdown",
   "id": "d564917b-8471-46d4-b7e3-6594c52f3a52",
   "metadata": {},
   "source": [
    "Let's check the content of the downloaded file"
   ]
  },
  {
   "cell_type": "markdown",
   "id": "62c864a4-4c6d-489f-903e-d439910c35b2",
   "metadata": {},
   "source": [
    "most operations are computed lazily in dask/xarray when needed and if possible on every chunk, treated and seen 'as if' it was a continuous array"
   ]
  },
  {
   "cell_type": "code",
   "execution_count": 18,
   "id": "97481da6-fbca-4947-aca2-9c1e8c83d0cf",
   "metadata": {},
   "outputs": [],
   "source": [
    "import time"
   ]
  },
  {
   "cell_type": "code",
   "execution_count": 24,
   "id": "8a683004-8565-4905-b990-0fea3c305854",
   "metadata": {},
   "outputs": [
    {
     "name": "stdout",
     "output_type": "stream",
     "text": [
      "5.873 ms\n"
     ]
    }
   ],
   "source": [
    "s = time.perf_counter()\n",
    "x0 = np.load(x_files[0])\n",
    "e = time.perf_counter()\n",
    "\n",
    "print(\"%.2f ms\" % ((e - s) * 1000))\n",
    "\n",
    "x_shape = (2560, 138, 20)\n",
    "y_shape = (2560, 138, 4)\n",
    "dtype = 'float32'"
   ]
  },
  {
   "cell_type": "code",
   "execution_count": 25,
   "id": "11749944-9413-4cdd-94e7-960d7a7e3994",
   "metadata": {},
   "outputs": [
    {
     "name": "stdout",
     "output_type": "stream",
     "text": [
      "0.579 ms\n"
     ]
    }
   ],
   "source": [
    "s = time.perf_counter()\n",
    "x00 = np.memmap(x_files[0], dtype=dtype, \n",
    "\n",
    "print(\"%.2f ms\" % ((e - s) * 1000))"
   ]
  },
  {
   "cell_type": "code",
   "execution_count": 14,
   "id": "0246f850-c12d-428d-90a8-48c58bf302e1",
   "metadata": {},
   "outputs": [
    {
     "data": {
      "text/plain": [
       "(2560, 138, 20)"
      ]
     },
     "execution_count": 14,
     "metadata": {},
     "output_type": "execute_result"
    }
   ],
   "source": [
    "x0.shape"
   ]
  },
  {
   "cell_type": "code",
   "execution_count": 9,
   "id": "b5399ab0-9c1a-4f3e-a7d6-92ff200035dd",
   "metadata": {},
   "outputs": [],
   "source": [
    "dask.config.set(scheduler='processes')\n",
    "\n",
    "out_dir = osp.join(processed_data_path, 'feats_npy')\n",
    "da.to_npy_stack(osp.join(out_dir, 'x'), x, axis=0)\n",
    "da.to_npy_stack(osp.join(out_dir, 'y'), y, axis=0)"
   ]
  },
  {
   "cell_type": "code",
   "execution_count": null,
   "id": "5b240293-1b08-4d4d-9350-5f13cfc7981a",
   "metadata": {},
   "outputs": [],
   "source": []
  }
 ],
 "metadata": {
  "kernelspec": {
   "display_name": "Python 3 (ipykernel)",
   "language": "python",
   "name": "python3"
  },
  "language_info": {
   "codemirror_mode": {
    "name": "ipython",
    "version": 3
   },
   "file_extension": ".py",
   "mimetype": "text/x-python",
   "name": "python",
   "nbconvert_exporter": "python",
   "pygments_lexer": "ipython3",
   "version": "3.8.10"
  }
 },
 "nbformat": 4,
 "nbformat_minor": 5
}
