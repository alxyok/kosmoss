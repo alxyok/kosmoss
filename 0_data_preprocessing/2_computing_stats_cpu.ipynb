{
 "cells": [
  {
   "cell_type": "raw",
   "id": "c15fb0b3-888c-4713-b358-2c8961b177b1",
   "metadata": {},
   "source": [
    "MIT License\n",
    "\n",
    "Copyright (c) 2022 alxyok\n",
    "\n",
    "Permission is hereby granted, free of charge, to any person obtaining a copy\n",
    "of this software and associated documentation files (the \"Software\"), to deal\n",
    "in the Software without restriction, including without limitation the rights\n",
    "to use, copy, modify, merge, publish, distribute, sublicense, and/or sell\n",
    "copies of the Software, and to permit persons to whom the Software is\n",
    "furnished to do so, subject to the following conditions:\n",
    "\n",
    "The above copyright notice and this permission notice shall be included in all\n",
    "copies or substantial portions of the Software.\n",
    "\n",
    "THE SOFTWARE IS PROVIDED \"AS IS\", WITHOUT WARRANTY OF ANY KIND, EXPRESS OR\n",
    "IMPLIED, INCLUDING BUT NOT LIMITED TO THE WARRANTIES OF MERCHANTABILITY,\n",
    "FITNESS FOR A PARTICULAR PURPOSE AND NONINFRINGEMENT. IN NO EVENT SHALL THE\n",
    "AUTHORS OR COPYRIGHT HOLDERS BE LIABLE FOR ANY CLAIM, DAMAGES OR OTHER\n",
    "LIABILITY, WHETHER IN AN ACTION OF CONTRACT, TORT OR OTHERWISE, ARISING FROM,\n",
    "OUT OF OR IN CONNECTION WITH THE SOFTWARE OR THE USE OR OTHER DEALINGS IN THE\n",
    "SOFTWARE."
   ]
  },
  {
   "cell_type": "markdown",
   "id": "40589b09-ef34-4bd9-8540-1beadc29aa6d",
   "metadata": {},
   "source": [
    "****************************************************************"
   ]
  },
  {
   "cell_type": "code",
   "execution_count": 1,
   "id": "a0405e6b-5f46-4f29-82ff-e2d53b11da6e",
   "metadata": {},
   "outputs": [],
   "source": [
    "# Importing the root of this bootcamp\n",
    "import os.path as osp\n",
    "import sys\n",
    "\n",
    "sys.path.append(osp.abspath('..'))"
   ]
  },
  {
   "cell_type": "markdown",
   "id": "523e7e12-dac9-47c4-8d67-a210ff80daea",
   "metadata": {},
   "source": [
    "# Computing basic Stats with the CPU"
   ]
  },
  {
   "cell_type": "code",
   "execution_count": 9,
   "id": "7a82a516-48d1-471b-9b08-758be80e258f",
   "metadata": {},
   "outputs": [],
   "source": [
    "import dask\n",
    "import dask.array as da\n",
    "import numpy as np\n",
    "import os.path as osp\n",
    "import torch\n",
    "from typing import Dict, Text\n",
    "\n",
    "import config\n",
    "import utils\n",
    "\n",
    "step = config.config['timestep']\n",
    "num_workers = config.config['num_workers']\n",
    "\n",
    "feats_path = osp.join(config.processed_data_path, f'features-{step}')\n",
    "\n",
    "x = da.from_npy_stack(osp.join(feats_path, 'x'))\n",
    "y = da.from_npy_stack(osp.join(feats_path, 'y'))\n",
    "edge = da.from_npy_stack(osp.join(feats_path, 'edge'))"
   ]
  },
  {
   "cell_type": "code",
   "execution_count": 10,
   "id": "a7dbd6d1-d425-4120-a9b6-467f1781540e",
   "metadata": {},
   "outputs": [
    {
     "data": {
      "text/html": [
       "<table>\n",
       "    <tr>\n",
       "        <td>\n",
       "            <table>\n",
       "                <thead>\n",
       "                    <tr>\n",
       "                        <td> </td>\n",
       "                        <th> Array </th>\n",
       "                        <th> Chunk </th>\n",
       "                    </tr>\n",
       "                </thead>\n",
       "                <tbody>\n",
       "                    \n",
       "                    <tr>\n",
       "                        <th> Bytes </th>\n",
       "                        <td> 11.16 GiB </td>\n",
       "                        <td> 13.48 MiB </td>\n",
       "                    </tr>\n",
       "                    \n",
       "                    <tr>\n",
       "                        <th> Shape </th>\n",
       "                        <td> (1085440, 138, 20) </td>\n",
       "                        <td> (1280, 138, 20) </td>\n",
       "                    </tr>\n",
       "                    <tr>\n",
       "                        <th> Count </th>\n",
       "                        <td> 848 Tasks </td>\n",
       "                        <td> 848 Chunks </td>\n",
       "                    </tr>\n",
       "                    <tr>\n",
       "                    <th> Type </th>\n",
       "                    <td> float32 </td>\n",
       "                    <td> numpy.ndarray </td>\n",
       "                    </tr>\n",
       "                </tbody>\n",
       "            </table>\n",
       "        </td>\n",
       "        <td>\n",
       "        <svg width=\"156\" height=\"146\" style=\"stroke:rgb(0,0,0);stroke-width:1\" >\n",
       "\n",
       "  <!-- Horizontal lines -->\n",
       "  <line x1=\"10\" y1=\"0\" x2=\"80\" y2=\"70\" style=\"stroke-width:2\" />\n",
       "  <line x1=\"10\" y1=\"25\" x2=\"80\" y2=\"96\" style=\"stroke-width:2\" />\n",
       "\n",
       "  <!-- Vertical lines -->\n",
       "  <line x1=\"10\" y1=\"0\" x2=\"10\" y2=\"25\" style=\"stroke-width:2\" />\n",
       "  <line x1=\"13\" y1=\"3\" x2=\"13\" y2=\"29\" />\n",
       "  <line x1=\"17\" y1=\"7\" x2=\"17\" y2=\"32\" />\n",
       "  <line x1=\"21\" y1=\"11\" x2=\"21\" y2=\"36\" />\n",
       "  <line x1=\"24\" y1=\"14\" x2=\"24\" y2=\"40\" />\n",
       "  <line x1=\"28\" y1=\"18\" x2=\"28\" y2=\"43\" />\n",
       "  <line x1=\"32\" y1=\"22\" x2=\"32\" y2=\"47\" />\n",
       "  <line x1=\"35\" y1=\"25\" x2=\"35\" y2=\"51\" />\n",
       "  <line x1=\"39\" y1=\"29\" x2=\"39\" y2=\"55\" />\n",
       "  <line x1=\"43\" y1=\"33\" x2=\"43\" y2=\"58\" />\n",
       "  <line x1=\"47\" y1=\"37\" x2=\"47\" y2=\"62\" />\n",
       "  <line x1=\"50\" y1=\"40\" x2=\"50\" y2=\"66\" />\n",
       "  <line x1=\"54\" y1=\"44\" x2=\"54\" y2=\"69\" />\n",
       "  <line x1=\"58\" y1=\"48\" x2=\"58\" y2=\"73\" />\n",
       "  <line x1=\"61\" y1=\"51\" x2=\"61\" y2=\"77\" />\n",
       "  <line x1=\"65\" y1=\"55\" x2=\"65\" y2=\"81\" />\n",
       "  <line x1=\"69\" y1=\"59\" x2=\"69\" y2=\"84\" />\n",
       "  <line x1=\"73\" y1=\"63\" x2=\"73\" y2=\"88\" />\n",
       "  <line x1=\"76\" y1=\"66\" x2=\"76\" y2=\"92\" />\n",
       "  <line x1=\"80\" y1=\"70\" x2=\"80\" y2=\"96\" style=\"stroke-width:2\" />\n",
       "\n",
       "  <!-- Colored Rectangle -->\n",
       "  <polygon points=\"10.0,0.0 80.58823529411765,70.58823529411765 80.58823529411765,96.00085180870013 10.0,25.412616514582485\" style=\"fill:#8B4903A0;stroke-width:0\"/>\n",
       "\n",
       "  <!-- Horizontal lines -->\n",
       "  <line x1=\"10\" y1=\"0\" x2=\"35\" y2=\"0\" style=\"stroke-width:2\" />\n",
       "  <line x1=\"13\" y1=\"3\" x2=\"39\" y2=\"3\" />\n",
       "  <line x1=\"17\" y1=\"7\" x2=\"42\" y2=\"7\" />\n",
       "  <line x1=\"21\" y1=\"11\" x2=\"46\" y2=\"11\" />\n",
       "  <line x1=\"24\" y1=\"14\" x2=\"50\" y2=\"14\" />\n",
       "  <line x1=\"28\" y1=\"18\" x2=\"53\" y2=\"18\" />\n",
       "  <line x1=\"32\" y1=\"22\" x2=\"57\" y2=\"22\" />\n",
       "  <line x1=\"35\" y1=\"25\" x2=\"61\" y2=\"25\" />\n",
       "  <line x1=\"39\" y1=\"29\" x2=\"65\" y2=\"29\" />\n",
       "  <line x1=\"43\" y1=\"33\" x2=\"68\" y2=\"33\" />\n",
       "  <line x1=\"47\" y1=\"37\" x2=\"72\" y2=\"37\" />\n",
       "  <line x1=\"50\" y1=\"40\" x2=\"76\" y2=\"40\" />\n",
       "  <line x1=\"54\" y1=\"44\" x2=\"79\" y2=\"44\" />\n",
       "  <line x1=\"58\" y1=\"48\" x2=\"83\" y2=\"48\" />\n",
       "  <line x1=\"61\" y1=\"51\" x2=\"87\" y2=\"51\" />\n",
       "  <line x1=\"65\" y1=\"55\" x2=\"91\" y2=\"55\" />\n",
       "  <line x1=\"69\" y1=\"59\" x2=\"94\" y2=\"59\" />\n",
       "  <line x1=\"73\" y1=\"63\" x2=\"98\" y2=\"63\" />\n",
       "  <line x1=\"76\" y1=\"66\" x2=\"102\" y2=\"66\" />\n",
       "  <line x1=\"80\" y1=\"70\" x2=\"106\" y2=\"70\" style=\"stroke-width:2\" />\n",
       "\n",
       "  <!-- Vertical lines -->\n",
       "  <line x1=\"10\" y1=\"0\" x2=\"80\" y2=\"70\" style=\"stroke-width:2\" />\n",
       "  <line x1=\"35\" y1=\"0\" x2=\"106\" y2=\"70\" style=\"stroke-width:2\" />\n",
       "\n",
       "  <!-- Colored Rectangle -->\n",
       "  <polygon points=\"10.0,0.0 35.41261651458248,0.0 106.00085180870013,70.58823529411765 80.58823529411765,70.58823529411765\" style=\"fill:#8B4903A0;stroke-width:0\"/>\n",
       "\n",
       "  <!-- Horizontal lines -->\n",
       "  <line x1=\"80\" y1=\"70\" x2=\"106\" y2=\"70\" style=\"stroke-width:2\" />\n",
       "  <line x1=\"80\" y1=\"96\" x2=\"106\" y2=\"96\" style=\"stroke-width:2\" />\n",
       "\n",
       "  <!-- Vertical lines -->\n",
       "  <line x1=\"80\" y1=\"70\" x2=\"80\" y2=\"96\" style=\"stroke-width:2\" />\n",
       "  <line x1=\"106\" y1=\"70\" x2=\"106\" y2=\"96\" style=\"stroke-width:2\" />\n",
       "\n",
       "  <!-- Colored Rectangle -->\n",
       "  <polygon points=\"80.58823529411765,70.58823529411765 106.00085180870013,70.58823529411765 106.00085180870013,96.00085180870013 80.58823529411765,96.00085180870013\" style=\"fill:#ECB172A0;stroke-width:0\"/>\n",
       "\n",
       "  <!-- Text -->\n",
       "  <text x=\"93.294544\" y=\"116.000852\" font-size=\"1.0rem\" font-weight=\"100\" text-anchor=\"middle\" >20</text>\n",
       "  <text x=\"126.000852\" y=\"83.294544\" font-size=\"1.0rem\" font-weight=\"100\" text-anchor=\"middle\" transform=\"rotate(-90,126.000852,83.294544)\">138</text>\n",
       "  <text x=\"35.294118\" y=\"80.706734\" font-size=\"1.0rem\" font-weight=\"100\" text-anchor=\"middle\" transform=\"rotate(45,35.294118,80.706734)\">1085440</text>\n",
       "</svg>\n",
       "        </td>\n",
       "    </tr>\n",
       "</table>"
      ],
      "text/plain": [
       "dask.array<from-npy-stack-/home/jupyter/bootcamps/data/processed/features, shape=(1085440, 138, 20), dtype=float32, chunksize=(1280, 138, 20), chunktype=numpy.ndarray>"
      ]
     },
     "execution_count": 10,
     "metadata": {},
     "output_type": "execute_result"
    }
   ],
   "source": [
    "x"
   ]
  },
  {
   "cell_type": "markdown",
   "id": "7685ad64-f2df-41e3-8861-8399805b137f",
   "metadata": {},
   "source": [
    "## Loading in a single thread with pure NumPy"
   ]
  },
  {
   "cell_type": "markdown",
   "id": "b0c48baa-63d0-4994-8a79-472b4791fc06",
   "metadata": {},
   "source": [
    "Open an `htop` in a side terminal, and watch the memory grow"
   ]
  },
  {
   "cell_type": "code",
   "execution_count": 19,
   "id": "46e11062-d418-4735-915f-377cdc06e5df",
   "metadata": {
    "tags": []
   },
   "outputs": [],
   "source": [
    "@utils.timing\n",
    "def compute_stats_mono(\n",
    "    x: da.Array, \n",
    "    y: da.Array, \n",
    "    edge: da.Array) -> Dict[Text, np.ndarray]:\n",
    "    \n",
    "    # Load the data into memory\n",
    "    # Simulate pure NumPy\n",
    "    num_workers = 1\n",
    "    x = x.compute(num_workers=num_workers)\n",
    "    y = y.compute(num_workers=num_workers)\n",
    "    edge = edge.compute(num_workers=num_workers)\n",
    "    \n",
    "    # Compute basic stats using NumPy, on axis 0\n",
    "    x_mean = np.mean(x, axis=0)\n",
    "    y_mean = np.mean(y, axis=0)\n",
    "    edge_mean = np.mean(edge, axis=0)\n",
    "    \n",
    "    x_std = np.std(x, axis=0)\n",
    "    y_std = np.std(y, axis=0)\n",
    "    edge_std = np.std(edge, axis=0)\n",
    "    \n",
    "    return {\n",
    "        'x_mean': x_mean,\n",
    "        'y_mean': y_mean,\n",
    "        'edge_mean': edge_mean,\n",
    "        'x_std': x_std,\n",
    "        'y_std': y_std,\n",
    "        'edge_std': edge_std\n",
    "    }"
   ]
  },
  {
   "cell_type": "code",
   "execution_count": 20,
   "id": "a0d56934-8962-4b4a-a07a-31a5a3619519",
   "metadata": {},
   "outputs": [
    {
     "name": "stdout",
     "output_type": "stream",
     "text": [
      "518427.51 ms\n"
     ]
    }
   ],
   "source": [
    "stats = compute_stats_mono(x, y, edge)"
   ]
  },
  {
   "cell_type": "markdown",
   "id": "c1bcfaa3-167d-48ba-9ef6-18ead9b84e3f",
   "metadata": {},
   "source": [
    "## Multithreaded loading with Dask"
   ]
  },
  {
   "cell_type": "markdown",
   "id": "0f405df6-2e92-4fdc-ad5f-89d0161ea046",
   "metadata": {},
   "source": [
    "Again, most of the process in *Dask* is handled in lazy evaluation mode. Dask builds the graph and executes the command only if needed, proceeding with optimizations along the way"
   ]
  },
  {
   "cell_type": "code",
   "execution_count": 21,
   "id": "d5421802-3c80-4dac-8a61-d46b7208132b",
   "metadata": {},
   "outputs": [],
   "source": [
    "@utils.timing\n",
    "def compute_stats_multi(\n",
    "    x: da.Array, \n",
    "    y: da.Array, \n",
    "    edge: da.Array) -> Dict[Text, np.ndarray]:\n",
    "    \n",
    "    # Lazy evaluation\n",
    "    x_mean = da.mean(x, axis=0)\n",
    "    y_mean = da.mean(y, axis=0)\n",
    "    edge_mean = da.mean(edge, axis=0)\n",
    "\n",
    "    x_std = da.std(x, axis=0)\n",
    "    y_std = da.std(y, axis=0)\n",
    "    edge_std = da.std(edge, axis=0)\n",
    "    \n",
    "    # Scaling computation by increasing default number of workers\n",
    "    num_workers = 16\n",
    "    \n",
    "    x_mean.compute(num_workers=num_workers)\n",
    "    y_mean.compute(num_workers=num_workers)\n",
    "    edge_mean.compute(num_workers=num_workers)\n",
    "    \n",
    "    x_std.compute(num_workers=num_workers)\n",
    "    y_std.compute(num_workers=num_workers)\n",
    "    edge_std.compute(num_workers=num_workers)\n",
    "    \n",
    "    return {\n",
    "        'x_mean': x_mean,\n",
    "        'y_mean': y_mean,\n",
    "        'edge_mean': edge_mean,\n",
    "        'x_std': x_std,\n",
    "        'y_std': y_std,\n",
    "        'edge_std': edge_std\n",
    "    }"
   ]
  },
  {
   "cell_type": "code",
   "execution_count": 22,
   "id": "ca2fc5c5-fdca-4170-a024-a86c313f876c",
   "metadata": {},
   "outputs": [
    {
     "name": "stdout",
     "output_type": "stream",
     "text": [
      "171877.10 ms\n"
     ]
    }
   ],
   "source": [
    "stats = compute_stats_multi(x, y, edge)"
   ]
  },
  {
   "cell_type": "markdown",
   "id": "3c96ef7b-2a3d-4964-87e4-44bf5662687e",
   "metadata": {},
   "source": [
    "You should observe a 5x gain in computation time."
   ]
  },
  {
   "cell_type": "markdown",
   "id": "529ce3d7-8302-41d7-ac27-fef086fa8cd9",
   "metadata": {},
   "source": [
    "## Saving the Stats for later use"
   ]
  },
  {
   "cell_type": "markdown",
   "id": "3a6d4a6b-c3ef-497e-a2bd-cf5193c401a4",
   "metadata": {},
   "source": [
    "`torch.save` uses the Python Pickle format to save data. You can save anything pickable, which is not exactly a limitation since many pure Python code is pickle-serializable."
   ]
  },
  {
   "cell_type": "code",
   "execution_count": 23,
   "id": "97481da6-fbca-4947-aca2-9c1e8c83d0cf",
   "metadata": {},
   "outputs": [],
   "source": [
    "stats_path = osp.join(config.processed_data_path, f\"stats-{step}.pt\")\n",
    "torch.save(stats, stats_path)"
   ]
  },
  {
   "cell_type": "code",
   "execution_count": null,
   "id": "419bde07-d988-4ec8-84cd-94c01dd9299a",
   "metadata": {},
   "outputs": [],
   "source": []
  }
 ],
 "metadata": {
  "environment": {
   "kernel": "python3",
   "name": "pytorch-gpu.1-10.m89",
   "type": "gcloud",
   "uri": "gcr.io/deeplearning-platform-release/pytorch-gpu.1-10:m89"
  },
  "kernelspec": {
   "display_name": "Python 3",
   "language": "python",
   "name": "python3"
  },
  "language_info": {
   "codemirror_mode": {
    "name": "ipython",
    "version": 3
   },
   "file_extension": ".py",
   "mimetype": "text/x-python",
   "name": "python",
   "nbconvert_exporter": "python",
   "pygments_lexer": "ipython3",
   "version": "3.7.12"
  }
 },
 "nbformat": 4,
 "nbformat_minor": 5
}
