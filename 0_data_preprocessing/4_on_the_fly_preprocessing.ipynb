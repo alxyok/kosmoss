{
 "cells": [
  {
   "cell_type": "raw",
   "id": "c15fb0b3-888c-4713-b358-2c8961b177b1",
   "metadata": {},
   "source": [
    "MIT License\n",
    "\n",
    "Copyright (c) 2022 alxyok\n",
    "\n",
    "Permission is hereby granted, free of charge, to any person obtaining a copy\n",
    "of this software and associated documentation files (the \"Software\"), to deal\n",
    "in the Software without restriction, including without limitation the rights\n",
    "to use, copy, modify, merge, publish, distribute, sublicense, and/or sell\n",
    "copies of the Software, and to permit persons to whom the Software is\n",
    "furnished to do so, subject to the following conditions:\n",
    "\n",
    "The above copyright notice and this permission notice shall be included in all\n",
    "copies or substantial portions of the Software.\n",
    "\n",
    "THE SOFTWARE IS PROVIDED \"AS IS\", WITHOUT WARRANTY OF ANY KIND, EXPRESS OR\n",
    "IMPLIED, INCLUDING BUT NOT LIMITED TO THE WARRANTIES OF MERCHANTABILITY,\n",
    "FITNESS FOR A PARTICULAR PURPOSE AND NONINFRINGEMENT. IN NO EVENT SHALL THE\n",
    "AUTHORS OR COPYRIGHT HOLDERS BE LIABLE FOR ANY CLAIM, DAMAGES OR OTHER\n",
    "LIABILITY, WHETHER IN AN ACTION OF CONTRACT, TORT OR OTHERWISE, ARISING FROM,\n",
    "OUT OF OR IN CONNECTION WITH THE SOFTWARE OR THE USE OR OTHER DEALINGS IN THE\n",
    "SOFTWARE."
   ]
  },
  {
   "cell_type": "markdown",
   "id": "40589b09-ef34-4bd9-8540-1beadc29aa6d",
   "metadata": {},
   "source": [
    "****************************************************************"
   ]
  },
  {
   "cell_type": "markdown",
   "id": "523e7e12-dac9-47c4-8d67-a210ff80daea",
   "metadata": {},
   "source": [
    "# Data exploration"
   ]
  },
  {
   "cell_type": "code",
   "execution_count": 1,
   "id": "288f6e76-7246-4409-b7ea-2ce46e32d64b",
   "metadata": {},
   "outputs": [
    {
     "name": "stdout",
     "output_type": "stream",
     "text": [
      "The Zen of Python, by Tim Peters\n",
      "\n",
      "Beautiful is better than ugly.\n",
      "Explicit is better than implicit.\n",
      "Simple is better than complex.\n",
      "Complex is better than complicated.\n",
      "Flat is better than nested.\n",
      "Sparse is better than dense.\n",
      "Readability counts.\n",
      "Special cases aren't special enough to break the rules.\n",
      "Although practicality beats purity.\n",
      "Errors should never pass silently.\n",
      "Unless explicitly silenced.\n",
      "In the face of ambiguity, refuse the temptation to guess.\n",
      "There should be one-- and preferably only one --obvious way to do it.\n",
      "Although that way may not be obvious at first unless you're Dutch.\n",
      "Now is better than never.\n",
      "Although never is often better than *right* now.\n",
      "If the implementation is hard to explain, it's a bad idea.\n",
      "If the implementation is easy to explain, it may be a good idea.\n",
      "Namespaces are one honking great idea -- let's do more of those!\n"
     ]
    }
   ],
   "source": [
    "import this"
   ]
  },
  {
   "cell_type": "markdown",
   "id": "ec2c8819-af9e-40de-84c1-12d2361ce88a",
   "metadata": {},
   "source": [
    "### Quick-note on project directory\n",
    "\n",
    "The main root dir `~/3dcorrection` is structured as follow:\n",
    "* `data/` contains raw and preprocessed data. \n",
    "    * `raw/` is actually a symbolic link to the same repo for all candidates, DO NOT TOUCH IT!\n",
    "    * `processed/` will be created when data is preprocessed and will contain all transformed data\n",
    "* "
   ]
  },
  {
   "cell_type": "code",
   "execution_count": 1,
   "id": "6f1bf27e-f883-4624-a3ff-d7de8bfb7936",
   "metadata": {},
   "outputs": [],
   "source": [
    "import os\n",
    "\n",
    "root_path = os.path.join('/', 'home', 'jupyter', 'bootcamps')\n",
    "\n",
    "data_path = os.path.join(root_path, 'data')\n",
    "cache_path = os.path.join(data_path, 'cache')\n",
    "raw_data_path = os.path.join(data_path, 'raw')\n",
    "processed_data_path = os.path.join(data_path, 'processed')"
   ]
  },
  {
   "cell_type": "markdown",
   "id": "217c9021-6097-4edc-b596-ab9758bc32cb",
   "metadata": {},
   "source": [
    "### The 3D Correction Use-Case\n",
    "\n",
    "The European Centre for Medium-range Weather Forecasts (ECMWF) has developed a series of model giving the current best accurate parametrization scheme available—among those, SPARTACUS delivers **radiation** prediction over the globe. Because it is demanding in computations, a simpler, degraded model called TRIPLECLOUD is developed to satisfy the production environment constraints. \n",
    "\n",
    "Like most climate models, to leverage hardware acceleration, the choice is made to split the globe in blocks—this has the immediate consequence of losing the spatial correlation for a gain in parallelization. \n",
    "\n",
    "The unit block is a column that express values throughout the vertical dimension over a set of levels. Each level is"
   ]
  },
  {
   "cell_type": "markdown",
   "id": "c9d8e048-4c2e-42a6-bab2-35060ca35353",
   "metadata": {},
   "source": [
    "Now let's load the raw data we'll be using throughout this hands-on. Take a look at the [source notebook](https://git.ecmwf.int/projects/MLFET/repos/maelstrom-radiation/browse/climetlab_maelstrom_radiation/radiation.py) for a more info on the variables."
   ]
  },
  {
   "cell_type": "code",
   "execution_count": 2,
   "id": "8224a7f3-a75a-4db9-a341-5385bca10414",
   "metadata": {},
   "outputs": [
    {
     "data": {
      "text/plain": [
       "2"
      ]
     },
     "execution_count": 2,
     "metadata": {},
     "output_type": "execute_result"
    }
   ],
   "source": [
    "7 // 3"
   ]
  },
  {
   "cell_type": "code",
   "execution_count": 3,
   "id": "7fc45dac-f37f-47ab-a97e-230db85be802",
   "metadata": {},
   "outputs": [
    {
     "data": {
      "text/plain": [
       "1"
      ]
     },
     "execution_count": 3,
     "metadata": {},
     "output_type": "execute_result"
    }
   ],
   "source": [
    "7 % 3"
   ]
  },
  {
   "cell_type": "code",
   "execution_count": 4,
   "id": "dc04c874-1e5d-44c5-bf94-512f17a97c86",
   "metadata": {},
   "outputs": [],
   "source": [
    "import numpy as np\n",
    "import os.path as osp\n",
    "\n",
    "d = np.arange(15, dtype='float32')\n",
    "d = d.reshape((3, -1))"
   ]
  },
  {
   "cell_type": "code",
   "execution_count": 5,
   "id": "b03794c7-4230-44d6-9ceb-cd7c2b491360",
   "metadata": {},
   "outputs": [
    {
     "data": {
      "text/plain": [
       "array([[ 0.,  1.,  2.,  3.,  4.],\n",
       "       [ 5.,  6.,  7.,  8.,  9.],\n",
       "       [10., 11., 12., 13., 14.]], dtype=float32)"
      ]
     },
     "execution_count": 5,
     "metadata": {},
     "output_type": "execute_result"
    }
   ],
   "source": [
    "d"
   ]
  },
  {
   "cell_type": "code",
   "execution_count": 6,
   "id": "183711aa-41b2-4ee2-958e-dc0011d2a1cd",
   "metadata": {},
   "outputs": [],
   "source": [
    "path = osp.join(processed_data_path, 'test.data.npy')\n",
    "np.save(path, d)"
   ]
  },
  {
   "cell_type": "code",
   "execution_count": 7,
   "id": "219ec765-d01c-4bd8-aeec-5cb4154a3dcf",
   "metadata": {},
   "outputs": [
    {
     "data": {
      "text/plain": [
       "memmap([[2.2366853e+08, 1.2387478e-40, 3.4833497e-15, 4.4898648e+21,\n",
       "         1.5767864e-19],\n",
       "        [2.1442303e-07, 2.2228396e-15, 7.6830766e+31, 1.7177136e+19,\n",
       "         6.7425655e+22],\n",
       "        [1.5767864e-19, 1.8727951e+31, 2.2228527e-15, 2.7904159e+29,\n",
       "         1.5767847e-19]], dtype=float32)"
      ]
     },
     "execution_count": 7,
     "metadata": {},
     "output_type": "execute_result"
    }
   ],
   "source": [
    "np.memmap(path, mode='r', dtype='float32', shape=(3, 5))"
   ]
  },
  {
   "cell_type": "code",
   "execution_count": 8,
   "id": "1c9cf4de-74b1-4da2-b13e-4bcd9b90d361",
   "metadata": {},
   "outputs": [
    {
     "data": {
      "text/plain": [
       "array([[ 0.,  1.,  2.,  3.,  4.],\n",
       "       [ 5.,  6.,  7.,  8.,  9.],\n",
       "       [10., 11., 12., 13., 14.]], dtype=float32)"
      ]
     },
     "execution_count": 8,
     "metadata": {},
     "output_type": "execute_result"
    }
   ],
   "source": [
    "np.load(path)"
   ]
  },
  {
   "cell_type": "code",
   "execution_count": 9,
   "id": "91d1cf7c-9b2a-44da-9f3a-e39d97b59994",
   "metadata": {},
   "outputs": [],
   "source": [
    "import data\n",
    "import models"
   ]
  },
  {
   "cell_type": "code",
   "execution_count": 10,
   "id": "0d37bf0d-bf9f-4310-a753-921dce25835b",
   "metadata": {},
   "outputs": [],
   "source": [
    "datamodule = data.LitThreeDCorrectionDataModule(250, 256, 0)"
   ]
  },
  {
   "cell_type": "code",
   "execution_count": 11,
   "id": "e56d37be-377b-4410-a74b-9b3dbbca75c2",
   "metadata": {},
   "outputs": [],
   "source": [
    "model = models.LitGAT(\n",
    "    in_channels=20,\n",
    "    hidden_channels=100,\n",
    "    out_channels=4,\n",
    "    num_layers=2,\n",
    "    dropout=.5,\n",
    "    heads=4,\n",
    "    jk='last',\n",
    "    lr=1e-3,)"
   ]
  },
  {
   "cell_type": "code",
   "execution_count": null,
   "id": "cc18c2c3-4029-4604-aa95-5db73fd5900f",
   "metadata": {},
   "outputs": [],
   "source": [
    "import pytorch_lightning as pl\n",
    "\n",
    "trainer = pl.Trainer()"
   ]
  }
 ],
 "metadata": {
  "environment": {
   "kernel": "python3",
   "name": "pytorch-gpu.1-10.m89",
   "type": "gcloud",
   "uri": "gcr.io/deeplearning-platform-release/pytorch-gpu.1-10:m89"
  },
  "kernelspec": {
   "display_name": "Python 3",
   "language": "python",
   "name": "python3"
  },
  "language_info": {
   "codemirror_mode": {
    "name": "ipython",
    "version": 3
   },
   "file_extension": ".py",
   "mimetype": "text/x-python",
   "name": "python",
   "nbconvert_exporter": "python",
   "pygments_lexer": "ipython3",
   "version": "3.7.12"
  }
 },
 "nbformat": 4,
 "nbformat_minor": 5
}
