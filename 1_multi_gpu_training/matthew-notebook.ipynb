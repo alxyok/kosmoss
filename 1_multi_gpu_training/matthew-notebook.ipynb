{
 "cells": [
  {
   "cell_type": "code",
   "execution_count": null,
   "id": "e5eb4f9c",
   "metadata": {},
   "outputs": [],
   "source": [
    "#!pip install climetlab\n",
    "#!pip install climetlab-maelstrom-radiation"
   ]
  },
  {
   "cell_type": "code",
   "execution_count": 1,
   "id": "a26238b2",
   "metadata": {},
   "outputs": [],
   "source": [
    "import climetlab as cml\n",
    "import numpy as np \n",
    "import matplotlib.pyplot as plt"
   ]
  },
  {
   "cell_type": "markdown",
   "id": "e9b68990",
   "metadata": {},
   "source": [
    "# Radiation emulation\n",
    "### The task\n",
    "Radiative heating is a crucial physical process in weather and climate models. Solving the governing equations of radiative heating is expensive and as such many approximations or simplifications are made, e.g. radiative heating is often solved on a coarser spatial grid and less frequently in time than other model components. This dataset captures the inputs and outputs to the ecRad McICA scheme (https://github.com/ecmwf/ecrad) enabling users to build emulators of this physical process.\n",
    "### Why\n",
    "Accelerating radiation parametrisation would enable it to be run at higher spatial or temporal resolutions or reinvest these savings into other model improvements. \n",
    "### The challenge\n",
    "Emulate radiative heating with a minimal possible MSE while keeping the computational cost as low as possible.\n"
   ]
  },
  {
   "cell_type": "markdown",
   "id": "778bdcdb",
   "metadata": {},
   "source": [
    "# Loading the data\n",
    "Data can be loaded by either specifying a **subset**, e.g. 'tier-1' or by specifying the trio of **date, timestep, patch**.\n",
    "### Subset\n",
    "Currently 'tier-1' and '2020' are supported values. NB '2020' is huge, O(Tb) so download at your peril. Recommend using 'tier-1' to explore the data.\n",
    "### Date/timestep/patch\n",
    "These describe the start **date** of the numerical forecast used to generate the data, the **timestep** index of said forecast (note the time increment is 12 minutes, meaning step 125 corresponds to 25 hours after initialisation) and **patch** a spatial subset of globe (here the globe is divided into 16 equal regions).\n",
    "Valid values for each of the above can be found with **cmlds.valid_date** etc.\n",
    "Most start dates are from 2020, which we recommend as the training set, four start dates in 2019 are provided as validation/testing data.\n",
    "### If no descriptions are passed then tier-1 subset is loaded, corresponding to 2020-01-01/0/range(0,16,2)"
   ]
  },
  {
   "cell_type": "code",
   "execution_count": 2,
   "id": "df2e2b8c",
   "metadata": {},
   "outputs": [
    {
     "name": "stdout",
     "output_type": "stream",
     "text": [
      "By downloading data from this dataset, you agree to the terms and conditions defined at https://git.ecmwf.int/projects/MLFET/repos/maelstrom-radiation/LICENSE If you do not agree with such terms, do not download the data. \n",
      "Loading subset: tier-1\n",
      "Loading date: 20200101, timestep: 0, patch: [0, 2, 4, 6, 8, 10, 12, 14]\n"
     ]
    },
    {
     "data": {
      "application/vnd.jupyter.widget-view+json": {
       "model_id": "77be50f4011d43848264a86fbab950d0",
       "version_major": 2,
       "version_minor": 0
      },
      "text/plain": [
       "  0%|          | 0/8 [00:00<?, ?it/s]"
      ]
     },
     "metadata": {},
     "output_type": "display_data"
    },
    {
     "data": {
      "application/vnd.jupyter.widget-view+json": {
       "model_id": "ec19154d70474bfea5fc274ba9dfbe56",
       "version_major": 2,
       "version_minor": 0
      },
      "text/plain": [
       "  0%|          | 0/8 [00:00<?, ?it/s]"
      ]
     },
     "metadata": {},
     "output_type": "display_data"
    }
   ],
   "source": [
    "cmlds = cml.load_dataset(\n",
    "        'maelstrom-radiation',subset='tier-1'\n",
    "    )"
   ]
  },
  {
   "cell_type": "code",
   "execution_count": 3,
   "id": "1113f8fa",
   "metadata": {},
   "outputs": [
    {
     "name": "stdout",
     "output_type": "stream",
     "text": [
      "['20200101', '20200131', '20200301', '20200331', '20200430', '20200530', '20200629', '20200729', '20200828', '20200927', '20201027', '20201126', '20201226', '20190131', '20190531', '20190829', '20191028']\n"
     ]
    }
   ],
   "source": [
    "print(cmlds.valid_date)"
   ]
  },
  {
   "cell_type": "markdown",
   "id": "f7b4440e",
   "metadata": {},
   "source": [
    "# Exploring the data\n",
    "The dataset object supports the **to_xarray** method, which produces an xarray handle on the dataset. "
   ]
  },
  {
   "cell_type": "code",
   "execution_count": 4,
   "id": "b611c2f6",
   "metadata": {},
   "outputs": [],
   "source": [
    "arrays = cmlds.to_xarray()"
   ]
  },
  {
   "cell_type": "markdown",
   "id": "72cd4c48",
   "metadata": {},
   "source": [
    "Data comes in 4 shapes:\n",
    "1. Single level data, which has one dimension the column, where each column is a separate example for the machine learning.\n",
    "2. Model levels, e.g. q (speicific humidity), [column,137] shape, describing the field on each model level in the column.\n",
    "3. Half levels, e.g. temperature_hl, [column,138] shape, the interfaces and boundaries to each of the 137 model levels in the atmospheric model. Often used within the current model code to calculate vertical derivatives.\n",
    "4. Interfaces, **only** overlap_param, like half-levels but without boundary information."
   ]
  },
  {
   "cell_type": "code",
   "execution_count": 5,
   "id": "15dc2270",
   "metadata": {},
   "outputs": [
    {
     "name": "stdout",
     "output_type": "stream",
     "text": [
      "<xarray.DataArray 'solar_irradiance' (column: 135680)>\n",
      "array([1406.9596, 1406.9596, 1406.9596, ..., 1406.9596, 1406.9596,\n",
      "       1406.9596], dtype=float32)\n",
      "Dimensions without coordinates: column\n",
      "Attributes:\n",
      "    long_name:  Solar irradiance at Earth's orbit\n",
      "    units:      W m-2\n"
     ]
    }
   ],
   "source": [
    "print(arrays['solar_irradiance'])"
   ]
  },
  {
   "cell_type": "code",
   "execution_count": 6,
   "id": "665f21e2",
   "metadata": {},
   "outputs": [
    {
     "name": "stdout",
     "output_type": "stream",
     "text": [
      "<xarray.DataArray 'q' (column: 135680, level: 137)>\n",
      "dask.array<concatenate, shape=(135680, 137), dtype=float32, chunksize=(16960, 137), chunktype=numpy.ndarray>\n",
      "Dimensions without coordinates: column, level\n",
      "Attributes:\n",
      "    long_name:  Specific humidity\n",
      "    units:      1\n"
     ]
    }
   ],
   "source": [
    "print(arrays['q'])"
   ]
  },
  {
   "cell_type": "code",
   "execution_count": 7,
   "id": "726956bc",
   "metadata": {},
   "outputs": [
    {
     "name": "stdout",
     "output_type": "stream",
     "text": [
      "<xarray.DataArray 'temperature_hl' (column: 135680, half_level: 138)>\n",
      "dask.array<concatenate, shape=(135680, 138), dtype=float32, chunksize=(16960, 138), chunktype=numpy.ndarray>\n",
      "Dimensions without coordinates: column, half_level\n",
      "Attributes:\n",
      "    long_name:  Temperature\n",
      "    units:      K\n"
     ]
    }
   ],
   "source": [
    "print(arrays['temperature_hl'])"
   ]
  },
  {
   "cell_type": "code",
   "execution_count": 8,
   "id": "30e02992",
   "metadata": {},
   "outputs": [
    {
     "name": "stdout",
     "output_type": "stream",
     "text": [
      "<xarray.DataArray 'overlap_param' (column: 135680, level_interface: 136)>\n",
      "dask.array<concatenate, shape=(135680, 136), dtype=float32, chunksize=(16960, 136), chunktype=numpy.ndarray>\n",
      "Dimensions without coordinates: column, level_interface\n",
      "Attributes:\n",
      "    long_name:  Cloud overlap parameter\n",
      "    units:      1\n"
     ]
    }
   ],
   "source": [
    "print(arrays['overlap_param'])"
   ]
  },
  {
   "cell_type": "markdown",
   "id": "f80e7b16",
   "metadata": {},
   "source": [
    "## What variables are there?"
   ]
  },
  {
   "cell_type": "code",
   "execution_count": 9,
   "id": "fdc6838c",
   "metadata": {},
   "outputs": [
    {
     "name": "stdout",
     "output_type": "stream",
     "text": [
      "solar_irradiance\n",
      "lat\n",
      "lon\n",
      "skin_temperature\n",
      "cos_solar_zenith_angle\n",
      "sw_albedo\n",
      "sw_albedo_direct\n",
      "lw_emissivity\n",
      "iseed\n",
      "pressure_hl\n",
      "temperature_hl\n",
      "q\n",
      "o3_mmr\n",
      "co2_vmr\n",
      "n2o_vmr\n",
      "ch4_vmr\n",
      "o2_vmr\n",
      "cfc11_vmr\n",
      "cfc12_vmr\n",
      "hcfc22_vmr\n",
      "ccl4_vmr\n",
      "cloud_fraction\n",
      "q_liquid\n",
      "q_ice\n",
      "re_liquid\n",
      "re_ice\n",
      "overlap_param\n",
      "fractional_std\n",
      "inv_cloud_effective_size\n",
      "aerosol_mmr\n",
      "flux_dn_sw\n",
      "flux_up_sw\n",
      "flux_dn_lw\n",
      "flux_up_lw\n",
      "hr_sw\n",
      "hr_lw\n"
     ]
    }
   ],
   "source": [
    "for key in arrays:\n",
    "    print(key)"
   ]
  },
  {
   "cell_type": "markdown",
   "id": "e8cba268",
   "metadata": {},
   "source": [
    "## Quite a lot of variables!\n",
    "Of the above, the last 6 capture the outputs of radiative heating, namely the heating fluxes and heating rates. Each is divided into  short-wave (sw, solar) and long-wave (lw) components, with the fluxes further divided into downwards and upwards fluxes. Fluxes are described on half-levels. The heating rates are derived from the fluxes by calculating the net flux and calculating the gradient of net flux with respect to pressure. Mathematically this is:\n",
    "\n",
    "Heating_rate[i] = - g/c_p * (flux_dn[i] + flux_up[i] - flux_dn[i+1] - flux_up[i+1]) / (hl_pressure[i] - hl_pressure[i+1])\n",
    "\n",
    "The many inputs describe the state of the atmosphere, including the humidity, aerosol concentrations, solar irradiance and fraction of the grid box that is cloud.\n",
    "\n",
    "Several of the varibles: \n",
    "\n",
    "lat, lon, iseed\n",
    "\n",
    "are not used by the current model and therefore should have limited predictive power. \n",
    "\n",
    "A few of the variables are independent of time and horizontal space in the scope of this dataset, and could therefore be dropped. This includes some of the aerosol mixing ratios.\n",
    "\n",
    "## What should I predict\n",
    "\n",
    "The current model directly predicts fluxes and then the heating rates are derived using the above formula. The heating rates, plus fluxes at the boundaries (surface and top of atmosphere) are the fields actually used in the evolution of the weather/climate model. Previous work has identified some stability issues with deriving the heating rates from machine learning models of fluxes, this can be partially understood by looking at a profile of pressure and seeing that this field (the denominator in the above expression) varies by several orders of magnitude.\n",
    "\n",
    "We therefore suggested a curate set of outputs, which can be accessed by creating the dataset as below, with **minimal_outputs = True**"
   ]
  },
  {
   "cell_type": "code",
   "execution_count": 10,
   "id": "02689b6d",
   "metadata": {},
   "outputs": [
    {
     "name": "stdout",
     "output_type": "stream",
     "text": [
      "Loading subset: tier-1\n",
      "Loading date: 20200101, timestep: 0, patch: [0, 2, 4, 6, 8, 10, 12, 14]\n"
     ]
    },
    {
     "data": {
      "application/vnd.jupyter.widget-view+json": {
       "model_id": "0aa9585e7aeb496ab05639bf89433f99",
       "version_major": 2,
       "version_minor": 0
      },
      "text/plain": [
       "  0%|          | 0/8 [00:00<?, ?it/s]"
      ]
     },
     "metadata": {},
     "output_type": "display_data"
    },
    {
     "data": {
      "application/vnd.jupyter.widget-view+json": {
       "model_id": "0083ae25ca6644c786d07ce78afee268",
       "version_major": 2,
       "version_minor": 0
      },
      "text/plain": [
       "  0%|          | 0/8 [00:00<?, ?it/s]"
      ]
     },
     "metadata": {},
     "output_type": "display_data"
    },
    {
     "name": "stdout",
     "output_type": "stream",
     "text": [
      "<xarray.DataArray 'hr_sw' (column: 135680, level: 137)>\n",
      "dask.array<truediv, shape=(135680, 137), dtype=float32, chunksize=(16960, 137), chunktype=numpy.ndarray>\n",
      "Dimensions without coordinates: column, level\n",
      "<xarray.DataArray 'fluxes_sw' (column: 135680, boundaries: 3)>\n",
      "dask.array<concatenate, shape=(135680, 3), dtype=float32, chunksize=(16960, 1), chunktype=numpy.ndarray>\n",
      "Dimensions without coordinates: column, boundaries\n",
      "Attributes:\n",
      "    long_name:  Downwelling shortwave flux\n",
      "    units:      W m-2\n"
     ]
    }
   ],
   "source": [
    "cmlds = cml.load_dataset(\n",
    "        'maelstrom-radiation',subset='tier-1',minimal_outputs=True\n",
    "    )\n",
    "arrays = cmlds.to_xarray()\n",
    "print(arrays['hr_sw'])\n",
    "print(arrays['fluxes_sw'])"
   ]
  },
  {
   "cell_type": "markdown",
   "id": "7440eaf2",
   "metadata": {},
   "source": [
    "this extracts only the minimal required fluxes from the boundaries (flux upwards at top of atmosphere + fluxes downwards and upwards at the surface) in combination with heating rates. \n",
    "\n",
    "You could also start by attempting to only predict the sw or lw components, these are solved separately in the existing model but there may be economies of scale in predicting both together.\n",
    "\n",
    "## That's a lot of input predictors\n",
    "Agreed! But they are theoretically necessary, if you want a different view of the inputs you can use:"
   ]
  },
  {
   "cell_type": "code",
   "execution_count": 11,
   "id": "61e640a6",
   "metadata": {},
   "outputs": [
    {
     "name": "stdout",
     "output_type": "stream",
     "text": [
      "Loading subset: tier-1\n",
      "Loading date: 20200101, timestep: 0, patch: [0, 2, 4, 6, 8, 10, 12, 14]\n"
     ]
    },
    {
     "data": {
      "application/vnd.jupyter.widget-view+json": {
       "model_id": "89e34b6f6a9f4e5b9907998f306bc070",
       "version_major": 2,
       "version_minor": 0
      },
      "text/plain": [
       "  0%|          | 0/8 [00:00<?, ?it/s]"
      ]
     },
     "metadata": {},
     "output_type": "display_data"
    },
    {
     "data": {
      "application/vnd.jupyter.widget-view+json": {
       "model_id": "5049cffd5471450caea488bad111216e",
       "version_major": 2,
       "version_minor": 0
      },
      "text/plain": [
       "  0%|          | 0/8 [00:00<?, ?it/s]"
      ]
     },
     "metadata": {},
     "output_type": "display_data"
    },
    {
     "name": "stdout",
     "output_type": "stream",
     "text": [
      "<xarray.Dataset>\n",
      "Dimensions:       (boundaries: 3, col_variable: 27, column: 135680, half_level: 138, hl_variable: 2, inter_variable: 1, level: 137, level_interface: 136, p_variable: 1, sca_variable: 17)\n",
      "Dimensions without coordinates: boundaries, col_variable, column, half_level, hl_variable, inter_variable, level, level_interface, p_variable, sca_variable\n",
      "Data variables:\n",
      "    sca_inputs    (column, sca_variable) float32 dask.array<chunksize=(16960, 1), meta=np.ndarray>\n",
      "    col_inputs    (column, level, col_variable) float32 dask.array<chunksize=(16960, 137, 1), meta=np.ndarray>\n",
      "    hl_inputs     (column, half_level, hl_variable) float32 dask.array<chunksize=(16960, 138, 1), meta=np.ndarray>\n",
      "    pressure_hl   (column, half_level, p_variable) float32 dask.array<chunksize=(16960, 138, 1), meta=np.ndarray>\n",
      "    inter_inputs  (column, level_interface, inter_variable) float32 dask.array<chunksize=(16960, 136, 1), meta=np.ndarray>\n",
      "    fluxes_sw     (column, boundaries) float32 dask.array<chunksize=(16960, 1), meta=np.ndarray>\n",
      "    fluxes_lw     (column, boundaries) float32 dask.array<chunksize=(16960, 1), meta=np.ndarray>\n",
      "    hr_sw         (column, level) float32 dask.array<chunksize=(16960, 137), meta=np.ndarray>\n",
      "    hr_lw         (column, level) float32 dask.array<chunksize=(16960, 137), meta=np.ndarray>\n"
     ]
    }
   ],
   "source": [
    "cmlds = cml.load_dataset(\n",
    "        'maelstrom-radiation',subset = 'tier-1',minimal_outputs = True,\n",
    "        raw_inputs = False,\n",
    "    )\n",
    "arrays = cmlds.to_xarray()\n",
    "print(arrays)"
   ]
  },
  {
   "cell_type": "markdown",
   "id": "827f1db9",
   "metadata": {},
   "source": [
    "here we have gathered variables of equivalent shape together into 5 input arrays:\n",
    "scalar inputs, column inputs (on model levels), half-level (hl) inputs, interface level inputs and hl pressure.\n",
    "hl pressure features both in the hl_inputs and hl_pressure, in case users want to normalise the values in hl_inputs but still pass the hl_pressure field for internal use in calculating the heating rate.\n",
    "\n",
    "If you want to see in what order these are packed, you can see this by looking at "
   ]
  },
  {
   "cell_type": "code",
   "execution_count": 12,
   "id": "dd8bfbef",
   "metadata": {},
   "outputs": [
    {
     "name": "stdout",
     "output_type": "stream",
     "text": [
      "['skin_temperature', 'cos_solar_zenith_angle', 'sw_albedo', 'sw_albedo_direct', 'lw_emissivity', 'solar_irradiance']\n",
      "['q', 'o3_mmr', 'co2_vmr', 'n2o_vmr', 'ch4_vmr', 'o2_vmr', 'cfc11_vmr', 'cfc12_vmr', 'hcfc22_vmr', 'ccl4_vmr', 'cloud_fraction', 'aerosol_mmr', 'q_liquid', 'q_ice', 're_liquid', 're_ice']\n",
      "['temperature_hl', 'pressure_hl']\n",
      "['overlap_param']\n"
     ]
    }
   ],
   "source": [
    "print(cmlds.isca_keys)\n",
    "print(cmlds.icol_keys)\n",
    "print(cmlds.ihl_keys)\n",
    "print(cmlds.iinter_keys)"
   ]
  },
  {
   "cell_type": "markdown",
   "id": "2aa97111",
   "metadata": {},
   "source": [
    "# Machine learning this dataset\n",
    "We provide two views of this dataset, the first is describe above and is the best venue for exploring the dataset. For machine learning efficiently you may find the many variables are not stored efficiently so we provide another method. We have shuffled and rewritten the above data into the TFRecord format (https://www.tensorflow.org/tutorials/load_data/tfrecord) the data has been packaged into input groups described above. We can download and use this data in the following way."
   ]
  },
  {
   "cell_type": "code",
   "execution_count": 13,
   "id": "ab00caa2",
   "metadata": {},
   "outputs": [
    {
     "name": "stdout",
     "output_type": "stream",
     "text": [
      "By downloading data from this dataset, you agree to the terms and conditions defined at https://git.ecmwf.int/projects/MLFET/repos/maelstrom-radiation/LICENSE If you do not agree with such terms, do not download the data. \n",
      "Minimal call:\n",
      "cml.load_dataset('maelstrom-radiation-tf') \n",
      "Optional arguments:\n",
      "Specify subset, subset = 'tier-1' (NB different subset to raw radiation)\n",
      "Or specify timestep/filenum\n",
      "Valid values found in .valid_timstep etc\n",
      "To remove items from input/outputs change input_fields/output_fields\n",
      "e.g. ouput_fields = ['sw','hr_sw'] to build a model only predicting the sw heating\n",
      "To normalise the input data using the mean/std from the whole 2020 dataset use, norm = True\n",
      "To reduce to minimal output components, minimal_outputs = True \n",
      "\n"
     ]
    }
   ],
   "source": [
    "cmlds_tf = cml.load_dataset(\n",
    "        'maelstrom-radiation-tf',subset = 'tier-1'\n",
    "    )\n",
    "#Note that because the TFRecord version of the dataset has been shuffled, the 'tier-1' \n",
    "#version is not the same examples as the 'tier-1' subset of the radiation dataset.\n",
    "\n",
    "print(cmlds_tf.documentation)"
   ]
  },
  {
   "cell_type": "markdown",
   "id": "4ebd0057",
   "metadata": {},
   "source": [
    "The main method on the maelstrom-radiation-tf dataset is **to_tfdataset**, which produces a Tensorflow dataset object.\n",
    "These can be passed to Keras' **.fit** or be iterated over directly as below."
   ]
  },
  {
   "cell_type": "code",
   "execution_count": 14,
   "id": "c9b554c7",
   "metadata": {},
   "outputs": [],
   "source": [
    "tfds = cmlds_tf.to_tfdataset(batch_size=256,repeat=False)"
   ]
  },
  {
   "cell_type": "code",
   "execution_count": 15,
   "id": "be7242db",
   "metadata": {},
   "outputs": [
    {
     "name": "stdout",
     "output_type": "stream",
     "text": [
      "0\n",
      "10\n",
      "20\n",
      "30\n",
      "40\n",
      "50\n",
      "60\n",
      "70\n",
      "80\n",
      "90\n",
      "100\n",
      "110\n",
      "120\n",
      "130\n",
      "140\n",
      "150\n",
      "160\n",
      "170\n",
      "180\n",
      "190\n",
      "200\n",
      "210\n",
      "220\n",
      "230\n",
      "240\n",
      "250\n",
      "260\n",
      "264\n"
     ]
    }
   ],
   "source": [
    "for i,(inputs,outputs) in enumerate(tfds):\n",
    "    if i%10==0:\n",
    "        print(i)\n",
    "print(i)"
   ]
  },
  {
   "cell_type": "markdown",
   "id": "3b3e90b9",
   "metadata": {},
   "source": [
    "the **tier-1** dataset contains 67,584 examples or 264 batches of 256. **NB** the tier-1 subset does not correspond to the same subset used in the `maelstrom-radiation` dataset (due to the shuffling).\n",
    "Examining a batch of data, this is a tuple of inputs and outputs. The inputs correspond to the groups of equal shaped variables described above. For the outputs, the only difference is that the down and up fluxes have been concatenated together (in order downwards, upwards)."
   ]
  },
  {
   "cell_type": "code",
   "execution_count": 16,
   "id": "133ae325",
   "metadata": {},
   "outputs": [
    {
     "name": "stdout",
     "output_type": "stream",
     "text": [
      "dict_keys(['sca_inputs', 'col_inputs', 'hl_inputs', 'inter_inputs', 'pressure_hl'])\n",
      "dict_keys(['sw', 'lw', 'hr_sw', 'hr_lw'])\n"
     ]
    }
   ],
   "source": [
    "print(inputs.keys())\n",
    "print(outputs.keys())"
   ]
  },
  {
   "cell_type": "markdown",
   "id": "23324e15",
   "metadata": {},
   "source": [
    "## What should I use?\n",
    "We've presented many options of data variations. We suggest using the TFRecords dataset and the settings below, which normalise the input arrays (using elemental mean and standard deviation from the complete 2020 catelogue) and create a minimal output predictors corresponding to the fluxes as the boundaries plus the heating rates. If you have the disk space, consider downloading (many!) more TFRecord files."
   ]
  },
  {
   "cell_type": "code",
   "execution_count": 17,
   "id": "1043dace",
   "metadata": {},
   "outputs": [
    {
     "name": "stdout",
     "output_type": "stream",
     "text": [
      "Loading normalisation arrays\n"
     ]
    },
    {
     "data": {
      "application/vnd.jupyter.widget-view+json": {
       "model_id": "36abe779e2b64a62b76dd4aaa2195b1a",
       "version_major": 2,
       "version_minor": 0
      },
      "text/plain": [
       "  0%|          | 0/5 [00:00<?, ?it/s]"
      ]
     },
     "metadata": {},
     "output_type": "display_data"
    }
   ],
   "source": [
    "cmlds_tf = cml.load_dataset(\n",
    "        'maelstrom-radiation-tf',subset = 'tier-1',norm = True, minimal_outputs = True\n",
    "    )\n",
    "tfds = cmlds_tf.to_tfdataset(batch_size=256,repeat=False)"
   ]
  },
  {
   "cell_type": "markdown",
   "id": "5057e69c",
   "metadata": {},
   "source": [
    "## Machine learning example\n",
    "Below we will design a dense feed-forward architecture which will predict 4 variables, the boundary fluxes and heating rate profiles of both shortwave and longwave heating.\n",
    "\n",
    "In this example we have a mismatch between the number of degrees of freedom and the number of training examples, so we might expect overfitting."
   ]
  },
  {
   "cell_type": "code",
   "execution_count": 18,
   "id": "b5d713fe",
   "metadata": {},
   "outputs": [],
   "source": [
    "import tensorflow as tf\n",
    "from tensorflow.keras.layers import Flatten,Dense,Concatenate,Input\n",
    "from tensorflow import nn\n",
    "from tensorflow.keras.models import Model\n",
    "from tensorflow.keras.optimizers import Adam\n",
    "\n",
    "def densenet_minimal(inp_spec,width=256,depth=5):\n",
    "    #Assume inputs have the order\n",
    "    #scalar, column, hl, inter, pressure_hl\n",
    "    kw = 5 \n",
    "    all_inp = []\n",
    "    for k in inp_spec.keys():\n",
    "        all_inp.append(Input(inp_spec[k].shape[1:],name=k))\n",
    "    \n",
    "    col_inp = Flatten()(all_inp[1])\n",
    "    hl_inp = Flatten()(all_inp[2])\n",
    "    inter_inp = Flatten()(all_inp[3])\n",
    "    hl_p = all_inp[-1]\n",
    "    flat_p = Flatten()(hl_p)\n",
    "    dense = Concatenate(axis=-1)([all_inp[0],col_inp,hl_inp,inter_inp])\n",
    "    # dense = BatchNormalization()(dense)\n",
    "    for i in range(depth):\n",
    "        dense = Dense(width,activation=nn.swish)(dense)\n",
    "\n",
    "    dense_sw = Dense(width//2,activation=nn.swish)(dense)\n",
    "    dense_lw = Dense(width//2,activation=nn.swish)(dense)\n",
    "\n",
    "    sw = Dense(3,activation='linear',name='sw')(dense_sw)\n",
    "    hr_sw = Dense(137,activation='linear',name='hr_sw')(dense_sw)\n",
    "\n",
    "    lw = Dense(3,activation='linear',name='lw')(dense_lw)\n",
    "    hr_lw = Dense(137,activation='linear',name='hr_lw')(dense_lw)\n",
    "\n",
    "    return all_inp,[sw,hr_sw,lw,hr_lw]\n"
   ]
  },
  {
   "cell_type": "markdown",
   "id": "38c54c98",
   "metadata": {},
   "source": [
    "**Note** below you will see that we have an imbalance in the values of the boundary fluxes (dubbed sw and lw) and the heating rates. To combat this we use **large loss weights** on the heating rate terms."
   ]
  },
  {
   "cell_type": "code",
   "execution_count": 19,
   "id": "4d54ab1e",
   "metadata": {},
   "outputs": [
    {
     "name": "stdout",
     "output_type": "stream",
     "text": [
      "Model: \"model\"\n",
      "__________________________________________________________________________________________________\n",
      "Layer (type)                    Output Shape         Param #     Connected to                     \n",
      "==================================================================================================\n",
      "col_inputs (InputLayer)         [(None, 137, 27)]    0                                            \n",
      "__________________________________________________________________________________________________\n",
      "hl_inputs (InputLayer)          [(None, 138, 2)]     0                                            \n",
      "__________________________________________________________________________________________________\n",
      "inter_inputs (InputLayer)       [(None, 136, 1)]     0                                            \n",
      "__________________________________________________________________________________________________\n",
      "sca_inputs (InputLayer)         [(None, 17)]         0                                            \n",
      "__________________________________________________________________________________________________\n",
      "flatten (Flatten)               (None, 3699)         0           col_inputs[0][0]                 \n",
      "__________________________________________________________________________________________________\n",
      "flatten_1 (Flatten)             (None, 276)          0           hl_inputs[0][0]                  \n",
      "__________________________________________________________________________________________________\n",
      "flatten_2 (Flatten)             (None, 136)          0           inter_inputs[0][0]               \n",
      "__________________________________________________________________________________________________\n",
      "concatenate (Concatenate)       (None, 4128)         0           sca_inputs[0][0]                 \n",
      "                                                                 flatten[0][0]                    \n",
      "                                                                 flatten_1[0][0]                  \n",
      "                                                                 flatten_2[0][0]                  \n",
      "__________________________________________________________________________________________________\n",
      "dense (Dense)                   (None, 256)          1057024     concatenate[0][0]                \n",
      "__________________________________________________________________________________________________\n",
      "dense_1 (Dense)                 (None, 256)          65792       dense[0][0]                      \n",
      "__________________________________________________________________________________________________\n",
      "dense_2 (Dense)                 (None, 256)          65792       dense_1[0][0]                    \n",
      "__________________________________________________________________________________________________\n",
      "dense_3 (Dense)                 (None, 256)          65792       dense_2[0][0]                    \n",
      "__________________________________________________________________________________________________\n",
      "dense_4 (Dense)                 (None, 256)          65792       dense_3[0][0]                    \n",
      "__________________________________________________________________________________________________\n",
      "dense_5 (Dense)                 (None, 128)          32896       dense_4[0][0]                    \n",
      "__________________________________________________________________________________________________\n",
      "dense_6 (Dense)                 (None, 128)          32896       dense_4[0][0]                    \n",
      "__________________________________________________________________________________________________\n",
      "pressure_hl (InputLayer)        [(None, 138, 1)]     0                                            \n",
      "__________________________________________________________________________________________________\n",
      "sw (Dense)                      (None, 3)            387         dense_5[0][0]                    \n",
      "__________________________________________________________________________________________________\n",
      "hr_sw (Dense)                   (None, 137)          17673       dense_5[0][0]                    \n",
      "__________________________________________________________________________________________________\n",
      "lw (Dense)                      (None, 3)            387         dense_6[0][0]                    \n",
      "__________________________________________________________________________________________________\n",
      "hr_lw (Dense)                   (None, 137)          17673       dense_6[0][0]                    \n",
      "==================================================================================================\n",
      "Total params: 1,422,104\n",
      "Trainable params: 1,422,104\n",
      "Non-trainable params: 0\n",
      "__________________________________________________________________________________________________\n"
     ]
    }
   ],
   "source": [
    "(inputs,outputs) = densenet_minimal(tfds.element_spec[0])\n",
    "losses = {'sw':'mse','lw':'mse','hr_sw':'mse','hr_lw':'mse'}\n",
    "loss_weights=[1,1,10000,10000]\n",
    "mod= Model(inputs=inputs,outputs=outputs)\n",
    "opt = Adam(10**(-4))\n",
    "mod.compile(loss=losses, optimizer=opt,loss_weights=loss_weights)\n",
    "mod.summary()\n"
   ]
  },
  {
   "cell_type": "code",
   "execution_count": 20,
   "id": "d0918a22",
   "metadata": {
    "collapsed": true
   },
   "outputs": [
    {
     "name": "stdout",
     "output_type": "stream",
     "text": [
      "265/265 [==============================] - 8s 31ms/step - loss: 275944015.4415 - sw_loss: 36363.6250 - hr_sw_loss: 127.9402 - lw_loss: 27411.5527 - hr_lw_loss: 179.20217708930.6631 - sw_loss:\n",
      "265/265 [==============================] - 6s 24ms/step - loss: 3886508.3542 - sw_loss: 30782.9629 - hr_sw_loss: 5.4023 - lw_loss: 380.0677 - hr_lw_loss: 5.5043\n",
      "265/265 [==============================] - 6s 24ms/step - loss: 2010727.5538 - sw_loss: 30151.3633 - hr_sw_loss: 6.3287 - lw_loss: 195.9499 - hr_lw_loss: 2.1072\n",
      "265/265 [==============================] - 6s 24ms/step - loss: 1545040.8941 - sw_loss: 29660.3691 - hr_sw_loss: 4.9089 - lw_loss: 150.7233 - hr_lw_loss: 0.8143\n",
      "265/265 [==============================] - 6s 24ms/step - loss: 1269870.6351 - sw_loss: 29182.3613 - hr_sw_loss: 3.2739 - lw_loss: 123.5383 - hr_lw_loss: 0.5302\n",
      "265/265 [==============================] - 6s 24ms/step - loss: 1042948.4290 - sw_loss: 28684.0215 - hr_sw_loss: 2.0824 - lw_loss: 100.9368 - hr_lw_loss: 0.4895\n",
      "265/265 [==============================] - 6s 24ms/step - loss: 831548.8417 - sw_loss: 27926.3398 - hr_sw_loss: 1.3337 - lw_loss: 79.8805 - hr_lw_loss: 0.4816\n",
      "265/265 [==============================] - 6s 24ms/step - loss: 678800.0017 - sw_loss: 26928.5273 - hr_sw_loss: 1.1398 - lw_loss: 64.8061 - hr_lw_loss: 0.3809\n",
      "265/265 [==============================] - 6s 24ms/step - loss: 588411.5026 - sw_loss: 26029.7402 - hr_sw_loss: 1.0518 - lw_loss: 55.9364 - hr_lw_loss: 0.3016\n",
      "265/265 [==============================] - 6s 24ms/step - loss: 541898.7540 - sw_loss: 25295.6543 - hr_sw_loss: 0.9219 - lw_loss: 51.4068 - hr_lw_loss: 0.2534\n",
      "265/265 [==============================] - 6s 24ms/step - loss: 489648.5934 - sw_loss: 24527.6445 - hr_sw_loss: 0.7898 - lw_loss: 46.2924 - hr_lw_loss: 0.2196\n",
      "265/265 [==============================] - 6s 24ms/step - loss: 458237.9671 - sw_loss: 23740.9844 - hr_sw_loss: 0.7371 - lw_loss: 43.2553 - hr_lw_loss: 0.1944\n",
      "265/265 [==============================] - 6s 24ms/step - loss: 432636.4860 - sw_loss: 22953.5781 - hr_sw_loss: 0.6877 - lw_loss: 40.7922 - hr_lw_loss: 0.1760\n",
      "265/265 [==============================] - 6s 24ms/step - loss: 411619.4552 - sw_loss: 22147.4102 - hr_sw_loss: 0.6603 - lw_loss: 38.7851 - hr_lw_loss: 0.1620\n",
      "265/265 [==============================] - 6s 24ms/step - loss: 387187.3052 - sw_loss: 21267.0723 - hr_sw_loss: 0.6082 - lw_loss: 36.4418 - hr_lw_loss: 0.1502\n",
      "265/265 [==============================] - 6s 24ms/step - loss: 374031.1465 - sw_loss: 20427.1621 - hr_sw_loss: 0.5682 - lw_loss: 35.2192 - hr_lw_loss: 0.1411\n",
      "265/265 [==============================] - 6s 24ms/step - loss: 366520.2390 - sw_loss: 19526.0254 - hr_sw_loss: 0.5273 - lw_loss: 34.5646 - hr_lw_loss: 0.1348\n",
      "265/265 [==============================] - 6s 24ms/step - loss: 360972.4618 - sw_loss: 18635.3574 - hr_sw_loss: 0.5070 - lw_loss: 34.1037 - hr_lw_loss: 0.1299\n",
      "265/265 [==============================] - 6s 24ms/step - loss: 344779.6306 - sw_loss: 17757.5371 - hr_sw_loss: 0.4621 - lw_loss: 32.5790 - hr_lw_loss: 0.1231\n",
      "265/265 [==============================] - 6s 24ms/step - loss: 331256.5202 - sw_loss: 16850.3711 - hr_sw_loss: 0.4337 - lw_loss: 31.3231 - hr_lw_loss: 0.1174\n",
      "265/265 [==============================] - 7s 25ms/step - loss: 312062.6384 - sw_loss: 15984.5527 - hr_sw_loss: 0.4118 - lw_loss: 29.4944 - hr_lw_loss: 0.1134\n",
      "265/265 [==============================] - 6s 24ms/step - loss: 307543.4374 - sw_loss: 15091.8027 - hr_sw_loss: 0.3774 - lw_loss: 29.1358 - hr_lw_loss: 0.1093\n",
      "265/265 [==============================] - 6s 24ms/step - loss: 297767.6950 - sw_loss: 14219.8916 - hr_sw_loss: 0.3572 - lw_loss: 28.2489 - hr_lw_loss: 0.1059\n",
      "265/265 [==============================] - 6s 25ms/step - loss: 301696.9949 - sw_loss: 13440.8730 - hr_sw_loss: 0.3326 - lw_loss: 28.7228 - hr_lw_loss: 0.1028\n",
      "265/265 [==============================] - 7s 25ms/step - loss: 288561.2412 - sw_loss: 12651.0605 - hr_sw_loss: 0.3117 - lw_loss: 27.4919 - hr_lw_loss: 0.0991\n",
      "265/265 [==============================] - 6s 24ms/step - loss: 276197.6133 - sw_loss: 11882.8193 - hr_sw_loss: 0.2898 - lw_loss: 26.3351 - hr_lw_loss: 0.0963\n",
      "265/265 [==============================] - 6s 24ms/step - loss: 281082.0259 - sw_loss: 11155.9082 - hr_sw_loss: 0.2692 - lw_loss: 26.8986 - hr_lw_loss: 0.0940\n",
      "265/265 [==============================] - 6s 24ms/step - loss: 269944.2604 - sw_loss: 10474.9033 - hr_sw_loss: 0.2535 - lw_loss: 25.8546 - hr_lw_loss: 0.0923\n",
      "265/265 [==============================] - 6s 24ms/step - loss: 265411.8650 - sw_loss: 9768.2588 - hr_sw_loss: 0.2369 - lw_loss: 25.4754 - hr_lw_loss: 0.0889\n",
      "265/265 [==============================] - 6s 24ms/step - loss: 254640.8440 - sw_loss: 9100.9111 - hr_sw_loss: 0.2215 - lw_loss: 24.4666 - hr_lw_loss: 0.0874\n",
      "265/265 [==============================] - 6s 24ms/step - loss: 258938.1682 - sw_loss: 8468.3604 - hr_sw_loss: 0.2063 - lw_loss: 24.9616 - hr_lw_loss: 0.0854\n",
      "265/265 [==============================] - 6s 24ms/step - loss: 251364.2168 - sw_loss: 7838.2876 - hr_sw_loss: 0.1913 - lw_loss: 24.2685 - hr_lw_loss: 0.0840\n",
      "265/265 [==============================] - 6s 24ms/step - loss: 248351.3430 - sw_loss: 7272.3574 - hr_sw_loss: 0.1794 - lw_loss: 24.0250 - hr_lw_loss: 0.0829\n",
      "265/265 [==============================] - 6s 24ms/step - loss: 240409.5905 - sw_loss: 6701.9033 - hr_sw_loss: 0.1692 - lw_loss: 23.2910 - hr_lw_loss: 0.0798\n",
      "265/265 [==============================] - 6s 24ms/step - loss: 234196.6484 - sw_loss: 6210.1191 - hr_sw_loss: 0.1633 - lw_loss: 22.7203 - hr_lw_loss: 0.0783\n",
      "265/265 [==============================] - 6s 24ms/step - loss: 234471.9061 - sw_loss: 5747.8140 - hr_sw_loss: 0.1583 - lw_loss: 22.7953 - hr_lw_loss: 0.0771\n",
      "265/265 [==============================] - 6s 24ms/step - loss: 237784.2823 - sw_loss: 5386.2866 - hr_sw_loss: 0.1485 - lw_loss: 23.1635 - hr_lw_loss: 0.0763\n",
      "265/265 [==============================] - 6s 24ms/step - loss: 237228.8300 - sw_loss: 5012.4380 - hr_sw_loss: 0.1431 - lw_loss: 23.1468 - hr_lw_loss: 0.0748\n",
      "265/265 [==============================] - 6s 24ms/step - loss: 230998.2478 - sw_loss: 4700.0869 - hr_sw_loss: 0.1378 - lw_loss: 22.5561 - hr_lw_loss: 0.0737\n",
      "265/265 [==============================] - 6s 24ms/step - loss: 224619.4754 - sw_loss: 4398.0625 - hr_sw_loss: 0.1329 - lw_loss: 21.9506 - hr_lw_loss: 0.0715\n",
      "265/265 [==============================] - 7s 25ms/step - loss: 227821.2310 - sw_loss: 4160.4160 - hr_sw_loss: 0.1278 - lw_loss: 22.2952 - hr_lw_loss: 0.0709\n",
      "265/265 [==============================] - 6s 24ms/step - loss: 227407.5735 - sw_loss: 3939.4231 - hr_sw_loss: 0.1244 - lw_loss: 22.2775 - hr_lw_loss: 0.0693\n",
      "265/265 [==============================] - 6s 24ms/step - loss: 217933.7276 - sw_loss: 3731.2231 - hr_sw_loss: 0.1177 - lw_loss: 21.3520 - hr_lw_loss: 0.0683\n",
      "265/265 [==============================] - 6s 24ms/step - loss: 212609.2041 - sw_loss: 3525.2847 - hr_sw_loss: 0.1144 - lw_loss: 20.8419 - hr_lw_loss: 0.0665\n",
      "265/265 [==============================] - 6s 24ms/step - loss: 213698.2267 - sw_loss: 3360.3975 - hr_sw_loss: 0.1108 - lw_loss: 20.9687 - hr_lw_loss: 0.0651\n",
      "265/265 [==============================] - 6s 24ms/step - loss: 212871.5142 - sw_loss: 3209.0398 - hr_sw_loss: 0.1067 - lw_loss: 20.9015 - hr_lw_loss: 0.0648\n",
      "265/265 [==============================] - 6s 24ms/step - loss: 212750.1106 - sw_loss: 3067.3354 - hr_sw_loss: 0.1036 - lw_loss: 20.9049 - hr_lw_loss: 0.0634\n",
      "265/265 [==============================] - 6s 24ms/step - loss: 212596.0407 - sw_loss: 2949.0461 - hr_sw_loss: 0.1045 - lw_loss: 20.9017 - hr_lw_loss: 0.0629\n",
      "265/265 [==============================] - 6s 24ms/step - loss: 210596.2288 - sw_loss: 2829.5105 - hr_sw_loss: 0.1168 - lw_loss: 20.7144 - hr_lw_loss: 0.0622\n",
      "265/265 [==============================] - 6s 24ms/step - loss: 204013.7655 - sw_loss: 2717.1262 - hr_sw_loss: 0.1224 - lw_loss: 20.0681 - hr_lw_loss: 0.0616\n",
      "265/265 [==============================] - 6s 24ms/step - loss: 205110.0426 - sw_loss: 2612.9685 - hr_sw_loss: 0.1136 - lw_loss: 20.1896 - hr_lw_loss: 0.0601\n",
      "265/265 [==============================] - 6s 24ms/step - loss: 200390.3424 - sw_loss: 2523.4963 - hr_sw_loss: 0.1070 - lw_loss: 19.7273 - hr_lw_loss: 0.0594\n",
      "265/265 [==============================] - 6s 24ms/step - loss: 198169.3746 - sw_loss: 2424.7881 - hr_sw_loss: 0.1035 - lw_loss: 19.5163 - hr_lw_loss: 0.0582\n",
      "265/265 [==============================] - 6s 24ms/step - loss: 199090.6551 - sw_loss: 2351.1328 - hr_sw_loss: 0.0986 - lw_loss: 19.6160 - hr_lw_loss: 0.0579\n",
      "265/265 [==============================] - 7s 25ms/step - loss: 198438.5725 - sw_loss: 2262.3582 - hr_sw_loss: 0.0958 - lw_loss: 19.5605 - hr_lw_loss: 0.0571\n",
      "265/265 [==============================] - 6s 24ms/step - loss: 197623.8168 - sw_loss: 2191.9192 - hr_sw_loss: 0.0921 - lw_loss: 19.4869 - hr_lw_loss: 0.0563\n",
      "265/265 [==============================] - 6s 24ms/step - loss: 199767.6394 - sw_loss: 2141.9568 - hr_sw_loss: 0.1265 - lw_loss: 19.7060 - hr_lw_loss: 0.0566\n",
      "265/265 [==============================] - 6s 24ms/step - loss: 193656.8287 - sw_loss: 2067.5608 - hr_sw_loss: 0.1010 - lw_loss: 19.1027 - hr_lw_loss: 0.0562\n",
      "265/265 [==============================] - 6s 25ms/step - loss: 194471.1914 - sw_loss: 2019.2797 - hr_sw_loss: 0.0989 - lw_loss: 19.1906 - hr_lw_loss: 0.0546\n",
      "265/265 [==============================] - 6s 24ms/step - loss: 189950.8404 - sw_loss: 1959.5757 - hr_sw_loss: 0.0961 - lw_loss: 18.7448 - hr_lw_loss: 0.0544\n",
      "265/265 [==============================] - 6s 24ms/step - loss: 190048.0268 - sw_loss: 1911.7843 - hr_sw_loss: 0.0932 - lw_loss: 18.7601 - hr_lw_loss: 0.0535\n",
      "265/265 [==============================] - 6s 24ms/step - loss: 188322.1095 - sw_loss: 1861.2349 - hr_sw_loss: 0.0953 - lw_loss: 18.5929 - hr_lw_loss: 0.0532\n",
      "265/265 [==============================] - 6s 24ms/step - loss: 190705.6013 - sw_loss: 1833.0184 - hr_sw_loss: 0.0987 - lw_loss: 18.8341 - hr_lw_loss: 0.0531\n",
      "265/265 [==============================] - 6s 24ms/step - loss: 196444.8777 - sw_loss: 1793.5377 - hr_sw_loss: 0.1031 - lw_loss: 19.4128 - hr_lw_loss: 0.0524\n",
      "265/265 [==============================] - 6s 24ms/step - loss: 189581.8088 - sw_loss: 1745.5754 - hr_sw_loss: 0.1076 - lw_loss: 18.7316 - hr_lw_loss: 0.0520\n",
      "265/265 [==============================] - 7s 25ms/step - loss: 186650.2820 - sw_loss: 1723.5187 - hr_sw_loss: 0.1032 - lw_loss: 18.4416 - hr_lw_loss: 0.0511\n",
      "265/265 [==============================] - 6s 24ms/step - loss: 182395.2004 - sw_loss: 1677.1372 - hr_sw_loss: 0.0953 - lw_loss: 18.0213 - hr_lw_loss: 0.0505\n",
      "265/265 [==============================] - 6s 24ms/step - loss: 185404.4906 - sw_loss: 1643.3320 - hr_sw_loss: 0.0890 - lw_loss: 18.3259 - hr_lw_loss: 0.0502\n",
      "265/265 [==============================] - 6s 24ms/step - loss: 182102.4080 - sw_loss: 1612.7418 - hr_sw_loss: 0.0961 - lw_loss: 17.9994 - hr_lw_loss: 0.0496\n",
      "265/265 [==============================] - 6s 24ms/step - loss: 185695.3612 - sw_loss: 1589.1505 - hr_sw_loss: 0.0850 - lw_loss: 18.3611 - hr_lw_loss: 0.0495\n",
      "265/265 [==============================]80848.2792 - sw_loss: 1548.8987 - hr_sw_loss: 0.0840 - lw_loss: 17.8809 - hr_lw_loss: 0.04 - 6s 24ms/step - loss: 180848.2792 - sw_loss: 1548.8987 - hr_sw_loss: 0.0840 - lw_loss: 17.8809 - hr_lw_loss: 0.0491\n",
      "265/265 [==============================] - 6s 24ms/step - loss: 178046.0871 - sw_loss: 1527.6382 - hr_sw_loss: 0.0979 - lw_loss: 17.6037 - hr_lw_loss: 0.0481\n",
      "265/265 [==============================] - 6s 24ms/step - loss: 183467.1346 - sw_loss: 1522.3411 - hr_sw_loss: 0.0771 - lw_loss: 18.1458 - hr_lw_loss: 0.0487\n",
      "265/265 [==============================] - 6s 24ms/step - loss: 178406.7925 - sw_loss: 1492.9978 - hr_sw_loss: 0.0753 - lw_loss: 17.6433 - hr_lw_loss: 0.0481\n",
      "265/265 [==============================] - 6s 24ms/step - loss: 173082.1584 - sw_loss: 1458.1755 - hr_sw_loss: 0.0802 - lw_loss: 17.1151 - hr_lw_loss: 0.0473\n",
      "265/265 [==============================] - 6s 24ms/step - loss: 175382.6965 - sw_loss: 1443.6696 - hr_sw_loss: 0.0720 - lw_loss: 17.3465 - hr_lw_loss: 0.0474\n",
      "265/265 [==============================] - 6s 24ms/step - loss: 176246.4879 - sw_loss: 1415.5953 - hr_sw_loss: 0.0680 - lw_loss: 17.4359 - hr_lw_loss: 0.0472\n",
      "265/265 [==============================] - 6s 24ms/step - loss: 177939.4690 - sw_loss: 1391.3325 - hr_sw_loss: 0.0684 - lw_loss: 17.6079 - hr_lw_loss: 0.0469\n",
      "265/265 [==============================] - 7s 25ms/step - loss: 173543.8510 - sw_loss: 1377.0900 - hr_sw_loss: 0.0663 - lw_loss: 17.1703 - hr_lw_loss: 0.0464\n",
      "265/265 [==============================] - 7s 25ms/step - loss: 171067.0963 - sw_loss: 1355.6210 - hr_sw_loss: 0.0638 - lw_loss: 16.9248 - hr_lw_loss: 0.0463\n",
      "265/265 [==============================] - 7s 25ms/step - loss: 176878.3061 - sw_loss: 1350.8265 - hr_sw_loss: 0.0633 - lw_loss: 17.5069 - hr_lw_loss: 0.0459\n",
      "265/265 [==============================] - 6s 24ms/step - loss: 169743.3023 - sw_loss: 1327.5352 - hr_sw_loss: 0.0629 - lw_loss: 16.7965 - hr_lw_loss: 0.0451\n",
      "265/265 [==============================] - 6s 24ms/step - loss: 169277.4985 - sw_loss: 1301.9343 - hr_sw_loss: 0.0598 - lw_loss: 16.7528 - hr_lw_loss: 0.0448\n",
      "265/265 [==============================] - 6s 24ms/step - loss: 172795.2767 - sw_loss: 1299.9219 - hr_sw_loss: 0.0586 - lw_loss: 17.1049 - hr_lw_loss: 0.0446\n",
      "265/265 [==============================] - 6s 24ms/step - loss: 166048.5542 - sw_loss: 1273.9182 - hr_sw_loss: 0.0555 - lw_loss: 16.4332 - hr_lw_loss: 0.0442\n",
      "265/265 [==============================] - 6s 24ms/step - loss: 171349.7109 - sw_loss: 1267.8552 - hr_sw_loss: 0.0555 - lw_loss: 16.9636 - hr_lw_loss: 0.0445\n",
      "265/265 [==============================] - 6s 24ms/step - loss: 171075.6453 - sw_loss: 1263.6173 - hr_sw_loss: 0.0537 - lw_loss: 16.9369 - hr_lw_loss: 0.0443\n",
      "265/265 [==============================] - 6s 24ms/step - loss: 166046.0802 - sw_loss: 1236.0406 - hr_sw_loss: 0.0599 - lw_loss: 16.4373 - hr_lw_loss: 0.0437\n",
      "265/265 [==============================] - 7s 25ms/step - loss: 171476.2466 - sw_loss: 1227.8872 - hr_sw_loss: 0.0670 - lw_loss: 16.9809 - hr_lw_loss: 0.0439\n",
      "265/265 [==============================] - 6s 23ms/step - loss: 163177.3591 - sw_loss: 1206.8351 - hr_sw_loss: 0.0561 - lw_loss: 16.1540 - hr_lw_loss: 0.0430\n",
      "265/265 [==============================] - 6s 24ms/step - loss: 165073.1253 - sw_loss: 1199.8546 - hr_sw_loss: 0.0580 - lw_loss: 16.3444 - hr_lw_loss: 0.0429\n",
      "265/265 [==============================] - 6s 24ms/step - loss: 164724.8878 - sw_loss: 1184.2483 - hr_sw_loss: 0.0578 - lw_loss: 16.3112 - hr_lw_loss: 0.0428\n",
      "265/265 [==============================] - 6s 24ms/step - loss: 164370.7597 - sw_loss: 1172.3185 - hr_sw_loss: 0.0579 - lw_loss: 16.2772 - hr_lw_loss: 0.0426\n",
      "265/265 [==============================] - 6s 24ms/step - loss: 161854.6595 - sw_loss: 1162.0959 - hr_sw_loss: 0.0571 - lw_loss: 16.0270 - hr_lw_loss: 0.0423\n",
      "265/265 [==============================] - 6s 24ms/step - loss: 164422.3725 - sw_loss: 1151.7061 - hr_sw_loss: 0.0538 - lw_loss: 16.2849 - hr_lw_loss: 0.0422\n",
      "265/265 [==============================] - 6s 24ms/step - loss: 161141.9892 - sw_loss: 1134.9578 - hr_sw_loss: 0.0524 - lw_loss: 15.9590 - hr_lw_loss: 0.0417\n",
      "265/265 [==============================] - 6s 24ms/step - loss: 161191.8237 - sw_loss: 1129.5623 - hr_sw_loss: 0.0506 - lw_loss: 15.9646 - hr_lw_loss: 0.0416\n",
      "265/265 [==============================] - 6s 24ms/step - loss: 160201.7078 - sw_loss: 1117.2002 - hr_sw_loss: 0.0487 - lw_loss: 15.8670 - hr_lw_loss: 0.0414\n",
      "265/265 [==============================] - 6s 24ms/step - loss: 164127.8343 - sw_loss: 1102.8801 - hr_sw_loss: 0.0480 - lw_loss: 16.2611 - hr_lw_loss: 0.0414\n",
      "265/265 [==============================] - 6s 24ms/step - loss: 155977.4836 - sw_loss: 1101.9276 - hr_sw_loss: 0.0476 - lw_loss: 15.4468 - hr_lw_loss: 0.0408\n"
     ]
    }
   ],
   "source": [
    "for epoch in range(100):\n",
    "    mod.fit(tfds)"
   ]
  },
  {
   "cell_type": "code",
   "execution_count": 28,
   "id": "e60b8d77",
   "metadata": {},
   "outputs": [],
   "source": [
    "takends = tfds.take(1)\n",
    "for inputs,outputs in takends:\n",
    "    train_pred = mod.predict(inputs)"
   ]
  },
  {
   "cell_type": "markdown",
   "id": "e43e02aa",
   "metadata": {},
   "source": [
    "## Visualising training results\n",
    "Predictions on the heating rates (see sw plotted below) are bad, but predictions on the boundary fluxes are generally good."
   ]
  },
  {
   "cell_type": "code",
   "execution_count": 30,
   "id": "a94a229b",
   "metadata": {},
   "outputs": [
    {
     "data": {
      "text/plain": [
       "<matplotlib.legend.Legend at 0x7fa72be93650>"
      ]
     },
     "execution_count": 30,
     "metadata": {},
     "output_type": "execute_result"
    },
    {
     "data": {
      "image/png": "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
      "text/plain": [
       "<Figure size 1200x800 with 1 Axes>"
      ]
     },
     "metadata": {
      "needs_background": "light"
     },
     "output_type": "display_data"
    }
   ],
   "source": [
    "idx = 0\n",
    "plt.figure(dpi=200)\n",
    "plt.title('SW heating rate')\n",
    "plt.plot(outputs['hr_sw'][0,:],'k',label='hr_sw truth')\n",
    "plt.plot(train_pred[1][0,:],'r--',label = 'hr_sw pred')\n",
    "plt.xlabel('Model level (0 top)')\n",
    "plt.ylabel('Heating rate (sw)')\n",
    "plt.legend()"
   ]
  },
  {
   "cell_type": "code",
   "execution_count": 23,
   "id": "3d08696b",
   "metadata": {},
   "outputs": [
    {
     "data": {
      "image/png": "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
      "text/plain": [
       "<Figure size 1200x800 with 3 Axes>"
      ]
     },
     "metadata": {
      "needs_background": "light"
     },
     "output_type": "display_data"
    }
   ],
   "source": [
    "idx = 0\n",
    "plt.figure(dpi=200)\n",
    "ylabels= ['Top upwards', 'Bottom downwards', 'Bottom upwards']\n",
    "for i in range(3):\n",
    "    ax=plt.subplot(3,1,i+1)\n",
    "    if i==0:\n",
    "        plt.title(\"Training: boundary fluxes\")\n",
    "\n",
    "    plt.plot(np.arange(256),outputs['sw'][:,i].numpy(),'k',label='sw truth')\n",
    "    plt.plot(np.arange(256),train_pred[0][:,i],'r--',label = 'sw pred')\n",
    "    if i==2:\n",
    "        plt.xlabel('Batch element')\n",
    "    else:\n",
    "        ax.set_xticklabels('')\n",
    "    plt.ylabel(ylabels[i])\n",
    "    plt.legend()"
   ]
  },
  {
   "cell_type": "markdown",
   "id": "0ebb9398",
   "metadata": {},
   "source": [
    "## Validating the results\n",
    "We suggest using all of 2020 for training. As independent testing data users can similarly access data from 2019. Examining valid_timestep we see 4 timesteps corresponding to dates in 2019. For these timesteps there are a larger number of possible filenum (0-115). If you have a large amount of disk space all the filenums can be downloaded simulatenous by using \n",
    "\n",
    "`cml.load_dataset('maelstrom-radiation-tf',subset='2019053100')`\n",
    "\n",
    "Note this will use ~120Gb of space.\n",
    "\n",
    "For a smaller set, you can use the below:"
   ]
  },
  {
   "cell_type": "code",
   "execution_count": 24,
   "id": "b74ebb31",
   "metadata": {},
   "outputs": [
    {
     "name": "stdout",
     "output_type": "stream",
     "text": [
      "Timesteps:  [0, 125, 250, 375, 500, 625, 750, 875, 1000, 1125, 1250, 1375, 1500, 1625, 1750, 1875, 2000, 2125, 2250, 2375, 2500, 2625, 2750, 2875, 3000, 3125, 3250, 3375, 3500, 2019013100, 2019053100, 2019082900, 2019102800]\n",
      "Subsets:  ['tier-1', '2020', '2019013100', '2019053100', '2019082900', '2019102800']\n",
      "Loading normalisation arrays\n"
     ]
    },
    {
     "data": {
      "application/vnd.jupyter.widget-view+json": {
       "model_id": "c82fb9929b6a463c91dec31b195ff6e0",
       "version_major": 2,
       "version_minor": 0
      },
      "text/plain": [
       "  0%|          | 0/5 [00:00<?, ?it/s]"
      ]
     },
     "metadata": {},
     "output_type": "display_data"
    }
   ],
   "source": [
    "print(\"Timesteps: \",cmlds_tf.valid_timestep)\n",
    "print(\"Subsets: \",cmlds_tf.valid_subset)\n",
    "cmlds_tf_valid = cml.load_dataset(\n",
    "        'maelstrom-radiation-tf',timestep=2019053100,filenum=0,norm = True, minimal_outputs = True\n",
    "    )\n",
    "tfds_valid = cmlds_tf_valid.to_tfdataset(batch_size=256,repeat=False)"
   ]
  },
  {
   "cell_type": "code",
   "execution_count": 25,
   "id": "ede72a84",
   "metadata": {},
   "outputs": [],
   "source": [
    "takends = tfds_valid.take(1)\n",
    "for inputs,outputs in takends:\n",
    "    train_pred = mod.predict(inputs)"
   ]
  },
  {
   "cell_type": "code",
   "execution_count": 26,
   "id": "a71787b4",
   "metadata": {},
   "outputs": [
    {
     "data": {
      "text/plain": [
       "<matplotlib.legend.Legend at 0x7fa768e61a50>"
      ]
     },
     "execution_count": 26,
     "metadata": {},
     "output_type": "execute_result"
    },
    {
     "data": {
      "image/png": "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
      "text/plain": [
       "<Figure size 1200x800 with 1 Axes>"
      ]
     },
     "metadata": {
      "needs_background": "light"
     },
     "output_type": "display_data"
    }
   ],
   "source": [
    "idx = 0\n",
    "plt.figure(dpi=200)\n",
    "plt.title('Validation: SW heating rate')\n",
    "plt.plot(outputs['hr_sw'][0,:],'k',label='hr_sw truth')\n",
    "plt.plot(train_pred[1][0,:],'r--',label = 'hr_sw pred')\n",
    "plt.xlabel('Model level (0 top)')\n",
    "plt.ylabel('Heating rate (sw)')\n",
    "plt.legend()"
   ]
  },
  {
   "cell_type": "code",
   "execution_count": 27,
   "id": "04c76ac3",
   "metadata": {},
   "outputs": [
    {
     "data": {
      "image/png": "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
      "text/plain": [
       "<Figure size 1200x800 with 3 Axes>"
      ]
     },
     "metadata": {
      "needs_background": "light"
     },
     "output_type": "display_data"
    }
   ],
   "source": [
    "idx = 0\n",
    "plt.figure(dpi=200)\n",
    "colours= ['r','g','b']\n",
    "ylabels= ['Top upwards', 'Bottom downwards', 'Bottom upwards']\n",
    "for i in range(3):\n",
    "    ax=plt.subplot(3,1,i+1)\n",
    "    if i==0:\n",
    "        plt.title(\"Validation: boundary fluxes\")\n",
    "\n",
    "    plt.plot(np.arange(256),outputs['sw'][:,i].numpy(),'k',label='sw truth')\n",
    "    plt.plot(np.arange(256),train_pred[0][:,i],'r--',label = 'sw pred')\n",
    "    if i==2:\n",
    "        plt.xlabel('Batch element')\n",
    "    else:\n",
    "        ax.set_xticklabels('')\n",
    "    plt.ylabel(ylabels[i])\n",
    "    plt.legend()"
   ]
  },
  {
   "cell_type": "markdown",
   "id": "cba01eb5",
   "metadata": {},
   "source": [
    "Predictions on the heating rate remain bad, but predictions on the boundary fluxes are ok, but worse than for the training dataset (this is expected because of overfitting a small dataset).\n",
    "# Summary\n",
    "## Data\n",
    "Two ways to play, either **maelstrom-radiation** or **maelstrom-radiation-tf**, the former is good for understanding the structure and complexity of the data, the latter offers rapid access to a shuffled version of the dataset.\n",
    "### Recommended approach, try to predict the minimal_output setup which includes heating rates and boundary fluxes, sw & lw could be considered separately.\n",
    "## Modelling challenges\n",
    "1. Large number of inputs\n",
    "2. Mismatch in magnitudes of predictands.\n",
    "\n",
    "## Your challenge, minimise the combined losses while making the computationally cheapest network.\n",
    "\n"
   ]
  },
  {
   "cell_type": "code",
   "execution_count": null,
   "id": "0f74907d",
   "metadata": {},
   "outputs": [],
   "source": []
  }
 ],
 "metadata": {
  "kernelspec": {
   "display_name": "Python 3 (ipykernel)",
   "language": "python",
   "name": "python3"
  },
  "language_info": {
   "codemirror_mode": {
    "name": "ipython",
    "version": 3
   },
   "file_extension": ".py",
   "mimetype": "text/x-python",
   "name": "python",
   "nbconvert_exporter": "python",
   "pygments_lexer": "ipython3",
   "version": "3.8.11"
  }
 },
 "nbformat": 4,
 "nbformat_minor": 5
}