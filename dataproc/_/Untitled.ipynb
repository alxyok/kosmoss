{
 "cells": [
  {
   "cell_type": "code",
   "execution_count": 4,
   "id": "57675629-3dc7-41e6-955d-050d031fc05a",
   "metadata": {},
   "outputs": [],
   "source": [
    "import os\n",
    "import torch \n",
    "os.environ['http_proxy'] = 'http://129.183.4.13:8080'\n",
    "os.environ['https_proxy'] = 'http://129.183.4.13:8080'\n",
    "os.environ['no_proxy'] = 'yoda,129.183.101.5,172.16.118.13,naboo0,naboo5,nwadmin,172.16.118.137,172.16.118.134'"
   ]
  },
  {
   "cell_type": "code",
   "execution_count": 5,
   "id": "14037b18-b60c-4747-997e-d3956447c6b4",
   "metadata": {},
   "outputs": [
    {
     "name": "stdout",
     "output_type": "stream",
     "text": [
      "['sca_inputs',\n",
      " 'col_inputs',\n",
      " 'hl_inputs',\n",
      " 'pressure_hl',\n",
      " 'inter_inputs',\n",
      " 'lat',\n",
      " 'lon',\n",
      " 'flux_dn_sw',\n",
      " 'flux_up_sw',\n",
      " 'flux_dn_lw',\n",
      " 'flux_up_lw',\n",
      " 'hr_sw',\n",
      " 'hr_lw']\n",
      "{'col_variable': <class 'netCDF4._netCDF4.Dimension'>: name = 'col_variable', size = 27,\n",
      " 'column': <class 'netCDF4._netCDF4.Dimension'>: name = 'column', size = 1085440,\n",
      " 'half_level': <class 'netCDF4._netCDF4.Dimension'>: name = 'half_level', size = 138,\n",
      " 'hl_variable': <class 'netCDF4._netCDF4.Dimension'>: name = 'hl_variable', size = 2,\n",
      " 'inter_variable': <class 'netCDF4._netCDF4.Dimension'>: name = 'inter_variable', size = 1,\n",
      " 'level': <class 'netCDF4._netCDF4.Dimension'>: name = 'level', size = 137,\n",
      " 'level_interface': <class 'netCDF4._netCDF4.Dimension'>: name = 'level_interface', size = 136,\n",
      " 'p_variable': <class 'netCDF4._netCDF4.Dimension'>: name = 'p_variable', size = 1,\n",
      " 'sca_variable': <class 'netCDF4._netCDF4.Dimension'>: name = 'sca_variable', size = 17}\n",
      "inputs\n",
      "pressure_hl (1085440, 138, 1)\n",
      "sca_inputs (1085440, 17)\n",
      "col_inputs (1085440, 137, 27)\n",
      "hl_inputs (1085440, 138, 2)\n",
      "inter_inputs (1085440, 136, 1)\n",
      "outputs\n",
      "flux_dn_sw (1085440, 138)\n",
      "flux_up_sw (1085440, 138)\n",
      "flux_dn_lw (1085440, 138)\n",
      "flux_up_lw (1085440, 138)\n",
      "hr_sw (1085440, 137)\n",
      "hr_lw (1085440, 137)\n"
     ]
    }
   ],
   "source": [
    "import netCDF4\n",
    "from pprint import pprint\n",
    "\n",
    "with netCDF4.Dataset(\"/home/research/research/modeling/weather_forecast/3dcorrection/data/raw/data.nc\", \"r\", format=\"NETCDF4\") as file:\n",
    "    pprint(list(file.variables.keys()))\n",
    "    pprint(file.dimensions)\n",
    "    # print(file.dimensions['column'].size)\n",
    "    print('inputs')\n",
    "    print('pressure_hl', file['pressure_hl'][:].shape)\n",
    "    print('sca_inputs', file['sca_inputs'][:].shape)\n",
    "    print('col_inputs', file['col_inputs'][:].shape)\n",
    "    print('hl_inputs', file['hl_inputs'][:].shape)\n",
    "    print('inter_inputs', file['inter_inputs'][:].shape)\n",
    "    \n",
    "    print('outputs')\n",
    "    print('flux_dn_sw', file['flux_dn_sw'][:].shape)\n",
    "    print('flux_up_sw', file['flux_up_sw'][:].shape)\n",
    "    print('flux_dn_lw', file['flux_dn_lw'][:].shape)\n",
    "    print('flux_up_lw', file['flux_up_lw'][:].shape)\n",
    "    print('hr_sw', file['hr_sw'][:].shape)\n",
    "    print('hr_lw', file['hr_lw'][:].shape)"
   ]
  },
  {
   "cell_type": "code",
   "execution_count": 6,
   "id": "757662c8-9679-4dc8-900c-dc9e7c0615d8",
   "metadata": {},
   "outputs": [],
   "source": [
    "import netCDF4\n",
    "from pprint import pprint\n",
    "\n",
    "with netCDF4.Dataset(\"/home/research/research/modeling/weather_forecast/3dcorrection/data/raw/data.nc\", \"r\", format=\"NETCDF4\") as file:\n",
    "    pressure_hl = torch.tensor(file['pressure_hl'][:])\n",
    "    sca_inputs = torch.tensor(file['sca_inputs'][:])\n",
    "    col_inputs = torch.tensor(file['col_inputs'][:])\n",
    "    hl_inputs = torch.tensor(file['hl_inputs'][:])\n",
    "    inter_inputs = torch.tensor(file['inter_inputs'][:])\n",
    "    \n",
    "    flux_dn_sw = torch.tensor(file['flux_dn_sw'][:])\n",
    "    flux_up_sw = torch.tensor(file['flux_up_sw'][:])\n",
    "    flux_dn_lw = torch.tensor(file['flux_dn_lw'][:])\n",
    "    flux_up_lw = torch.tensor(file['flux_up_lw'][:])"
   ]
  },
  {
   "cell_type": "code",
   "execution_count": 15,
   "id": "00dec964-4899-4d91-aade-063b42e2c827",
   "metadata": {},
   "outputs": [],
   "source": [
    "g, _, _ = pressure_hl.shape"
   ]
  },
  {
   "cell_type": "code",
   "execution_count": 16,
   "id": "4f6b0ee3-4852-4df2-8b11-166e3f6cdcea",
   "metadata": {},
   "outputs": [
    {
     "data": {
      "text/plain": [
       "1085440"
      ]
     },
     "execution_count": 16,
     "metadata": {},
     "output_type": "execute_result"
    }
   ],
   "source": [
    "g"
   ]
  },
  {
   "cell_type": "code",
   "execution_count": 7,
   "id": "5c8e826e-c6f8-4783-84c7-779c535fd962",
   "metadata": {},
   "outputs": [],
   "source": [
    "def broadcast_features(tensor):\n",
    "    t = torch.unsqueeze(tensor, -1)\n",
    "    t = t.repeat((1, 1, 138))\n",
    "    t = t.moveaxis(1, -1)\n",
    "    \n",
    "    return t"
   ]
  },
  {
   "cell_type": "code",
   "execution_count": 8,
   "id": "7c65840a-0f41-4908-8f2f-6e36fbf918ec",
   "metadata": {},
   "outputs": [],
   "source": [
    "def pad_tensor(tensor):\n",
    "    return F.pad(tensor, (0, 0, 1, 1, 0, 0))"
   ]
  },
  {
   "cell_type": "code",
   "execution_count": 12,
   "id": "124ae04f-50cf-4a83-a035-a7c700bb6fa3",
   "metadata": {},
   "outputs": [],
   "source": [
    "import torch.nn.functional as F\n",
    "import numpy as np\n",
    "\n",
    "x = torch.cat([\n",
    "    hl_inputs,\n",
    "    pad_tensor(inter_inputs),\n",
    "    broadcast_features(sca_inputs)\n",
    "], dim=-1)\n",
    "\n",
    "y = torch.cat([\n",
    "    torch.unsqueeze(flux_dn_sw, -1),\n",
    "    torch.unsqueeze(flux_up_sw, -1),\n",
    "    torch.unsqueeze(flux_dn_lw, -1),\n",
    "    torch.unsqueeze(flux_up_lw, -1),\n",
    "], dim=-1)"
   ]
  },
  {
   "cell_type": "code",
   "execution_count": 13,
   "id": "59afa8bf-c934-4a5f-b337-2892445d9d38",
   "metadata": {},
   "outputs": [],
   "source": [
    "# def pad_tensor(tensor):\n",
    "#     feats = tensor.shape[1]\n",
    "#     n = tensor.shape[0]\n",
    "    \n",
    "#     t = np.insert(tensor, (0, 0, 0), np.zeros((n, feats, 1)), axis=0)\n",
    "#     t = np.insert(tensor, (n, feats, 0), np.zeros(feats), axis=0)\n",
    "#     return t"
   ]
  },
  {
   "cell_type": "code",
   "execution_count": 149,
   "id": "ab9ddd35-88a0-414f-bd5b-4a77df5f6d89",
   "metadata": {},
   "outputs": [],
   "source": [
    "directed_index = np.array([[*range(1, 138)], [*range(137)]])\n",
    "undirected_index = np.hstack((\n",
    "    directed_index, \n",
    "    directed_index[[1, 0], :]\n",
    "))\n",
    "undirected_index = torch.tensor(undirected_index, dtype=torch.long)"
   ]
  },
  {
   "cell_type": "code",
   "execution_count": null,
   "id": "9a1ca4ee-efa3-4b37-8786-94e693b7f0d5",
   "metadata": {},
   "outputs": [],
   "source": []
  },
  {
   "cell_type": "code",
   "execution_count": null,
   "id": "5d42e13b-1e81-46c6-936b-d6043c4512b5",
   "metadata": {},
   "outputs": [],
   "source": []
  },
  {
   "cell_type": "code",
   "execution_count": null,
   "id": "27f9a908-2a16-4e7b-ac4f-a4ba7508e8c1",
   "metadata": {},
   "outputs": [],
   "source": []
  },
  {
   "cell_type": "code",
   "execution_count": null,
   "id": "a13c592e-fd43-4323-9215-dd0b6b3dffb8",
   "metadata": {},
   "outputs": [],
   "source": []
  },
  {
   "cell_type": "code",
   "execution_count": null,
   "id": "d4a9ab83-d82c-4a46-af48-e975fe4fe9ee",
   "metadata": {},
   "outputs": [],
   "source": []
  },
  {
   "cell_type": "code",
   "execution_count": null,
   "id": "a2350e66-5ac8-44f9-a958-709a61d5371e",
   "metadata": {},
   "outputs": [],
   "source": []
  },
  {
   "cell_type": "code",
   "execution_count": null,
   "id": "f0d5896c-4909-4fda-a405-2efc869d77e4",
   "metadata": {},
   "outputs": [],
   "source": []
  },
  {
   "cell_type": "code",
   "execution_count": 88,
   "id": "a2175988-5cd1-467a-8d82-c32db209ecd1",
   "metadata": {},
   "outputs": [
    {
     "data": {
      "text/plain": [
       "tensor([1, 2, 3])"
      ]
     },
     "execution_count": 88,
     "metadata": {},
     "output_type": "execute_result"
    }
   ],
   "source": [
    "x"
   ]
  },
  {
   "cell_type": "code",
   "execution_count": 91,
   "id": "c84074e4-298c-451f-97d8-a71d2e96c8a6",
   "metadata": {},
   "outputs": [],
   "source": [
    "y = torch.unsqueeze(x, dim=-1)"
   ]
  },
  {
   "cell_type": "code",
   "execution_count": 101,
   "id": "4245998e-cb83-4b7e-8be9-5657cf946663",
   "metadata": {},
   "outputs": [
    {
     "name": "stdout",
     "output_type": "stream",
     "text": [
      "torch.Size([3, 1, 1])\n"
     ]
    },
    {
     "data": {
      "text/plain": [
       "torch.Size([3, 138, 1])"
      ]
     },
     "execution_count": 101,
     "metadata": {},
     "output_type": "execute_result"
    }
   ],
   "source": [
    "y_ = torch.unsqueeze(y, -1)\n",
    "print(y_.shape)\n",
    "y_ = y_.repeat((1, 1, 138))\n",
    "y_ = y_.moveaxis(1, -1)\n",
    "y_.shape\n",
    "# y_ = y_.transpose((0, 2, 1))"
   ]
  },
  {
   "cell_type": "code",
   "execution_count": null,
   "id": "c6605397-f8d5-4b0e-98fa-ec0a727335d6",
   "metadata": {},
   "outputs": [],
   "source": []
  },
  {
   "cell_type": "code",
   "execution_count": null,
   "id": "55772b72-173f-4cea-ad44-3925ba291115",
   "metadata": {},
   "outputs": [],
   "source": []
  },
  {
   "cell_type": "code",
   "execution_count": null,
   "id": "ae888fde-4fe0-4977-80fe-1347ea741042",
   "metadata": {},
   "outputs": [],
   "source": []
  },
  {
   "cell_type": "code",
   "execution_count": null,
   "id": "d5855fe7-45cb-404e-91cf-010123bc8f16",
   "metadata": {},
   "outputs": [],
   "source": []
  },
  {
   "cell_type": "code",
   "execution_count": null,
   "id": "11180302-b227-4fb7-9d57-0fdef428c3b3",
   "metadata": {},
   "outputs": [],
   "source": []
  },
  {
   "cell_type": "code",
   "execution_count": null,
   "id": "cc034df9-fa99-46c8-8c63-7187bcdbe1ef",
   "metadata": {},
   "outputs": [],
   "source": []
  },
  {
   "cell_type": "code",
   "execution_count": null,
   "id": "ba7ee92f-4c29-4b30-9863-adbd100088eb",
   "metadata": {},
   "outputs": [],
   "source": []
  },
  {
   "cell_type": "code",
   "execution_count": null,
   "id": "3217a326-0d77-4ee3-842b-982c7602f6ec",
   "metadata": {},
   "outputs": [],
   "source": [
    "sca_inputs"
   ]
  },
  {
   "cell_type": "code",
   "execution_count": null,
   "id": "be9ad003-f13b-4ae6-bf69-3e2b430c6dc2",
   "metadata": {},
   "outputs": [],
   "source": [
    "inter_inputs"
   ]
  },
  {
   "cell_type": "code",
   "execution_count": 23,
   "id": "45f54c67-2e0b-46c3-8b60-065b8ff2415c",
   "metadata": {},
   "outputs": [
    {
     "name": "stdout",
     "output_type": "stream",
     "text": [
      "[[0 1 2 3 4]\n",
      " [5 6 7 8 9]] [[10 11 12 13 14]\n",
      " [15 16 17 18 19]]\n"
     ]
    }
   ],
   "source": [
    "a = np.arange(10).reshape((2, -1))\n",
    "b = (np.arange(10) + 10).reshape((2, -1))\n",
    "print(a, b)"
   ]
  },
  {
   "cell_type": "code",
   "execution_count": 34,
   "id": "46c2b6b1-5538-4f0a-876a-47147be05134",
   "metadata": {},
   "outputs": [
    {
     "data": {
      "text/plain": [
       "array([[0, 1, 2, 3, 4],\n",
       "       [5, 6, 7, 8, 9],\n",
       "       [0, 0, 0, 0, 0]])"
      ]
     },
     "execution_count": 34,
     "metadata": {},
     "output_type": "execute_result"
    }
   ],
   "source": [
    "np.insert(a, a.shape[0], np.zeros(a.shape[1]), axis=0)"
   ]
  },
  {
   "cell_type": "code",
   "execution_count": 81,
   "id": "337993a6-bebc-434d-b592-2baa48d84a07",
   "metadata": {},
   "outputs": [
    {
     "data": {
      "text/plain": [
       "(1085440, 136, 1)"
      ]
     },
     "execution_count": 81,
     "metadata": {},
     "output_type": "execute_result"
    }
   ],
   "source": [
    "inter_inputs.shape"
   ]
  },
  {
   "cell_type": "code",
   "execution_count": 58,
   "id": "a58d3024-4dfe-4a96-a539-38fb3fec93db",
   "metadata": {},
   "outputs": [
    {
     "ename": "ValueError",
     "evalue": "shape mismatch: value array of shape (1085440,136,1) could not be broadcast to indexing result of shape (3,136,1)",
     "output_type": "error",
     "traceback": [
      "\u001b[0;31m---------------------------------------------------------------------------\u001b[0m",
      "\u001b[0;31mValueError\u001b[0m                                Traceback (most recent call last)",
      "\u001b[0;32m/tmp/ipykernel_3523523/1047999091.py\u001b[0m in \u001b[0;36m<module>\u001b[0;34m\u001b[0m\n\u001b[0;32m----> 1\u001b[0;31m \u001b[0mpad_tensor\u001b[0m\u001b[0;34m(\u001b[0m\u001b[0minter_inputs\u001b[0m\u001b[0;34m)\u001b[0m\u001b[0;34m\u001b[0m\u001b[0;34m\u001b[0m\u001b[0m\n\u001b[0m",
      "\u001b[0;32m/tmp/ipykernel_3523523/2382672024.py\u001b[0m in \u001b[0;36mpad_tensor\u001b[0;34m(tensor)\u001b[0m\n\u001b[1;32m      3\u001b[0m     \u001b[0mn\u001b[0m \u001b[0;34m=\u001b[0m \u001b[0mtensor\u001b[0m\u001b[0;34m.\u001b[0m\u001b[0mshape\u001b[0m\u001b[0;34m[\u001b[0m\u001b[0;36m0\u001b[0m\u001b[0;34m]\u001b[0m\u001b[0;34m\u001b[0m\u001b[0;34m\u001b[0m\u001b[0m\n\u001b[1;32m      4\u001b[0m \u001b[0;34m\u001b[0m\u001b[0m\n\u001b[0;32m----> 5\u001b[0;31m     \u001b[0mt\u001b[0m \u001b[0;34m=\u001b[0m \u001b[0mnp\u001b[0m\u001b[0;34m.\u001b[0m\u001b[0minsert\u001b[0m\u001b[0;34m(\u001b[0m\u001b[0mtensor\u001b[0m\u001b[0;34m,\u001b[0m \u001b[0;34m(\u001b[0m\u001b[0;36m0\u001b[0m\u001b[0;34m,\u001b[0m \u001b[0;36m0\u001b[0m\u001b[0;34m,\u001b[0m \u001b[0;36m0\u001b[0m\u001b[0;34m)\u001b[0m\u001b[0;34m,\u001b[0m \u001b[0mnp\u001b[0m\u001b[0;34m.\u001b[0m\u001b[0mzeros\u001b[0m\u001b[0;34m(\u001b[0m\u001b[0;34m(\u001b[0m\u001b[0mn\u001b[0m\u001b[0;34m,\u001b[0m \u001b[0mfeats\u001b[0m\u001b[0;34m,\u001b[0m \u001b[0;36m1\u001b[0m\u001b[0;34m)\u001b[0m\u001b[0;34m)\u001b[0m\u001b[0;34m,\u001b[0m \u001b[0maxis\u001b[0m\u001b[0;34m=\u001b[0m\u001b[0;36m0\u001b[0m\u001b[0;34m)\u001b[0m\u001b[0;34m\u001b[0m\u001b[0;34m\u001b[0m\u001b[0m\n\u001b[0m\u001b[1;32m      6\u001b[0m     \u001b[0mt\u001b[0m \u001b[0;34m=\u001b[0m \u001b[0mnp\u001b[0m\u001b[0;34m.\u001b[0m\u001b[0minsert\u001b[0m\u001b[0;34m(\u001b[0m\u001b[0mtensor\u001b[0m\u001b[0;34m,\u001b[0m \u001b[0;34m(\u001b[0m\u001b[0mn\u001b[0m\u001b[0;34m,\u001b[0m \u001b[0mfeats\u001b[0m\u001b[0;34m,\u001b[0m \u001b[0;36m0\u001b[0m\u001b[0;34m)\u001b[0m\u001b[0;34m,\u001b[0m \u001b[0mnp\u001b[0m\u001b[0;34m.\u001b[0m\u001b[0mzeros\u001b[0m\u001b[0;34m(\u001b[0m\u001b[0mfeats\u001b[0m\u001b[0;34m)\u001b[0m\u001b[0;34m,\u001b[0m \u001b[0maxis\u001b[0m\u001b[0;34m=\u001b[0m\u001b[0;36m0\u001b[0m\u001b[0;34m)\u001b[0m\u001b[0;34m\u001b[0m\u001b[0;34m\u001b[0m\u001b[0m\n\u001b[1;32m      7\u001b[0m     \u001b[0;32mreturn\u001b[0m \u001b[0mt\u001b[0m\u001b[0;34m\u001b[0m\u001b[0;34m\u001b[0m\u001b[0m\n",
      "\u001b[0;32m<__array_function__ internals>\u001b[0m in \u001b[0;36minsert\u001b[0;34m(*args, **kwargs)\u001b[0m\n",
      "\u001b[0;32m/usr/local/lib64/python3.8/site-packages/numpy/lib/function_base.py\u001b[0m in \u001b[0;36minsert\u001b[0;34m(arr, obj, values, axis)\u001b[0m\n\u001b[1;32m   4748\u001b[0m     \u001b[0mslobj\u001b[0m\u001b[0;34m[\u001b[0m\u001b[0maxis\u001b[0m\u001b[0;34m]\u001b[0m \u001b[0;34m=\u001b[0m \u001b[0mindices\u001b[0m\u001b[0;34m\u001b[0m\u001b[0;34m\u001b[0m\u001b[0m\n\u001b[1;32m   4749\u001b[0m     \u001b[0mslobj2\u001b[0m\u001b[0;34m[\u001b[0m\u001b[0maxis\u001b[0m\u001b[0;34m]\u001b[0m \u001b[0;34m=\u001b[0m \u001b[0mold_mask\u001b[0m\u001b[0;34m\u001b[0m\u001b[0;34m\u001b[0m\u001b[0m\n\u001b[0;32m-> 4750\u001b[0;31m     \u001b[0mnew\u001b[0m\u001b[0;34m[\u001b[0m\u001b[0mtuple\u001b[0m\u001b[0;34m(\u001b[0m\u001b[0mslobj\u001b[0m\u001b[0;34m)\u001b[0m\u001b[0;34m]\u001b[0m \u001b[0;34m=\u001b[0m \u001b[0mvalues\u001b[0m\u001b[0;34m\u001b[0m\u001b[0;34m\u001b[0m\u001b[0m\n\u001b[0m\u001b[1;32m   4751\u001b[0m     \u001b[0mnew\u001b[0m\u001b[0;34m[\u001b[0m\u001b[0mtuple\u001b[0m\u001b[0;34m(\u001b[0m\u001b[0mslobj2\u001b[0m\u001b[0;34m)\u001b[0m\u001b[0;34m]\u001b[0m \u001b[0;34m=\u001b[0m \u001b[0marr\u001b[0m\u001b[0;34m\u001b[0m\u001b[0;34m\u001b[0m\u001b[0m\n\u001b[1;32m   4752\u001b[0m \u001b[0;34m\u001b[0m\u001b[0m\n",
      "\u001b[0;31mValueError\u001b[0m: shape mismatch: value array of shape (1085440,136,1) could not be broadcast to indexing result of shape (3,136,1)"
     ]
    }
   ],
   "source": [
    "pad_tensor(inter_inputs)"
   ]
  },
  {
   "cell_type": "code",
   "execution_count": 69,
   "id": "4a08df6c-6936-4048-816e-488592b3cdca",
   "metadata": {},
   "outputs": [
    {
     "ename": "ValueError",
     "evalue": "unsupported keyword arguments for mode 'constant': {'reflect_type'}",
     "output_type": "error",
     "traceback": [
      "\u001b[0;31m---------------------------------------------------------------------------\u001b[0m",
      "\u001b[0;31mValueError\u001b[0m                                Traceback (most recent call last)",
      "\u001b[0;32m/tmp/ipykernel_3523523/4198924122.py\u001b[0m in \u001b[0;36m<module>\u001b[0;34m\u001b[0m\n\u001b[0;32m----> 1\u001b[0;31m \u001b[0mnp\u001b[0m\u001b[0;34m.\u001b[0m\u001b[0mpad\u001b[0m\u001b[0;34m(\u001b[0m\u001b[0ma\u001b[0m\u001b[0;34m,\u001b[0m \u001b[0;34m(\u001b[0m\u001b[0;36m1\u001b[0m\u001b[0;34m,\u001b[0m \u001b[0;36m0\u001b[0m\u001b[0;34m)\u001b[0m\u001b[0;34m,\u001b[0m \u001b[0mreflect_type\u001b[0m\u001b[0;34m=\u001b[0m\u001b[0;34m'symmetric'\u001b[0m\u001b[0;34m,\u001b[0m \u001b[0mconstant_values\u001b[0m\u001b[0;34m=\u001b[0m\u001b[0;36m0\u001b[0m\u001b[0;34m)\u001b[0m\u001b[0;34m\u001b[0m\u001b[0;34m\u001b[0m\u001b[0m\n\u001b[0m",
      "\u001b[0;32m<__array_function__ internals>\u001b[0m in \u001b[0;36mpad\u001b[0;34m(*args, **kwargs)\u001b[0m\n",
      "\u001b[0;32m/usr/local/lib64/python3.8/site-packages/numpy/lib/arraypad.py\u001b[0m in \u001b[0;36mpad\u001b[0;34m(array, pad_width, mode, **kwargs)\u001b[0m\n\u001b[1;32m    783\u001b[0m         \u001b[0;32mraise\u001b[0m \u001b[0mValueError\u001b[0m\u001b[0;34m(\u001b[0m\u001b[0;34m\"mode '{}' is not supported\"\u001b[0m\u001b[0;34m.\u001b[0m\u001b[0mformat\u001b[0m\u001b[0;34m(\u001b[0m\u001b[0mmode\u001b[0m\u001b[0;34m)\u001b[0m\u001b[0;34m)\u001b[0m \u001b[0;32mfrom\u001b[0m \u001b[0;32mNone\u001b[0m\u001b[0;34m\u001b[0m\u001b[0;34m\u001b[0m\u001b[0m\n\u001b[1;32m    784\u001b[0m     \u001b[0;32mif\u001b[0m \u001b[0munsupported_kwargs\u001b[0m\u001b[0;34m:\u001b[0m\u001b[0;34m\u001b[0m\u001b[0;34m\u001b[0m\u001b[0m\n\u001b[0;32m--> 785\u001b[0;31m         raise ValueError(\"unsupported keyword arguments for mode '{}': {}\"\n\u001b[0m\u001b[1;32m    786\u001b[0m                          .format(mode, unsupported_kwargs))\n\u001b[1;32m    787\u001b[0m \u001b[0;34m\u001b[0m\u001b[0m\n",
      "\u001b[0;31mValueError\u001b[0m: unsupported keyword arguments for mode 'constant': {'reflect_type'}"
     ]
    }
   ],
   "source": [
    "np.pad(a, (1, 0), reflect_type='symmetric', constant_values=0)"
   ]
  },
  {
   "cell_type": "code",
   "execution_count": 79,
   "id": "90b6ff54-1e85-47d3-a90f-4513adbb9cfb",
   "metadata": {},
   "outputs": [
    {
     "data": {
      "text/plain": [
       "array([[[0],\n",
       "        [1],\n",
       "        [2],\n",
       "        [3],\n",
       "        [4]],\n",
       "\n",
       "       [[5],\n",
       "        [6],\n",
       "        [7],\n",
       "        [8],\n",
       "        [9]]])"
      ]
     },
     "execution_count": 79,
     "metadata": {},
     "output_type": "execute_result"
    }
   ],
   "source": [
    "a[:, :, np.newaxis]"
   ]
  },
  {
   "cell_type": "code",
   "execution_count": 78,
   "id": "fc5c4f2e-6b4d-4149-a6c8-0e2c88b6a224",
   "metadata": {},
   "outputs": [
    {
     "data": {
      "text/plain": [
       "array([[[0],\n",
       "        [0],\n",
       "        [1],\n",
       "        [2],\n",
       "        [3],\n",
       "        [4],\n",
       "        [0]],\n",
       "\n",
       "       [[0],\n",
       "        [5],\n",
       "        [6],\n",
       "        [7],\n",
       "        [8],\n",
       "        [9],\n",
       "        [0]]])"
      ]
     },
     "execution_count": 78,
     "metadata": {},
     "output_type": "execute_result"
    }
   ],
   "source": [
    "np.pad(a[:, :, np.newaxis], [(0, 0), (1, 1), (0, 0)])"
   ]
  },
  {
   "cell_type": "code",
   "execution_count": null,
   "id": "38993fc6-b8b0-40fe-956f-9e2e50d5b626",
   "metadata": {},
   "outputs": [],
   "source": []
  },
  {
   "cell_type": "code",
   "execution_count": null,
   "id": "3532b070-aca9-404c-b681-8be07f3c508e",
   "metadata": {},
   "outputs": [],
   "source": []
  },
  {
   "cell_type": "code",
   "execution_count": null,
   "id": "d2fbdf7e-cda4-4018-8615-c0308b487a34",
   "metadata": {},
   "outputs": [],
   "source": []
  },
  {
   "cell_type": "code",
   "execution_count": null,
   "id": "92129c41-7073-46cb-b8b4-8d55e62d85ed",
   "metadata": {},
   "outputs": [],
   "source": []
  },
  {
   "cell_type": "code",
   "execution_count": 14,
   "id": "e32af036-60a5-4c4f-a5c8-99b4d41d4bd2",
   "metadata": {},
   "outputs": [],
   "source": [
    "import numpy as np\n",
    "\n",
    "def concat_over_node(features):\n",
    "    if len(features.shape) == 2:\n",
    "        features = features[..., np.newaxis]\n",
    "        \n",
    "    for dim in features.shape[-1]:\n",
    "        up = features[:, 1:, :]\n",
    "        down = features[:, :137, :]\n",
    "        np.concatenate()\n",
    "    return np.concatenate((up, down), axis=2)"
   ]
  },
  {
   "cell_type": "code",
   "execution_count": null,
   "id": "41ba23b0-f2d1-4211-a61f-0870f298e372",
   "metadata": {},
   "outputs": [],
   "source": [
    "concat_over_nodes()"
   ]
  },
  {
   "cell_type": "code",
   "execution_count": null,
   "id": "777ec812-9d9a-4055-bf11-6a64e1cf82ea",
   "metadata": {},
   "outputs": [],
   "source": []
  },
  {
   "cell_type": "code",
   "execution_count": null,
   "id": "a84b0624-d9c7-44ed-b94f-620f2ab455bc",
   "metadata": {},
   "outputs": [],
   "source": []
  },
  {
   "cell_type": "code",
   "execution_count": null,
   "id": "9fccd58d-c62c-4e22-acdb-3d0f891f852c",
   "metadata": {},
   "outputs": [],
   "source": []
  },
  {
   "cell_type": "code",
   "execution_count": null,
   "id": "3965184b-f8ab-4168-9fb8-452872bdc90d",
   "metadata": {},
   "outputs": [],
   "source": []
  },
  {
   "cell_type": "code",
   "execution_count": null,
   "id": "d481cafc-8ce8-467c-acc2-7c47c2ecf0f7",
   "metadata": {},
   "outputs": [],
   "source": []
  },
  {
   "cell_type": "code",
   "execution_count": null,
   "id": "088b8983-4abf-4e0c-bae0-b8f7c9190241",
   "metadata": {},
   "outputs": [],
   "source": []
  },
  {
   "cell_type": "code",
   "execution_count": null,
   "id": "1477ad94-e5c9-434f-a1b0-3fbcc0350375",
   "metadata": {},
   "outputs": [],
   "source": []
  },
  {
   "cell_type": "code",
   "execution_count": null,
   "id": "0bda18be-dc88-46b2-a5f1-8b0a1733471c",
   "metadata": {},
   "outputs": [],
   "source": []
  },
  {
   "cell_type": "code",
   "execution_count": null,
   "id": "feaeac11-311d-40a1-9d0b-04a387c38d0a",
   "metadata": {},
   "outputs": [],
   "source": []
  },
  {
   "cell_type": "code",
   "execution_count": null,
   "id": "a44529aa-1b2e-4012-bd11-5c0f5b547ddc",
   "metadata": {},
   "outputs": [],
   "source": []
  },
  {
   "cell_type": "code",
   "execution_count": null,
   "id": "73aea956-e5d2-4d41-9c40-60a205234534",
   "metadata": {},
   "outputs": [],
   "source": []
  }
 ],
 "metadata": {
  "kernelspec": {
   "display_name": "Python 3 (ipykernel)",
   "language": "python",
   "name": "python3"
  },
  "language_info": {
   "codemirror_mode": {
    "name": "ipython",
    "version": 3
   },
   "file_extension": ".py",
   "mimetype": "text/x-python",
   "name": "python",
   "nbconvert_exporter": "python",
   "pygments_lexer": "ipython3",
   "version": "3.8.6"
  }
 },
 "nbformat": 4,
 "nbformat_minor": 5
}
