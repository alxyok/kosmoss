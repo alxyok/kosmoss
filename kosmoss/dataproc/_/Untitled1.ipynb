{
 "cells": [
  {
   "cell_type": "code",
   "execution_count": 2,
   "id": "c838f108-8a77-44c6-afce-fae3d2829f8c",
   "metadata": {},
   "outputs": [],
   "source": [
    "import os\n",
    "import sqlite3"
   ]
  },
  {
   "cell_type": "code",
   "execution_count": 3,
   "id": "b57d8304-61ce-43fa-ab49-1e00a0a20b53",
   "metadata": {},
   "outputs": [],
   "source": [
    "data_path = os.path.join('home', 'research', 'research', 'modeling', 'weather-forecast', 'tripleclouds', 'data')\n",
    "raw_data_path = os.path.join(data_path, 'raw')\n",
    "cache_db = os.path.join(raw_data_path, 'cache2.db')"
   ]
  },
  {
   "cell_type": "code",
   "execution_count": 5,
   "id": "aa42706c-d02d-4535-865d-9f9d5e0a561f",
   "metadata": {},
   "outputs": [],
   "source": [
    "import climetlab as cml"
   ]
  },
  {
   "cell_type": "code",
   "execution_count": 6,
   "id": "f1bae31a-350d-4b3d-940a-f2d5f1f5a76e",
   "metadata": {},
   "outputs": [],
   "source": [
    "cache = cml.core.caching.Cache()"
   ]
  },
  {
   "cell_type": "code",
   "execution_count": null,
   "id": "f0c66a3c-2abf-481f-bef5-dd2df2b5466d",
   "metadata": {},
   "outputs": [],
   "source": [
    "cache."
   ]
  }
 ],
 "metadata": {
  "kernelspec": {
   "display_name": "Python 3 (ipykernel)",
   "language": "python",
   "name": "python3"
  },
  "language_info": {
   "codemirror_mode": {
    "name": "ipython",
    "version": 3
   },
   "file_extension": ".py",
   "mimetype": "text/x-python",
   "name": "python",
   "nbconvert_exporter": "python",
   "pygments_lexer": "ipython3",
   "version": "3.8.6"
  }
 },
 "nbformat": 4,
 "nbformat_minor": 5
}
