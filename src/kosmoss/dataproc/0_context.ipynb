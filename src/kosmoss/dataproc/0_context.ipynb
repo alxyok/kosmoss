{
 "cells": [
  {
   "cell_type": "markdown",
   "id": "c247f8e0-3852-4e9c-b792-e93b1305e4b6",
   "metadata": {},
   "source": [
    "# Use-Case and Context"
   ]
  },
  {
   "cell_type": "markdown",
   "id": "1b26a79e-15c5-42e7-b42f-f71f8688e465",
   "metadata": {},
   "source": [
    "The European Centre for Medium-range Weather Forecasts (ECMWF) has developed a series of model giving the current best accurate parametrization scheme available—among those, SPARTACUS delivers **radiation** prediction over the globe. Because it is demanding in computations, a simpler, degraded model called TRIPLECLOUD is developed to satisfy the production environment constraints. \n",
    "\n",
    "**The task is to develop a model to learn and apply a bias correction term to TRIPLECLOUD.**\n",
    "\n",
    "Like most climate models, to leverage hardware acceleration, the choice was made to split the globe in blocks—this has for consequence losing the spatial correlation for a gain in parallelization. The atomic block is a [column of data](https://brian-rose.github.io/ClimateLaboratoryBook/courseware/climate-system-models.html#introducing-the-gcm) that expresses physical values throughout the vertical dimension over a set of levels called the [*model levels*](https://confluence.ecmwf.int/display/UDOC/Model+level+definitions).\n",
    "\n",
    "Finally, the earth is a huge sphere and sampling every square-inch is physically impossible. The mesh is a 'regular' grid of 25 km2, so the data for a single unit averages the values for that unit.\n",
    "\n",
    "Now let's load the raw data we'll be using throughout the sessions. This notebook is largely inspired from [the work from ECMWF](https://git.ecmwf.int/projects/MLFET/repos/maelstrom-radiation/browse/climetlab_maelstrom_radiation/radiation.py) on the radiation use-case."
   ]
  },
  {
   "cell_type": "markdown",
   "id": "5ddcd2b9-11b8-4e37-8e1b-3be2126e0dca",
   "metadata": {
    "tags": []
   },
   "source": [
    "First things first. Remember `this`."
   ]
  },
  {
   "cell_type": "code",
   "execution_count": 1,
   "id": "153fd21d-7954-4b5a-a074-2cd678eebcec",
   "metadata": {},
   "outputs": [
    {
     "name": "stdout",
     "output_type": "stream",
     "text": [
      "The Zen of Python, by Tim Peters\n",
      "\n",
      "Beautiful is better than ugly.\n",
      "Explicit is better than implicit.\n",
      "Simple is better than complex.\n",
      "Complex is better than complicated.\n",
      "Flat is better than nested.\n",
      "Sparse is better than dense.\n",
      "Readability counts.\n",
      "Special cases aren't special enough to break the rules.\n",
      "Although practicality beats purity.\n",
      "Errors should never pass silently.\n",
      "Unless explicitly silenced.\n",
      "In the face of ambiguity, refuse the temptation to guess.\n",
      "There should be one-- and preferably only one --obvious way to do it.\n",
      "Although that way may not be obvious at first unless you're Dutch.\n",
      "Now is better than never.\n",
      "Although never is often better than *right* now.\n",
      "If the implementation is hard to explain, it's a bad idea.\n",
      "If the implementation is easy to explain, it may be a good idea.\n",
      "Namespaces are one honking great idea -- let's do more of those!\n"
     ]
    }
   ],
   "source": [
    "import this"
   ]
  },
  {
   "cell_type": "markdown",
   "id": "352fb4ff-befc-45a5-a3c0-cd592f2c71be",
   "metadata": {},
   "source": [
    "## Exploring a sample"
   ]
  },
  {
   "cell_type": "markdown",
   "id": "8a4175b5-6965-4cc9-b4af-1cdb36d3bc96",
   "metadata": {},
   "source": [
    "### Variables"
   ]
  },
  {
   "cell_type": "markdown",
   "id": "0f0b22c7-8902-48f8-a051-1672ac611b43",
   "metadata": {},
   "source": [
    "Each columnar block has a series of variables that reflect physical values such as **Albedo, Temperature, Pressure, Humidity**... Plus some variables that describe the **anatomy of the surface**. We will not cover them all, but only a selection of it so you get a sense of what they represent."
   ]
  },
  {
   "cell_type": "code",
   "execution_count": 2,
   "id": "fadb2010-a7f6-4372-abc5-46c3f7781247",
   "metadata": {},
   "outputs": [
    {
     "ename": "ModuleNotFoundError",
     "evalue": "No module named 'kosmoss'",
     "output_type": "error",
     "traceback": [
      "\u001b[0;31m---------------------------------------------------------------------------\u001b[0m",
      "\u001b[0;31mModuleNotFoundError\u001b[0m                       Traceback (most recent call last)",
      "Input \u001b[0;32mIn [2]\u001b[0m, in \u001b[0;36m<cell line: 1>\u001b[0;34m()\u001b[0m\n\u001b[0;32m----> 1\u001b[0m \u001b[38;5;28;01mfrom\u001b[39;00m \u001b[38;5;21;01mkosmoss\u001b[39;00m \u001b[38;5;28;01mimport\u001b[39;00m ARTIFACTS_PATH, CACHED_DATA_PATH\n",
      "\u001b[0;31mModuleNotFoundError\u001b[0m: No module named 'kosmoss'"
     ]
    }
   ],
   "source": [
    "from kosmoss import ARTIFACTS_PATH, CACHED_DATA_PATH"
   ]
  },
  {
   "cell_type": "code",
   "execution_count": null,
   "id": "b3ae3c89-34f7-4d53-a3ba-3238a4436a1c",
   "metadata": {},
   "outputs": [],
   "source": [
    "import os.path as osp\n",
    "import climetlab as cml\n",
    "import matplotlib.pyplot as plt\n",
    "import numpy as np "
   ]
  },
  {
   "cell_type": "markdown",
   "id": "f8e40410-9bfb-425c-9f4f-dbf0fb872b33",
   "metadata": {},
   "source": [
    "SCA variables ?"
   ]
  },
  {
   "cell_type": "code",
   "execution_count": null,
   "id": "9ba07a51-ff12-4259-91a3-c3a03e0676a1",
   "metadata": {},
   "outputs": [],
   "source": [
    "sca_var_keys = [\n",
    "    'skin_temperature', \n",
    "    'cos_solar_zenith_angle',\n",
    "    'sw_albedo_band_0',\n",
    "    'sw_albedo_band_1',\n",
    "    'sw_albedo_band_2',\n",
    "    'sw_albedo_band_3',\n",
    "    'sw_albedo_band_4',\n",
    "    'sw_albedo_band_5',\n",
    "    'sw_albedo_direct_band_0',\n",
    "    'sw_albedo_direct_band_1',\n",
    "    'sw_albedo_direct_band_2',\n",
    "    'sw_albedo_direct_band_3',\n",
    "    'sw_albedo_direct_band_4',\n",
    "    'sw_albedo_direct_band_5',\n",
    "    'lw_emissivity_band_0',\n",
    "    'lw_emissivity_band_1',\n",
    "    'solar_irradiance'\n",
    "]"
   ]
  },
  {
   "cell_type": "markdown",
   "id": "8397756c-d4d4-4da6-b58b-14bfb4cefbab",
   "metadata": {},
   "source": [
    "COL variables?"
   ]
  },
  {
   "cell_type": "code",
   "execution_count": null,
   "id": "77a30c36-0346-4022-9821-24616f6b3098",
   "metadata": {},
   "outputs": [],
   "source": [
    "col_var_keys = [\n",
    "    'q', \n",
    "    'o3_mmr', \n",
    "    'co2_vmr', \n",
    "    'n2o_vmr', \n",
    "    'ch4_vmr', \n",
    "    'o2_vmr', \n",
    "    'cfc11_vmr', \n",
    "    'cfc12_vmr', \n",
    "    'hcfc22_vmr', \n",
    "    'ccl4_vmr', \n",
    "    'cloud_fraction',\n",
    "    'aerosol_mmr_0',\n",
    "    'aerosol_mmr_1',\n",
    "    'aerosol_mmr_2',\n",
    "    'aerosol_mmr_3',\n",
    "    'aerosol_mmr_4',\n",
    "    'aerosol_mmr_5',\n",
    "    'aerosol_mmr_6',\n",
    "    'aerosol_mmr_7',\n",
    "    'aerosol_mmr_8',\n",
    "    'aerosol_mmr_9',\n",
    "    'aerosol_mmr_10',\n",
    "    'aerosol_mmr_11',\n",
    "    'q_liquid', \n",
    "    'q_ice', \n",
    "    're_liquid', \n",
    "    're_ice'\n",
    "]"
   ]
  },
  {
   "cell_type": "markdown",
   "id": "bb060506-1283-4765-bcc1-7209d9f4e203",
   "metadata": {},
   "source": [
    "HL variables, INTER variables?"
   ]
  },
  {
   "cell_type": "code",
   "execution_count": null,
   "id": "c8022f83-21e6-4aea-9bcb-a78ad9985c50",
   "metadata": {},
   "outputs": [],
   "source": [
    "hl_var_keys = [\n",
    "    'temperature_hl', \n",
    "    'pressure_hl'\n",
    "]\n",
    "inter_var_key = [\n",
    "    'overlap_param'\n",
    "]"
   ]
  },
  {
   "cell_type": "markdown",
   "id": "f1869b28-d94f-40ae-ab33-09f1d105a034",
   "metadata": {},
   "source": [
    "### Defining the plotters"
   ]
  },
  {
   "cell_type": "markdown",
   "id": "84ebc84a-13dc-428d-bc61-a034c80f0e01",
   "metadata": {},
   "source": [
    "We use Matplotlib to quickly produce the graphs for UC understanding purposes."
   ]
  },
  {
   "cell_type": "code",
   "execution_count": null,
   "id": "132ba54c-e3a3-44fa-bc4a-31042f49f8c6",
   "metadata": {},
   "outputs": [],
   "source": [
    "def plot_sca(field: np.ndarray, idx: int) -> None:\n",
    "    \n",
    "    print(idx, sca_var_keys[idx])\n",
    "    \n",
    "    xmean, xstd = field.mean(), field.std()\n",
    "    \n",
    "    fig, ax = plt.subplots(figsize=(10, 8))\n",
    "    ax.hist(field, \n",
    "            bins=150, \n",
    "            histtype=\"step\", \n",
    "            density=True)\n",
    "    \n",
    "    ax.set_title('{}'.format(sca_var_keys[idx]))\n",
    "    \n",
    "    textstr = '\\n'.join((\n",
    "        r'$\\mu=%.2f$' % (xmean,),\n",
    "        r'$\\sigma=%.2f$' % (xstd,)\n",
    "    ))\n",
    "    \n",
    "    ax.text(0.75, \n",
    "            0.95, \n",
    "            textstr, \n",
    "            transform=ax.transAxes, \n",
    "            fontsize=10,\n",
    "            verticalalignment='top')\n",
    "    \n",
    "    path = osp.join(ARTIFACTS_PATH, f'hist-scalar-var-{sca_var_keys[idx]}')\n",
    "    plt.savefig(path)\n",
    "    plt.show()"
   ]
  },
  {
   "cell_type": "code",
   "execution_count": null,
   "id": "d73e254e-2419-4cdc-bec1-29588bca985e",
   "metadata": {},
   "outputs": [],
   "source": [
    "def plot_col(field: np.ndarray, idx: int, var_names: list) -> None:\n",
    "    \n",
    "    fig, ax = plt.subplots(1, 3, figsize=(15, 8))\n",
    "    \n",
    "    # Histogram\n",
    "    xmean, xstd = field.mean(), field.std()\n",
    "    print(xmean, xstd)\n",
    "    ax[0].hist(field.flatten(), \n",
    "               bins=150, \n",
    "               histtype=\"step\", \n",
    "               density=True)\n",
    "    \n",
    "    textstr = '\\n'.join((\n",
    "        r'$\\mu=%.3e$' % (xmean,),\n",
    "        r'$\\sigma=%.3e$' % (xstd,)\n",
    "    ))\n",
    "    ax[0].text(0.5, \n",
    "               0.95, \n",
    "               textstr, \n",
    "               transform=ax[0].transAxes, \n",
    "               fontsize=14,\n",
    "               verticalalignment='top')\n",
    "    \n",
    "    # vertical profile of mean variable\n",
    "    ax[1].plot(field.mean(axis=0), np.arange(field.shape[1]))\n",
    "    ax[1].invert_yaxis()\n",
    "    \n",
    "    # vertical profile of std variable\n",
    "    ax[2].plot(field.std(axis=0), np.arange(field.shape[1]))\n",
    "    ax[2].invert_yaxis()\n",
    "    \n",
    "    fig.suptitle('{}'.format(var_names[idx]), fontsize=16)\n",
    "    path = osp.join(ARTIFACTS_PATH, f'fig-var-{var_names[idx]}')\n",
    "    plt.savefig(path)\n",
    "    plt.show()"
   ]
  },
  {
   "cell_type": "code",
   "execution_count": null,
   "id": "c57c799b-acb0-4a18-b265-8cbd5a298663",
   "metadata": {},
   "outputs": [],
   "source": [
    "def plot_output(field: np.ndarray, name: str) -> None:\n",
    "    \n",
    "    fig, ax = plt.subplots(1, 3, figsize=(15, 8))\n",
    "    \n",
    "    # histogram\n",
    "    xmean, xstd = field.mean(), field.std()\n",
    "    print(xmean, xstd)\n",
    "    ax[0].hist(field.flatten(), \n",
    "               bins=150, \n",
    "               histtype=\"step\", \n",
    "               density=True)\n",
    "    \n",
    "    textstr = '\\n'.join((\n",
    "        r'$\\mu=%.3e$' % (xmean,),\n",
    "        r'$\\sigma=%.3e$' % (xstd,)\n",
    "    ))\n",
    "    ax[0].text(0.5, \n",
    "               0.95, \n",
    "               textstr, \n",
    "               transform=ax[0].transAxes, \n",
    "               fontsize=14,\n",
    "               verticalalignment='top')\n",
    "    \n",
    "    # vertical profile of mean variable\n",
    "    ax[1].plot(field.mean(axis=0), np.arange(field.shape[1]))\n",
    "    ax[1].invert_yaxis()\n",
    "    \n",
    "    # vertical profile of std variable\n",
    "    ax[2].plot(field.std(axis=0), np.arange(field.shape[1]))\n",
    "    ax[2].invert_yaxis()\n",
    "    \n",
    "    fig.suptitle('{}'.format(name), fontsize=16)\n",
    "    path = osp.join(ARTIFACTS_PATH, f'fig-var-{name}')\n",
    "    plt.savefig(path)\n",
    "    plt.show()"
   ]
  },
  {
   "cell_type": "markdown",
   "id": "ba94a559-2792-4d95-8b96-2346aa7a0ef7",
   "metadata": {},
   "source": [
    "## The raw dataset\n",
    "\n",
    "Don't mind this, we'll explain later, next notebook..."
   ]
  },
  {
   "cell_type": "code",
   "execution_count": null,
   "id": "8a1f7291-9ad5-4a6d-8d01-8aea97daaf06",
   "metadata": {},
   "outputs": [],
   "source": [
    "print(CACHED_DATA_PATH)"
   ]
  },
  {
   "cell_type": "code",
   "execution_count": null,
   "id": "feaf5252-d2d9-4f95-ab8f-c753acdb5e9d",
   "metadata": {
    "tags": []
   },
   "outputs": [],
   "source": [
    "cml.settings.set(\"cache-directory\", CACHED_DATA_PATH)\n",
    "cmlds = cml.load_dataset(\n",
    "        'maelstrom-radiation',\n",
    "        dataset='3dcorrection',\n",
    "        date=20200101,\n",
    "        timestep=[0],\n",
    "        patch=list(range(0, 16)),\n",
    "        raw_inputs=False,\n",
    "    )"
   ]
  },
  {
   "cell_type": "code",
   "execution_count": null,
   "id": "926c0663-7706-4d60-98f4-446f4a103dde",
   "metadata": {},
   "outputs": [],
   "source": [
    "cmlds.dataset_tags"
   ]
  },
  {
   "cell_type": "code",
   "execution_count": null,
   "id": "601adaec-b6b5-4711-a63d-c9daf1db34dd",
   "metadata": {},
   "outputs": [],
   "source": [
    "print(cmlds.isca_keys)\n",
    "print(cmlds.icol_keys)\n",
    "print(cmlds.ihl_keys)\n",
    "print(cmlds.iinter_keys)"
   ]
  },
  {
   "cell_type": "code",
   "execution_count": null,
   "id": "d9f86747-554b-4f78-aa5b-b51cc8e0ae89",
   "metadata": {},
   "outputs": [],
   "source": [
    "ds = cmlds.to_xarray()"
   ]
  },
  {
   "cell_type": "code",
   "execution_count": null,
   "id": "c53be0b9-8974-468c-85a7-4950d7ff18c2",
   "metadata": {},
   "outputs": [],
   "source": [
    "ds"
   ]
  },
  {
   "cell_type": "code",
   "execution_count": null,
   "id": "8b6c7f31-00bc-4b50-9014-31468eda1b9d",
   "metadata": {},
   "outputs": [],
   "source": [
    "ds.dims.get('col_variable')"
   ]
  },
  {
   "cell_type": "markdown",
   "id": "f11cdb3e-f1a3-4599-90af-8896ac939e2a",
   "metadata": {},
   "source": [
    "### Plotting the Physical values\n",
    "\n",
    "Finally, let's plot:\n",
    "1. The histogram for each Sca variable\n",
    "2. The values per model-level"
   ]
  },
  {
   "cell_type": "code",
   "execution_count": null,
   "id": "20e26c49-f322-4c19-b17e-175653b3eb85",
   "metadata": {
    "tags": []
   },
   "outputs": [],
   "source": [
    "for i in range(ds.dims.get('sca_variable')):\n",
    "    plot_sca(ds.sca_inputs[:, i], i)"
   ]
  },
  {
   "cell_type": "markdown",
   "id": "c510c55e-d93f-43a5-8634-44e0a1a31b35",
   "metadata": {},
   "source": [
    "Already, from a subset of the dataset, we see that:\n",
    "* Amplitudes are very different and will require normalization\n",
    "* Some of the variables seem useless, so we'll ditch them from the model\n",
    "* Some seem extremely correlated and redundant\n",
    "* Most are mostly uniform at the exception of a few values"
   ]
  },
  {
   "cell_type": "markdown",
   "id": "64efa22c-b0fe-4ed7-babb-e59e1ca7e42f",
   "metadata": {},
   "source": [
    "**The use-case is a bias correction model, so we expect the amplitudes to be quite low, including the stats (mean and variance).**"
   ]
  },
  {
   "cell_type": "code",
   "execution_count": null,
   "id": "cd17d188-798d-4254-bed4-0eff56378758",
   "metadata": {
    "tags": []
   },
   "outputs": [],
   "source": [
    "for i in range(ds.dims.get('col_variable')):\n",
    "    plot_col(np.array(ds.col_inputs[:, :, i]), i, col_var_keys)"
   ]
  },
  {
   "cell_type": "code",
   "execution_count": null,
   "id": "50f69294-0349-46c6-a449-8f3ad240fb88",
   "metadata": {},
   "outputs": [],
   "source": [
    "for i in range(ds.dims.get('hl_variable')):\n",
    "    plot_col(np.array(ds.hl_inputs[:, :, i]), i, hl_var_keys)"
   ]
  },
  {
   "cell_type": "code",
   "execution_count": null,
   "id": "ca6bf296-2602-4388-a1f1-d47660e8cde6",
   "metadata": {},
   "outputs": [],
   "source": [
    "i = 0\n",
    "plot_col(np.array(ds.inter_inputs[:, :, i]), i, inter_var_key)"
   ]
  },
  {
   "cell_type": "code",
   "execution_count": null,
   "id": "ec49e326-397e-44fe-906b-0903f5a66303",
   "metadata": {},
   "outputs": [],
   "source": [
    "plot_output(np.array(ds.flux_dn_lw), name=\"Downwards lw flux\")\n",
    "plot_output(np.array(ds.flux_up_lw), name=\"Upwards lw flux\")\n",
    "plot_output(np.array(ds.flux_dn_sw), name=\"Downwards sw flux\")\n",
    "plot_output(np.array(ds.flux_up_lw), name=\"Upwards sw flux\")\n",
    "plot_output(np.array(ds.hr_lw), name=\"lw heating rate\")\n",
    "plot_output(np.array(ds.hr_sw), name=\"sw heating rate\")"
   ]
  },
  {
   "cell_type": "code",
   "execution_count": null,
   "id": "3d938129-9f48-4275-b8c7-e524d0afb844",
   "metadata": {},
   "outputs": [],
   "source": []
  },
  {
   "cell_type": "code",
   "execution_count": null,
   "id": "f5a15b51-1ff1-412b-bd02-3b0cd6e9a41f",
   "metadata": {},
   "outputs": [],
   "source": []
  }
 ],
 "metadata": {
  "environment": {
   "kernel": "python3",
   "name": "pytorch-gpu.1-10.m90",
   "type": "gcloud",
   "uri": "gcr.io/deeplearning-platform-release/pytorch-gpu.1-10:m90"
  },
  "kernelspec": {
   "display_name": "Python 3 (ipykernel)",
   "language": "python",
   "name": "python3"
  },
  "language_info": {
   "codemirror_mode": {
    "name": "ipython",
    "version": 3
   },
   "file_extension": ".py",
   "mimetype": "text/x-python",
   "name": "python",
   "nbconvert_exporter": "python",
   "pygments_lexer": "ipython3",
   "version": "3.8.10"
  }
 },
 "nbformat": 4,
 "nbformat_minor": 5
}
