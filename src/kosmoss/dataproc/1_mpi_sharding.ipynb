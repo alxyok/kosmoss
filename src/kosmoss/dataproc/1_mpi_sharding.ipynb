{
 "cells": [
  {
   "cell_type": "code",
   "execution_count": 31,
   "id": "288f6e76-7246-4409-b7ea-2ce46e32d64b",
   "metadata": {},
   "outputs": [],
   "source": [
    "import this"
   ]
  },
  {
   "cell_type": "markdown",
   "id": "523e7e12-dac9-47c4-8d67-a210ff80daea",
   "metadata": {},
   "source": [
    "# Multithreaded Sharding"
   ]
  },
  {
   "cell_type": "markdown",
   "id": "7eb98219-6d6a-44d4-b3aa-f541d0a6a8f3",
   "metadata": {},
   "source": [
    "## Debugging the script"
   ]
  },
  {
   "cell_type": "code",
   "execution_count": 14,
   "id": "33011fa5-a07e-4a00-abb9-1f857aa61db9",
   "metadata": {},
   "outputs": [
    {
     "name": "stdout",
     "output_type": "stream",
     "text": [
      "# MIT License\n",
      "#\n",
      "# Copyright (c) 2022 alxyok\n",
      "#\n",
      "# Permission is hereby granted, free of charge, to any person obtaining a copy\n",
      "# of this software and associated documentation files (the \"Software\"), to deal\n",
      "# in the Software without restriction, including without limitation the rights\n",
      "# to use, copy, modify, merge, publish, distribute, sublicense, and/or sell\n",
      "# copies of the Software, and to permit persons to whom the Software is\n",
      "# furnished to do so, subject to the following conditions:\n",
      "#\n",
      "# The above copyright notice and this permission notice shall be included in all\n",
      "# copies or substantial portions of the Software.\n",
      "#\n",
      "# THE SOFTWARE IS PROVIDED \"AS IS\", WITHOUT WARRANTY OF ANY KIND, EXPRESS OR\n",
      "# IMPLIED, INCLUDING BUT NOT LIMITED TO THE WARRANTIES OF MERCHANTABILITY,\n",
      "# FITNESS FOR A PARTICULAR PURPOSE AND NONINFRINGEMENT. IN NO EVENT SHALL THE\n",
      "# AUTHORS OR COPYRIGHT HOLDERS BE LIABLE FOR ANY CLAIM, DAMAGES OR OTHER\n",
      "# LIABILITY, WHETHER IN AN ACTION OF CONTRACT, TORT OR OTHERWISE, ARISING FROM,\n",
      "# OUT OF OR IN CONNECTION WITH THE SOFTWARE OR THE USE OR OTHER DEALINGS IN THE\n",
      "# SOFTWARE.\n",
      "\n",
      "import h5py\n",
      "from mpi4py import MPI\n",
      "import numpy as np\n",
      "import os.path as osp\n",
      "import sys\n",
      "\n",
      "\n",
      "def main() -> None:\n",
      "    \n",
      "    sys.path.append(osp.abspath('..'))\n",
      "    \n",
      "    import config\n",
      "\n",
      "    step = 250\n",
      "    h5_path = osp.join(config.processed_data_path, f'features-{step}.h5')\n",
      "\n",
      "    rank = MPI.COMM_WORLD.rank\n",
      "\n",
      "    for subidx in np.arange(53):\n",
      "\n",
      "        start = rank * 53 * 2 ** 4 + subidx * 4800\n",
      "        end = start + 4800\n",
      "\n",
      "        with h5py.File(h5_path, 'r') as feats:\n",
      "\n",
      "            sharded_path = osp.join(config.processed_data_path, f'feats-{step}.{rank}.{subidx}.h5')\n",
      "            with h5py.File(sharded_path, 'w') as sharded:\n",
      "\n",
      "                sharded.create_dataset(\"/x\", data=feats['/x'][start:end])\n",
      "                sharded.create_dataset(\"/y\", data=feats['/y'][start:end])\n",
      "                sharded.create_dataset(\"/edge\", data=feats['/edge'][start:end])\n",
      "                \n",
      "                \n",
      "if __name__ == \"__main__\":\n",
      "    \n",
      "    main()"
     ]
    }
   ],
   "source": [
    "!cat _shard_parallel.py"
   ]
  },
  {
   "cell_type": "markdown",
   "id": "62acc7c9-540b-4128-9249-d23e22995abe",
   "metadata": {},
   "source": [
    "## Executing the script"
   ]
  },
  {
   "cell_type": "markdown",
   "id": "9c885eae-1af9-438b-997e-eee9d2a7b163",
   "metadata": {},
   "source": [
    "For some reason, `mpiexec` doesn't fancy being called from within a notebook?\n",
    "You'll have to execute the follow command in a terminal manually from within the script directory.\n",
    "\n",
    "`mpiexec -n 16 python _shard_parallel.py > ../logs/sharding.stdout`"
   ]
  },
  {
   "cell_type": "code",
   "execution_count": null,
   "id": "991dd9ac-9bb8-49b2-bc60-611f76f74e9a",
   "metadata": {},
   "outputs": [],
   "source": []
  }
 ],
 "metadata": {
  "environment": {
   "kernel": "python3",
   "name": "pytorch-gpu.1-10.m89",
   "type": "gcloud",
   "uri": "gcr.io/deeplearning-platform-release/pytorch-gpu.1-10:m89"
  },
  "kernelspec": {
   "display_name": "Python 3",
   "language": "python",
   "name": "python3"
  },
  "language_info": {
   "codemirror_mode": {
    "name": "ipython",
    "version": 3
   },
   "file_extension": ".py",
   "mimetype": "text/x-python",
   "name": "python",
   "nbconvert_exporter": "python",
   "pygments_lexer": "ipython3",
   "version": "3.7.12"
  }
 },
 "nbformat": 4,
 "nbformat_minor": 5
}
