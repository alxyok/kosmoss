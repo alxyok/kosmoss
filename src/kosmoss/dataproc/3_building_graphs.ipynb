{
 "cells": [
  {
   "cell_type": "markdown",
   "id": "523e7e12-dac9-47c4-8d67-a210ff80daea",
   "metadata": {
    "tags": []
   },
   "source": [
    "# Building graphs with MetaFlow"
   ]
  },
  {
   "cell_type": "markdown",
   "id": "a0f3575e-e0f0-41f4-b98d-6e795d7afa24",
   "metadata": {},
   "source": [
    "MetaFlow is a great framework designed for managing **data related workflows**. It can perform multiprocessed tasks threrefore bypassing the Python's GIL restrictions by leveraging the subprocess (separate Python interpreter) in a still very Pythonic dev angle. It tends to be compute intensive on the CPU, but in a host-dedicated environment, it's a handy tool."
   ]
  },
  {
   "cell_type": "code",
   "execution_count": 1,
   "id": "966ede38-59e6-4770-8735-28effa83b592",
   "metadata": {},
   "outputs": [
    {
     "name": "stdout",
     "output_type": "stream",
     "text": [
      "#!/usr/bin/bash \n",
      "\n",
      "export MAX_WORKERS=$(python -c \"import psutil; print(psutil.cpu_count(logical=False))\")\n",
      "\n",
      "USERNAME='mluser' python flows.py \\\n",
      "    run \\\n",
      "        --max-num-splits 6000 \\\n",
      "        --max-workers ${MAX_WORKERS}"
     ]
    }
   ],
   "source": [
    "!cat build_graphs.sh"
   ]
  },
  {
   "cell_type": "code",
   "execution_count": 2,
   "id": "40b7c0bf-542b-4b3c-93d7-2af9c102eee2",
   "metadata": {
    "tags": []
   },
   "outputs": [
    {
     "name": "stdout",
     "output_type": "stream",
     "text": [
      "\u001b[35m\u001b[1mMetaflow 2.5.0\u001b[0m\u001b[35m\u001b[22m executing \u001b[0m\u001b[31m\u001b[1mBuildGraphsFlow\u001b[0m\u001b[35m\u001b[22m\u001b[0m\u001b[35m\u001b[22m for \u001b[0m\u001b[31m\u001b[1muser:mluser\u001b[0m\u001b[35m\u001b[22m\u001b[K\u001b[0m\u001b[35m\u001b[22m\u001b[0m\n",
      "\u001b[35m\u001b[22mValidating your flow...\u001b[K\u001b[0m\u001b[35m\u001b[22m\u001b[0m\n",
      "\u001b[32m\u001b[1m    The graph looks good!\u001b[K\u001b[0m\u001b[32m\u001b[1m\u001b[0m\n",
      "\u001b[35m\u001b[22mRunning pylint...\u001b[K\u001b[0m\u001b[35m\u001b[22m\u001b[0m\n",
      "\u001b[32m\u001b[1m    Pylint is happy!\u001b[K\u001b[0m\u001b[32m\u001b[1m\u001b[0m\n",
      "\u001b[35m2022-02-17 14:24:42.839 \u001b[0m\u001b[1mWorkflow starting (run-id 1645107882835214):\u001b[0m\n",
      "\u001b[35m2022-02-17 14:24:42.847 \u001b[0m\u001b[32m[1645107882835214/start/1 (pid 13880)] \u001b[0m\u001b[1mTask is starting.\u001b[0m\n",
      "\u001b[35m2022-02-17 14:24:43.606 \u001b[0m\u001b[32m[1645107882835214/start/1 (pid 13880)] \u001b[0m\u001b[1mForeach yields 848 child steps.\u001b[0m\n",
      "\u001b[35m2022-02-17 14:24:43.606 \u001b[0m\u001b[32m[1645107882835214/start/1 (pid 13880)] \u001b[0m\u001b[1mTask finished successfully.\u001b[0m\n",
      "\u001b[35m2022-02-17 14:24:43.615 \u001b[0m\u001b[32m[1645107882835214/build_graphs/2 (pid 13916)] \u001b[0m\u001b[1mTask is starting.\u001b[0m\n",
      "\u001b[35m2022-02-17 14:24:43.621 \u001b[0m\u001b[32m[1645107882835214/build_graphs/3 (pid 13917)] \u001b[0m\u001b[1mTask is starting.\u001b[0m\n",
      "\u001b[35m2022-02-17 14:24:43.627 \u001b[0m\u001b[32m[1645107882835214/build_graphs/4 (pid 13918)] \u001b[0m\u001b[1mTask is starting.\u001b[0m\n",
      "\u001b[35m2022-02-17 14:24:43.634 \u001b[0m\u001b[32m[1645107882835214/build_graphs/5 (pid 13919)] \u001b[0m\u001b[1mTask is starting.\u001b[0m\n",
      "\u001b[35m2022-02-17 14:24:43.640 \u001b[0m\u001b[32m[1645107882835214/build_graphs/6 (pid 13920)] \u001b[0m\u001b[1mTask is starting.\u001b[0m\n",
      "\u001b[35m2022-02-17 14:24:43.645 \u001b[0m\u001b[32m[1645107882835214/build_graphs/7 (pid 13921)] \u001b[0m\u001b[1mTask is starting.\u001b[0m\n",
      "\u001b[35m2022-02-17 14:24:43.651 \u001b[0m\u001b[32m[1645107882835214/build_graphs/8 (pid 13922)] \u001b[0m\u001b[1mTask is starting.\u001b[0m\n",
      "\u001b[35m2022-02-17 14:24:43.657 \u001b[0m\u001b[32m[1645107882835214/build_graphs/9 (pid 13923)] \u001b[0m\u001b[1mTask is starting.\u001b[0m\n",
      "\u001b[35m2022-02-17 14:24:43.663 \u001b[0m\u001b[32m[1645107882835214/build_graphs/10 (pid 13924)] \u001b[0m\u001b[1mTask is starting.\u001b[0m\n",
      "\u001b[35m2022-02-17 14:24:43.669 \u001b[0m\u001b[32m[1645107882835214/build_graphs/11 (pid 13925)] \u001b[0m\u001b[1mTask is starting.\u001b[0m\n",
      "\u001b[35m2022-02-17 14:24:43.693 \u001b[0m\u001b[32m[1645107882835214/build_graphs/12 (pid 13926)] \u001b[0m\u001b[1mTask is starting.\u001b[0m\n",
      "\u001b[35m2022-02-17 14:24:43.699 \u001b[0m\u001b[32m[1645107882835214/build_graphs/13 (pid 13927)] \u001b[0m\u001b[1mTask is starting.\u001b[0m\n",
      "\u001b[35m2022-02-17 14:24:43.705 \u001b[0m\u001b[32m[1645107882835214/build_graphs/14 (pid 13928)] \u001b[0m\u001b[1mTask is starting.\u001b[0m\n",
      "\u001b[35m2022-02-17 14:24:43.711 \u001b[0m\u001b[32m[1645107882835214/build_graphs/15 (pid 13929)] \u001b[0m\u001b[1mTask is starting.\u001b[0m\n",
      "\u001b[35m2022-02-17 14:24:43.717 \u001b[0m\u001b[32m[1645107882835214/build_graphs/16 (pid 13930)] \u001b[0m\u001b[1mTask is starting.\u001b[0m\n",
      "\u001b[35m2022-02-17 14:24:43.724 \u001b[0m\u001b[32m[1645107882835214/build_graphs/17 (pid 13931)] \u001b[0m\u001b[1mTask is starting.\u001b[0m\n",
      "\u001b[35m2022-02-17 14:24:44.185 \u001b[0m\u001b[32m[1645107882835214/build_graphs/9 (pid 13923)] \u001b[0m\u001b[22mTraceback (most recent call last):\u001b[0m\n",
      "\u001b[35m2022-02-17 14:24:44.185 \u001b[0m\u001b[32m[1645107882835214/build_graphs/9 (pid 13923)] \u001b[0m\u001b[22mFile \"flows.py\", line 6, in <module>\u001b[0m\n",
      "\u001b[35m2022-02-17 14:24:44.186 \u001b[0m\u001b[32m[1645107882835214/build_graphs/9 (pid 13923)] \u001b[0m\u001b[22mfrom kosmoss import (CONFIG,\u001b[0m\n",
      "\u001b[35m2022-02-17 14:24:44.186 \u001b[0m\u001b[32m[1645107882835214/build_graphs/9 (pid 13923)] \u001b[0m\u001b[22mFile \"/opt/conda/lib/python3.7/site-packages/kosmoss/__init__.py\", line 30, in <module>\u001b[0m\n",
      "\u001b[35m2022-02-17 14:24:44.186 \u001b[0m\u001b[32m[1645107882835214/build_graphs/9 (pid 13923)] \u001b[0m\u001b[22mPARAMS = utils.load_attr(osp.join(ROOT_PATH, \"params.json\"), 'json')\u001b[0m\n",
      "\u001b[35m2022-02-17 14:24:44.186 \u001b[0m\u001b[32m[1645107882835214/build_graphs/9 (pid 13923)] \u001b[0m\u001b[22mFile \"/opt/conda/lib/python3.7/site-packages/kosmoss/utils.py\", line 112, in load_attr\u001b[0m\n",
      "\u001b[35m2022-02-17 14:24:44.187 \u001b[0m\u001b[32m[1645107882835214/build_graphs/9 (pid 13923)] \u001b[0m\u001b[22mattr = loader(stream)\u001b[0m\n",
      "\u001b[35m2022-02-17 14:24:44.187 \u001b[0m\u001b[32m[1645107882835214/build_graphs/9 (pid 13923)] \u001b[0m\u001b[22mFile \"/opt/conda/lib/python3.7/json/__init__.py\", line 296, in load\u001b[0m\n",
      "\u001b[35m2022-02-17 14:24:44.187 \u001b[0m\u001b[32m[1645107882835214/build_graphs/9 (pid 13923)] \u001b[0m\u001b[22mparse_constant=parse_constant, object_pairs_hook=object_pairs_hook, **kw)\u001b[0m\n",
      "\u001b[35m2022-02-17 14:24:44.187 \u001b[0m\u001b[32m[1645107882835214/build_graphs/9 (pid 13923)] \u001b[0m\u001b[22mFile \"/opt/conda/lib/python3.7/json/__init__.py\", line 348, in loads\u001b[0m\n",
      "\u001b[35m2022-02-17 14:24:44.187 \u001b[0m\u001b[32m[1645107882835214/build_graphs/9 (pid 13923)] \u001b[0m\u001b[22mreturn _default_decoder.decode(s)\u001b[0m\n",
      "\u001b[35m2022-02-17 14:24:44.188 \u001b[0m\u001b[32m[1645107882835214/build_graphs/9 (pid 13923)] \u001b[0m\u001b[22mFile \"/opt/conda/lib/python3.7/json/decoder.py\", line 337, in decode\u001b[0m\n",
      "\u001b[35m2022-02-17 14:24:44.188 \u001b[0m\u001b[32m[1645107882835214/build_graphs/9 (pid 13923)] \u001b[0m\u001b[22mobj, end = self.raw_decode(s, idx=_w(s, 0).end())\u001b[0m\n",
      "\u001b[35m2022-02-17 14:24:44.428 \u001b[0m\u001b[32m[1645107882835214/build_graphs/9 (pid 13923)] \u001b[0m\u001b[22mFile \"/opt/conda/lib/python3.7/json/decoder.py\", line 355, in raw_decode\u001b[0m\n",
      "\u001b[35m2022-02-17 14:24:44.428 \u001b[0m\u001b[32m[1645107882835214/build_graphs/9 (pid 13923)] \u001b[0m\u001b[22mraise JSONDecodeError(\"Expecting value\", s, err.value) from None\u001b[0m\n",
      "\u001b[35m2022-02-17 14:24:44.428 \u001b[0m\u001b[32m[1645107882835214/build_graphs/9 (pid 13923)] \u001b[0m\u001b[22mjson.decoder.JSONDecodeError: Expecting value: line 1 column 1 (char 0)\u001b[0m\n",
      "\u001b[35m2022-02-17 14:24:44.429 \u001b[0m\u001b[32m[1645107882835214/build_graphs/9 (pid 13923)] \u001b[0m\u001b[1mTask failed.\u001b[0m\n",
      "\u001b[35m2022-02-17 14:24:44.429 \u001b[0m\u001b[31m\u001b[1mWorkflow failed.\u001b[0m\n",
      "\u001b[35m2022-02-17 14:24:44.430 \u001b[0m\u001b[31m\u001b[1mTerminating 15 active tasks...\u001b[0m\n",
      "\u001b[35m2022-02-17 14:24:44.430 \u001b[0m\u001b[32m[1645107882835214/build_graphs/14 (pid 13928)] \u001b[0m\u001b[1m[KILLED BY ORCHESTRATOR]\u001b[0m\n",
      "\u001b[35m2022-02-17 14:24:44.430 \u001b[0m\u001b[32m[1645107882835214/build_graphs/14 (pid 13928)] \u001b[0m\u001b[1m[KILLED BY ORCHESTRATOR]\u001b[0m\n",
      "\u001b[35m2022-02-17 14:24:44.430 \u001b[0m\u001b[32m[1645107882835214/build_graphs/6 (pid 13920)] \u001b[0m\u001b[1m[KILLED BY ORCHESTRATOR]\u001b[0m\n",
      "\u001b[35m2022-02-17 14:24:44.430 \u001b[0m\u001b[32m[1645107882835214/build_graphs/6 (pid 13920)] \u001b[0m\u001b[1m[KILLED BY ORCHESTRATOR]\u001b[0m\n",
      "\u001b[35m2022-02-17 14:24:44.430 \u001b[0m\u001b[32m[1645107882835214/build_graphs/7 (pid 13921)] \u001b[0m\u001b[1m[KILLED BY ORCHESTRATOR]\u001b[0m\n",
      "\u001b[35m2022-02-17 14:24:44.431 \u001b[0m\u001b[32m[1645107882835214/build_graphs/7 (pid 13921)] \u001b[0m\u001b[1m[KILLED BY ORCHESTRATOR]\u001b[0m\n",
      "\u001b[35m2022-02-17 14:24:44.431 \u001b[0m\u001b[32m[1645107882835214/build_graphs/15 (pid 13929)] \u001b[0m\u001b[1m[KILLED BY ORCHESTRATOR]\u001b[0m\n",
      "\u001b[35m2022-02-17 14:24:44.431 \u001b[0m\u001b[32m[1645107882835214/build_graphs/15 (pid 13929)] \u001b[0m\u001b[1m[KILLED BY ORCHESTRATOR]\u001b[0m\n",
      "\u001b[35m2022-02-17 14:24:44.431 \u001b[0m\u001b[32m[1645107882835214/build_graphs/2 (pid 13916)] \u001b[0m\u001b[1m[KILLED BY ORCHESTRATOR]\u001b[0m\n",
      "\u001b[35m2022-02-17 14:24:44.431 \u001b[0m\u001b[32m[1645107882835214/build_graphs/2 (pid 13916)] \u001b[0m\u001b[1m[KILLED BY ORCHESTRATOR]\u001b[0m\n",
      "\u001b[35m2022-02-17 14:24:44.431 \u001b[0m\u001b[32m[1645107882835214/build_graphs/3 (pid 13917)] \u001b[0m\u001b[1m[KILLED BY ORCHESTRATOR]\u001b[0m\n",
      "\u001b[35m2022-02-17 14:24:44.432 \u001b[0m\u001b[32m[1645107882835214/build_graphs/3 (pid 13917)] \u001b[0m\u001b[1m[KILLED BY ORCHESTRATOR]\u001b[0m\n",
      "\u001b[35m2022-02-17 14:24:44.432 \u001b[0m\u001b[32m[1645107882835214/build_graphs/10 (pid 13924)] \u001b[0m\u001b[1m[KILLED BY ORCHESTRATOR]\u001b[0m\n",
      "\u001b[35m2022-02-17 14:24:44.432 \u001b[0m\u001b[32m[1645107882835214/build_graphs/10 (pid 13924)] \u001b[0m\u001b[1m[KILLED BY ORCHESTRATOR]\u001b[0m\n",
      "\u001b[35m2022-02-17 14:24:44.432 \u001b[0m\u001b[32m[1645107882835214/build_graphs/12 (pid 13926)] \u001b[0m\u001b[1m[KILLED BY ORCHESTRATOR]\u001b[0m\n",
      "\u001b[35m2022-02-17 14:24:44.432 \u001b[0m\u001b[32m[1645107882835214/build_graphs/12 (pid 13926)] \u001b[0m\u001b[1m[KILLED BY ORCHESTRATOR]\u001b[0m\n",
      "\u001b[35m2022-02-17 14:24:44.432 \u001b[0m\u001b[32m[1645107882835214/build_graphs/11 (pid 13925)] \u001b[0m\u001b[1m[KILLED BY ORCHESTRATOR]\u001b[0m\n",
      "\u001b[35m2022-02-17 14:24:44.433 \u001b[0m\u001b[32m[1645107882835214/build_graphs/11 (pid 13925)] \u001b[0m\u001b[1m[KILLED BY ORCHESTRATOR]\u001b[0m\n",
      "\u001b[35m2022-02-17 14:24:44.433 \u001b[0m\u001b[32m[1645107882835214/build_graphs/13 (pid 13927)] \u001b[0m\u001b[1m[KILLED BY ORCHESTRATOR]\u001b[0m\n",
      "\u001b[35m2022-02-17 14:24:44.433 \u001b[0m\u001b[32m[1645107882835214/build_graphs/13 (pid 13927)] \u001b[0m\u001b[1m[KILLED BY ORCHESTRATOR]\u001b[0m\n",
      "\u001b[35m2022-02-17 14:24:44.433 \u001b[0m\u001b[32m[1645107882835214/build_graphs/17 (pid 13931)] \u001b[0m\u001b[1m[KILLED BY ORCHESTRATOR]\u001b[0m\n",
      "\u001b[35m2022-02-17 14:24:44.433 \u001b[0m\u001b[32m[1645107882835214/build_graphs/17 (pid 13931)] \u001b[0m\u001b[1m[KILLED BY ORCHESTRATOR]\u001b[0m\n",
      "\u001b[35m2022-02-17 14:24:44.434 \u001b[0m\u001b[32m[1645107882835214/build_graphs/4 (pid 13918)] \u001b[0m\u001b[1m[KILLED BY ORCHESTRATOR]\u001b[0m\n",
      "\u001b[35m2022-02-17 14:24:44.434 \u001b[0m\u001b[32m[1645107882835214/build_graphs/4 (pid 13918)] \u001b[0m\u001b[1m[KILLED BY ORCHESTRATOR]\u001b[0m\n",
      "\u001b[35m2022-02-17 14:24:44.434 \u001b[0m\u001b[32m[1645107882835214/build_graphs/8 (pid 13922)] \u001b[0m\u001b[1m[KILLED BY ORCHESTRATOR]\u001b[0m\n",
      "\u001b[35m2022-02-17 14:24:44.434 \u001b[0m\u001b[32m[1645107882835214/build_graphs/8 (pid 13922)] \u001b[0m\u001b[1m[KILLED BY ORCHESTRATOR]\u001b[0m\n",
      "\u001b[35m2022-02-17 14:24:44.434 \u001b[0m\u001b[32m[1645107882835214/build_graphs/16 (pid 13930)] \u001b[0m\u001b[1m[KILLED BY ORCHESTRATOR]\u001b[0m\n",
      "\u001b[35m2022-02-17 14:24:44.434 \u001b[0m\u001b[32m[1645107882835214/build_graphs/16 (pid 13930)] \u001b[0m\u001b[1m[KILLED BY ORCHESTRATOR]\u001b[0m\n",
      "\u001b[35m2022-02-17 14:24:44.435 \u001b[0m\u001b[32m[1645107882835214/build_graphs/5 (pid 13919)] \u001b[0m\u001b[1m[KILLED BY ORCHESTRATOR]\u001b[0m\n",
      "\u001b[35m2022-02-17 14:24:44.435 \u001b[0m\u001b[32m[1645107882835214/build_graphs/5 (pid 13919)] \u001b[0m\u001b[1m[KILLED BY ORCHESTRATOR]\u001b[0m\n",
      "\u001b[35m2022-02-17 14:24:49.000 \u001b[0m\u001b[31m\u001b[1mKilling 15 remaining tasks after having waited for 5 seconds -- some tasks may not exit cleanly\u001b[0m\n",
      "\u001b[35m2022-02-17 14:24:49.004 \u001b[0m\u001b[31m\u001b[1mFlushing logs...\u001b[0m\n",
      "\u001b[35m2022-02-17 14:24:49.074 \u001b[0m\u001b[1mThis failed task will not be retried.\u001b[0m\n",
      "\u001b[35m2022-02-17 14:24:49.105 \u001b[0m\u001b[1mThis failed task will not be retried.\u001b[0m\n",
      "\u001b[35m2022-02-17 14:24:49.106 \u001b[0m\u001b[1mThis failed task will not be retried.\u001b[0m\n",
      "\u001b[1m    Step failure\u001b[0m\u001b[22m:\u001b[K\u001b[0m\u001b[22m\u001b[0m\n",
      "\u001b[22m    Step \u001b[0m\u001b[31m\u001b[1mbuild_graphs\u001b[0m\u001b[22m (task-id 9) failed.\u001b[K\u001b[0m\u001b[22m\u001b[0m\n",
      "\u001b[22m\u001b[K\u001b[0m\n",
      "\u001b[0m"
     ]
    }
   ],
   "source": [
    "!bash build_graphs.sh"
   ]
  },
  {
   "cell_type": "markdown",
   "id": "7252f92e-2e23-44a1-9962-462819e034d3",
   "metadata": {},
   "source": [
    "The neat thing with MetaFlow is that it registers everything in a namespace, and centralizes the logs and artifacts produced for each run. This data is then viewable with the commands below. Everything is Python-scriptable, which is a huge advantage."
   ]
  },
  {
   "cell_type": "markdown",
   "id": "cfc581fb-9bd3-4862-9701-5b77da5b9841",
   "metadata": {},
   "source": [
    "We launched the run with the `USERNAME` set at `'mluser'` so everything is stored under that namespace."
   ]
  },
  {
   "cell_type": "code",
   "execution_count": 13,
   "id": "01f766c2-1ec2-4efd-87d7-88950728eff6",
   "metadata": {},
   "outputs": [
    {
     "name": "stdout",
     "output_type": "stream",
     "text": [
      "[Run('BuildGraphsFlow/1644939228924458'),\n",
      " Run('BuildGraphsFlow/1644939170651991'),\n",
      " Run('BuildGraphsFlow/1644939034351635'),\n",
      " Run('BuildGraphsFlow/1644939000054534'),\n",
      " Run('BuildGraphsFlow/1644938768013885'),\n",
      " Run('BuildGraphsFlow/1644938649267334')]\n"
     ]
    }
   ],
   "source": [
    "from metaflow import Flow, namespace\n",
    "from pprint import pprint\n",
    "\n",
    "namespace('user:mluser')\n",
    "flow = Flow('BuildGraphsFlow')\n",
    "runs = list(flow)\n",
    "run0 = runs[0]\n",
    "run0.data.name\n",
    "\n",
    "pprint(runs)"
   ]
  },
  {
   "cell_type": "code",
   "execution_count": 25,
   "id": "5867523d-7b82-47c6-b153-62b1ab9ae6b7",
   "metadata": {},
   "outputs": [
    {
     "name": "stdout",
     "output_type": "stream",
     "text": [
      "[Step('BuildGraphsFlow/1644939228924458/end'),\n",
      " Step('BuildGraphsFlow/1644939228924458/join'),\n",
      " Step('BuildGraphsFlow/1644939228924458/build_graphs'),\n",
      " Step('BuildGraphsFlow/1644939228924458/start')]\n"
     ]
    }
   ],
   "source": [
    "# Isolated last Run\n",
    "run = Flow('BuildGraphsFlow').latest_run\n",
    "\n",
    "# Get Steps from that Run\n",
    "steps = list(run.steps())\n",
    "pprint(steps)\n",
    "\n",
    "# Isolate Tasks from the Start Step\n",
    "start_tasks = list(steps[-1].tasks())"
   ]
  },
  {
   "cell_type": "code",
   "execution_count": 32,
   "id": "75f16fa0-6c82-40f5-a075-306106216b98",
   "metadata": {},
   "outputs": [
    {
     "data": {
      "text/plain": [
       "[DataArtifact('BuildGraphsFlow/1644939228924458/start/1/out_dir'),\n",
       " DataArtifact('BuildGraphsFlow/1644939228924458/start/1/timestep'),\n",
       " DataArtifact('BuildGraphsFlow/1644939228924458/start/1/params'),\n",
       " DataArtifact('BuildGraphsFlow/1644939228924458/start/1/shard'),\n",
       " DataArtifact('BuildGraphsFlow/1644939228924458/start/1/name')]"
      ]
     },
     "execution_count": 32,
     "metadata": {},
     "output_type": "execute_result"
    }
   ],
   "source": [
    "# Restrieve the list of artifacts registered at the Start Step\n",
    "start_artifacts = tasks[0].artifacts\n",
    "list(start_artifacts)"
   ]
  },
  {
   "cell_type": "code",
   "execution_count": 35,
   "id": "c1e3f4a4-43e8-45e3-a449-3e39f19e500a",
   "metadata": {},
   "outputs": [
    {
     "data": {
      "text/plain": [
       "{'dtype': 'float32',\n",
       " 'timestep': 1000,\n",
       " 'dataset_len': 1085440,\n",
       " 'num_shards': 848,\n",
       " 'x_shape': [1280, 136, 17],\n",
       " 'y_shape': [1280, 138, 1],\n",
       " 'edge_shape': [1280, 137, 27]}"
      ]
     },
     "execution_count": 35,
     "metadata": {},
     "output_type": "execute_result"
    }
   ],
   "source": [
    "start_artifacts.params.data"
   ]
  },
  {
   "cell_type": "code",
   "execution_count": null,
   "id": "e2465e10-12fd-4710-a665-01976f2cbc85",
   "metadata": {},
   "outputs": [],
   "source": []
  }
 ],
 "metadata": {
  "environment": {
   "kernel": "python3",
   "name": "pytorch-gpu.1-10.m89",
   "type": "gcloud",
   "uri": "gcr.io/deeplearning-platform-release/pytorch-gpu.1-10:m89"
  },
  "kernelspec": {
   "display_name": "Python 3",
   "language": "python",
   "name": "python3"
  },
  "language_info": {
   "codemirror_mode": {
    "name": "ipython",
    "version": 3
   },
   "file_extension": ".py",
   "mimetype": "text/x-python",
   "name": "python",
   "nbconvert_exporter": "python",
   "pygments_lexer": "ipython3",
   "version": "3.7.12"
  }
 },
 "nbformat": 4,
 "nbformat_minor": 5
}
