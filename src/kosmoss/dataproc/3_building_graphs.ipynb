{
 "cells": [
  {
   "cell_type": "raw",
   "id": "c15fb0b3-888c-4713-b358-2c8961b177b1",
   "metadata": {},
   "source": [
    "MIT License\n",
    "\n",
    "Copyright (c) 2022 alxyok\n",
    "\n",
    "Permission is hereby granted, free of charge, to any person obtaining a copy\n",
    "of this software and associated documentation files (the \"Software\"), to deal\n",
    "in the Software without restriction, including without limitation the rights\n",
    "to use, copy, modify, merge, publish, distribute, sublicense, and/or sell\n",
    "copies of the Software, and to permit persons to whom the Software is\n",
    "furnished to do so, subject to the following conditions:\n",
    "\n",
    "The above copyright notice and this permission notice shall be included in all\n",
    "copies or substantial portions of the Software.\n",
    "\n",
    "THE SOFTWARE IS PROVIDED \"AS IS\", WITHOUT WARRANTY OF ANY KIND, EXPRESS OR\n",
    "IMPLIED, INCLUDING BUT NOT LIMITED TO THE WARRANTIES OF MERCHANTABILITY,\n",
    "FITNESS FOR A PARTICULAR PURPOSE AND NONINFRINGEMENT. IN NO EVENT SHALL THE\n",
    "AUTHORS OR COPYRIGHT HOLDERS BE LIABLE FOR ANY CLAIM, DAMAGES OR OTHER\n",
    "LIABILITY, WHETHER IN AN ACTION OF CONTRACT, TORT OR OTHERWISE, ARISING FROM,\n",
    "OUT OF OR IN CONNECTION WITH THE SOFTWARE OR THE USE OR OTHER DEALINGS IN THE\n",
    "SOFTWARE."
   ]
  },
  {
   "cell_type": "markdown",
   "id": "40589b09-ef34-4bd9-8540-1beadc29aa6d",
   "metadata": {},
   "source": [
    "****************************************************************"
   ]
  },
  {
   "cell_type": "markdown",
   "id": "523e7e12-dac9-47c4-8d67-a210ff80daea",
   "metadata": {},
   "source": [
    "# Building graphs with MetaFlow"
   ]
  },
  {
   "cell_type": "code",
   "execution_count": 1,
   "id": "966ede38-59e6-4770-8735-28effa83b592",
   "metadata": {},
   "outputs": [
    {
     "name": "stdout",
     "output_type": "stream",
     "text": [
      "#!/usr/bin/bash \n",
      "# MIT License\n",
      "# \n",
      "# Copyright (c) 2022 alxyok\n",
      "# \n",
      "# Permission is hereby granted, free of charge, to any person obtaining a copy\n",
      "# of this software and associated documentation files (the \"Software\"), to deal\n",
      "# in the Software without restriction, including without limitation the rights\n",
      "# to use, copy, modify, merge, publish, distribute, sublicense, and/or sell\n",
      "# copies of the Software, and to permit persons to whom the Software is\n",
      "# furnished to do so, subject to the following conditions:\n",
      "# \n",
      "# The above copyright notice and this permission notice shall be included in all\n",
      "# copies or substantial portions of the Software.\n",
      "# \n",
      "# THE SOFTWARE IS PROVIDED \"AS IS\", WITHOUT WARRANTY OF ANY KIND, EXPRESS OR\n",
      "# IMPLIED, INCLUDING BUT NOT LIMITED TO THE WARRANTIES OF MERCHANTABILITY,\n",
      "# FITNESS FOR A PARTICULAR PURPOSE AND NONINFRINGEMENT. IN NO EVENT SHALL THE\n",
      "# AUTHORS OR COPYRIGHT HOLDERS BE LIABLE FOR ANY CLAIM, DAMAGES OR OTHER\n",
      "# LIABILITY, WHETHER IN AN ACTION OF CONTRACT, TORT OR OTHERWISE, ARISING FROM,\n",
      "# OUT OF OR IN CONNECTION WITH THE SOFTWARE OR THE USE OR OTHER DEALINGS IN THE\n",
      "# SOFTWARE.\n",
      "\n",
      "export MAX_WORKERS=$(python -c \"import psutil; print(psutil.cpu_count(logical=False))\")\n",
      "\n",
      "USERNAME='mluser' python ../flows.py \\\n",
      "    run \\\n",
      "        --max-num-splits 6000 \\\n",
      "        --max-workers ${MAX_WORKERS} >> ../logs/graph_build.stdout"
     ]
    }
   ],
   "source": [
    "!cat build_graphs.sh"
   ]
  },
  {
   "cell_type": "code",
   "execution_count": 38,
   "id": "40b7c0bf-542b-4b3c-93d7-2af9c102eee2",
   "metadata": {
    "tags": []
   },
   "outputs": [
    {
     "name": "stderr",
     "output_type": "stream",
     "text": [
      "Metaflow 2.5.0 executing BuildGraphsFlow for user:mluser\n",
      "Validating your flow...\n",
      "    The graph looks good!\n",
      "Running pylint...\n",
      "    Pylint is happy!\n"
     ]
    }
   ],
   "source": [
    "!build_graphs.py"
   ]
  },
  {
   "cell_type": "markdown",
   "id": "7252f92e-2e23-44a1-9962-462819e034d3",
   "metadata": {},
   "source": [
    "The neat thing with MetaFlow is that it registers everything in a namespace, and centralizes the logs and artifacts produced for each run. This data is then viewable with the commands below. Everything is Python-scriptable, which is a huge advantage."
   ]
  },
  {
   "cell_type": "markdown",
   "id": "cfc581fb-9bd3-4862-9701-5b77da5b9841",
   "metadata": {},
   "source": [
    "We launched the run with the `USERNAME` set at `'mluser'` so everything is stored under that namespace."
   ]
  },
  {
   "cell_type": "code",
   "execution_count": 13,
   "id": "01f766c2-1ec2-4efd-87d7-88950728eff6",
   "metadata": {},
   "outputs": [
    {
     "name": "stdout",
     "output_type": "stream",
     "text": [
      "[Run('BuildGraphsFlow/1644939228924458'),\n",
      " Run('BuildGraphsFlow/1644939170651991'),\n",
      " Run('BuildGraphsFlow/1644939034351635'),\n",
      " Run('BuildGraphsFlow/1644939000054534'),\n",
      " Run('BuildGraphsFlow/1644938768013885'),\n",
      " Run('BuildGraphsFlow/1644938649267334')]\n"
     ]
    }
   ],
   "source": [
    "from metaflow import Flow, namespace\n",
    "from pprint import pprint\n",
    "\n",
    "namespace('user:mluser')\n",
    "flow = Flow('BuildGraphsFlow')\n",
    "runs = list(flow)\n",
    "run0 = runs[0]\n",
    "run0.data.name\n",
    "\n",
    "pprint(runs)"
   ]
  },
  {
   "cell_type": "code",
   "execution_count": 25,
   "id": "5867523d-7b82-47c6-b153-62b1ab9ae6b7",
   "metadata": {},
   "outputs": [
    {
     "name": "stdout",
     "output_type": "stream",
     "text": [
      "[Step('BuildGraphsFlow/1644939228924458/end'),\n",
      " Step('BuildGraphsFlow/1644939228924458/join'),\n",
      " Step('BuildGraphsFlow/1644939228924458/build_graphs'),\n",
      " Step('BuildGraphsFlow/1644939228924458/start')]\n"
     ]
    }
   ],
   "source": [
    "# Isolated last Run\n",
    "run = Flow('BuildGraphsFlow').latest_run\n",
    "\n",
    "# Get Steps from that Run\n",
    "steps = list(run.steps())\n",
    "pprint(steps)\n",
    "\n",
    "# Isolate Tasks from the Start Step\n",
    "start_tasks = list(steps[-1].tasks())"
   ]
  },
  {
   "cell_type": "code",
   "execution_count": 32,
   "id": "75f16fa0-6c82-40f5-a075-306106216b98",
   "metadata": {},
   "outputs": [
    {
     "data": {
      "text/plain": [
       "[DataArtifact('BuildGraphsFlow/1644939228924458/start/1/out_dir'),\n",
       " DataArtifact('BuildGraphsFlow/1644939228924458/start/1/timestep'),\n",
       " DataArtifact('BuildGraphsFlow/1644939228924458/start/1/params'),\n",
       " DataArtifact('BuildGraphsFlow/1644939228924458/start/1/shard'),\n",
       " DataArtifact('BuildGraphsFlow/1644939228924458/start/1/name')]"
      ]
     },
     "execution_count": 32,
     "metadata": {},
     "output_type": "execute_result"
    }
   ],
   "source": [
    "# Restrieve the list of artifacts registered at the Start Step\n",
    "start_artifacts = tasks[0].artifacts\n",
    "list(start_artifacts)"
   ]
  },
  {
   "cell_type": "code",
   "execution_count": 35,
   "id": "c1e3f4a4-43e8-45e3-a449-3e39f19e500a",
   "metadata": {},
   "outputs": [
    {
     "data": {
      "text/plain": [
       "{'dtype': 'float32',\n",
       " 'timestep': 1000,\n",
       " 'dataset_len': 1085440,\n",
       " 'num_shards': 848,\n",
       " 'x_shape': [1280, 136, 17],\n",
       " 'y_shape': [1280, 138, 1],\n",
       " 'edge_shape': [1280, 137, 27]}"
      ]
     },
     "execution_count": 35,
     "metadata": {},
     "output_type": "execute_result"
    }
   ],
   "source": [
    "start_artifacts.params.data"
   ]
  },
  {
   "cell_type": "code",
   "execution_count": null,
   "id": "e2465e10-12fd-4710-a665-01976f2cbc85",
   "metadata": {},
   "outputs": [],
   "source": []
  }
 ],
 "metadata": {
  "environment": {
   "kernel": "python3",
   "name": "pytorch-gpu.1-10.m89",
   "type": "gcloud",
   "uri": "gcr.io/deeplearning-platform-release/pytorch-gpu.1-10:m89"
  },
  "kernelspec": {
   "display_name": "Python 3",
   "language": "python",
   "name": "python3"
  },
  "language_info": {
   "codemirror_mode": {
    "name": "ipython",
    "version": 3
   },
   "file_extension": ".py",
   "mimetype": "text/x-python",
   "name": "python",
   "nbconvert_exporter": "python",
   "pygments_lexer": "ipython3",
   "version": "3.7.12"
  }
 },
 "nbformat": 4,
 "nbformat_minor": 5
}
