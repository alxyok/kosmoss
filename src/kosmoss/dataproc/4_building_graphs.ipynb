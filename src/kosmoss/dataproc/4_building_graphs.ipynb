{
 "cells": [
  {
   "cell_type": "markdown",
   "id": "523e7e12-dac9-47c4-8d67-a210ff80daea",
   "metadata": {
    "tags": []
   },
   "source": [
    "# Building graphs with MetaFlow"
   ]
  },
  {
   "cell_type": "markdown",
   "id": "a0f3575e-e0f0-41f4-b98d-6e795d7afa24",
   "metadata": {},
   "source": [
    "MetaFlow is a great framework designed for managing **data related workflows**. \n",
    "\n",
    "It can perform multiprocessed tasks threrefore bypassing the Python's GIL restrictions by leveraging the subprocess (separate Python interpreter) in a still very Pythonic dev angle. It tends to be compute intensive on the CPU, but in a host-dedicated environment, it's a handy tool.\n",
    "\n",
    "We will demonstrate its ease-of-use on a simple example: building the graphs from the previously processed featured data. "
   ]
  },
  {
   "cell_type": "code",
   "execution_count": 1,
   "id": "966ede38-59e6-4770-8735-28effa83b592",
   "metadata": {},
   "outputs": [
    {
     "name": "stdout",
     "output_type": "stream",
     "text": [
      "#!/usr/bin/bash \n",
      "\n",
      "export MAX_WORKERS=$(python -c \"import psutil; print(psutil.cpu_count(logical=False))\")\n",
      "\n",
      "USERNAME='mluser' python flows.py \\\n",
      "    run \\\n",
      "        --max-num-splits 7000 \\\n",
      "        --max-workers ${MAX_WORKERS} >> ${HOME}/.kosmoss/logs/build_graphs.stdout"
     ]
    }
   ],
   "source": [
    "!cat build_graphs.sh"
   ]
  },
  {
   "cell_type": "markdown",
   "id": "41954438-27ea-44a7-b8e8-99458eee7b30",
   "metadata": {},
   "source": [
    "Open the `flows.py` file and debug it."
   ]
  },
  {
   "cell_type": "code",
   "execution_count": 2,
   "id": "40b7c0bf-542b-4b3c-93d7-2af9c102eee2",
   "metadata": {
    "tags": []
   },
   "outputs": [
    {
     "name": "stdout",
     "output_type": "stream",
     "text": [
      "\u001b[35m\u001b[1mMetaflow 2.5.0\u001b[0m\u001b[35m\u001b[22m executing \u001b[0m\u001b[31m\u001b[1mBuildGraphsFlow\u001b[0m\u001b[35m\u001b[22m\u001b[0m\u001b[35m\u001b[22m for \u001b[0m\u001b[31m\u001b[1muser:mluser\u001b[0m\u001b[35m\u001b[22m\u001b[K\u001b[0m\u001b[35m\u001b[22m\u001b[0m\n",
      "\u001b[35m\u001b[22mValidating your flow...\u001b[K\u001b[0m\u001b[35m\u001b[22m\u001b[0m\n",
      "\u001b[32m\u001b[1m    The graph looks good!\u001b[K\u001b[0m\u001b[32m\u001b[1m\u001b[0m\n",
      "\u001b[35m\u001b[22mRunning pylint...\u001b[K\u001b[0m\u001b[35m\u001b[22m\u001b[0m\n",
      "\u001b[32m\u001b[1m    Pylint is happy!\u001b[K\u001b[0m\u001b[32m\u001b[1m\u001b[0m\n"
     ]
    }
   ],
   "source": [
    "!bash build_graphs.sh"
   ]
  },
  {
   "cell_type": "markdown",
   "id": "7252f92e-2e23-44a1-9962-462819e034d3",
   "metadata": {},
   "source": [
    "The neat thing with MetaFlow is that it registers everything in a namespace, and centralizes the logs and artifacts produced for each run. \n",
    "\n",
    "This data is then viewable with the commands below. Everything is Python-scriptable, which is a huge advantage.\n",
    "\n",
    "We launched the run with the `USERNAME` set at `'mluser'` so everything is stored under that namespace."
   ]
  },
  {
   "cell_type": "code",
   "execution_count": 2,
   "id": "8ec63e66-1b40-4b8e-b739-4650cf3757b6",
   "metadata": {},
   "outputs": [
    {
     "data": {
      "text/plain": [
       "187"
      ]
     },
     "execution_count": 2,
     "metadata": {},
     "output_type": "execute_result"
    }
   ],
   "source": [
    "from kosmoss import CONFIG, PROCESSED_DATA_PATH\n",
    "import os.path as osp\n",
    "import shutil\n",
    "\n",
    "_, used, _ = shutil.disk_usage(osp.join(PROCESSED_DATA_PATH, f\"graphs-{CONFIG['timestep']}\"))\n",
    "used // 2 ** 30"
   ]
  },
  {
   "cell_type": "code",
   "execution_count": 3,
   "id": "01f766c2-1ec2-4efd-87d7-88950728eff6",
   "metadata": {},
   "outputs": [
    {
     "name": "stdout",
     "output_type": "stream",
     "text": [
      "[Run('BuildGraphsFlow/1645199395087434'),\n",
      " Run('BuildGraphsFlow/1645198826240123'),\n",
      " Run('BuildGraphsFlow/1645196218706754'),\n",
      " Run('BuildGraphsFlow/1645196181584531'),\n",
      " Run('BuildGraphsFlow/1645120758149454'),\n",
      " Run('BuildGraphsFlow/1645119463179640'),\n",
      " Run('BuildGraphsFlow/1645118944827984'),\n",
      " Run('BuildGraphsFlow/1645113974841657'),\n",
      " Run('BuildGraphsFlow/1645113549978964'),\n",
      " Run('BuildGraphsFlow/1645113475192636'),\n",
      " Run('BuildGraphsFlow/1645113414895923'),\n",
      " Run('BuildGraphsFlow/1645113354496294'),\n",
      " Run('BuildGraphsFlow/1645113295883944'),\n",
      " Run('BuildGraphsFlow/1645112614290339'),\n",
      " Run('BuildGraphsFlow/1645112032400082'),\n",
      " Run('BuildGraphsFlow/1645111655483619'),\n",
      " Run('BuildGraphsFlow/1645107882835214'),\n",
      " Run('BuildGraphsFlow/1645107534723044'),\n",
      " Run('BuildGraphsFlow/1645106947880002'),\n",
      " Run('BuildGraphsFlow/1645106880212705'),\n",
      " Run('BuildGraphsFlow/1645106069216544'),\n",
      " Run('BuildGraphsFlow/1645105603685647'),\n",
      " Run('BuildGraphsFlow/1645104292879028'),\n",
      " Run('BuildGraphsFlow/1645104175559484'),\n",
      " Run('BuildGraphsFlow/1645103782139808')]\n"
     ]
    }
   ],
   "source": [
    "from metaflow import Flow, namespace\n",
    "from pprint import pprint\n",
    "\n",
    "namespace('user:mluser')\n",
    "flow = Flow('BuildGraphsFlow')\n",
    "runs = list(flow)\n",
    "run0 = runs[0]\n",
    "run0.data.name\n",
    "\n",
    "pprint(runs)"
   ]
  },
  {
   "cell_type": "code",
   "execution_count": 4,
   "id": "5867523d-7b82-47c6-b153-62b1ab9ae6b7",
   "metadata": {},
   "outputs": [
    {
     "name": "stdout",
     "output_type": "stream",
     "text": [
      "[Step('BuildGraphsFlow/1645199395087434/end'),\n",
      " Step('BuildGraphsFlow/1645199395087434/join'),\n",
      " Step('BuildGraphsFlow/1645199395087434/build_graphs'),\n",
      " Step('BuildGraphsFlow/1645199395087434/start')]\n"
     ]
    }
   ],
   "source": [
    "# Isolated last Run\n",
    "run = Flow('BuildGraphsFlow').latest_run\n",
    "\n",
    "# Get Steps from that Run\n",
    "steps = list(run.steps())\n",
    "pprint(steps)\n",
    "\n",
    "# Isolate Tasks from the Start Step\n",
    "start_tasks = list(steps[-1].tasks())"
   ]
  },
  {
   "cell_type": "code",
   "execution_count": 6,
   "id": "75f16fa0-6c82-40f5-a075-306106216b98",
   "metadata": {},
   "outputs": [
    {
     "data": {
      "text/plain": [
       "[DataArtifact('BuildGraphsFlow/1645199395087434/start/1/PROCESSED_DATA_PATH'),\n",
       " DataArtifact('BuildGraphsFlow/1645199395087434/start/1/num_shards'),\n",
       " DataArtifact('BuildGraphsFlow/1645199395087434/start/1/y_shape'),\n",
       " DataArtifact('BuildGraphsFlow/1645199395087434/start/1/edge_shape'),\n",
       " DataArtifact('BuildGraphsFlow/1645199395087434/start/1/out_dir'),\n",
       " DataArtifact('BuildGraphsFlow/1645199395087434/start/1/timestep'),\n",
       " DataArtifact('BuildGraphsFlow/1645199395087434/start/1/dtype'),\n",
       " DataArtifact('BuildGraphsFlow/1645199395087434/start/1/x_shape'),\n",
       " DataArtifact('BuildGraphsFlow/1645199395087434/start/1/shard'),\n",
       " DataArtifact('BuildGraphsFlow/1645199395087434/start/1/name')]"
      ]
     },
     "execution_count": 6,
     "metadata": {},
     "output_type": "execute_result"
    }
   ],
   "source": [
    "# Restrieve the list of artifacts registered at the Start Step\n",
    "start_artifacts = start_tasks[0].artifacts\n",
    "list(start_artifacts)"
   ]
  },
  {
   "cell_type": "code",
   "execution_count": 8,
   "id": "c1e3f4a4-43e8-45e3-a449-3e39f19e500a",
   "metadata": {},
   "outputs": [
    {
     "data": {
      "text/plain": [
       "6784"
      ]
     },
     "execution_count": 8,
     "metadata": {},
     "output_type": "execute_result"
    }
   ],
   "source": [
    "start_artifacts.num_shards.data"
   ]
  },
  {
   "cell_type": "code",
   "execution_count": null,
   "id": "e2465e10-12fd-4710-a665-01976f2cbc85",
   "metadata": {},
   "outputs": [],
   "source": []
  }
 ],
 "metadata": {
  "environment": {
   "kernel": "python3",
   "name": "pytorch-gpu.1-10.m89",
   "type": "gcloud",
   "uri": "gcr.io/deeplearning-platform-release/pytorch-gpu.1-10:m89"
  },
  "kernelspec": {
   "display_name": "Python 3",
   "language": "python",
   "name": "python3"
  },
  "language_info": {
   "codemirror_mode": {
    "name": "ipython",
    "version": 3
   },
   "file_extension": ".py",
   "mimetype": "text/x-python",
   "name": "python",
   "nbconvert_exporter": "python",
   "pygments_lexer": "ipython3",
   "version": "3.7.12"
  }
 },
 "nbformat": 4,
 "nbformat_minor": 5
}
