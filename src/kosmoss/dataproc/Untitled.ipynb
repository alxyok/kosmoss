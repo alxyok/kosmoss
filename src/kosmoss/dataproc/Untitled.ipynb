{
 "cells": [
  {
   "cell_type": "code",
   "execution_count": 7,
   "id": "0467f1e1-ea37-4953-a48d-62f02aef0d94",
   "metadata": {},
   "outputs": [],
   "source": [
    "from kosmoss import CONFIG, PROCESSED_DATA_PATH\n",
    "import os.path as osp\n",
    "import shutil"
   ]
  },
  {
   "cell_type": "code",
   "execution_count": 11,
   "id": "d02ce024-d1e1-47f4-9458-58db0e3c6ff4",
   "metadata": {},
   "outputs": [
    {
     "data": {
      "text/plain": [
       "187"
      ]
     },
     "execution_count": 11,
     "metadata": {},
     "output_type": "execute_result"
    }
   ],
   "source": [
    "_, used_space, _ = shutil.disk_usage(osp.join(PROCESSED_DATA_PATH, f\"graphs-{CONFIG['timestep']}\"))\n",
    "used_space // (2**30)"
   ]
  },
  {
   "cell_type": "code",
   "execution_count": 11,
   "id": "8f0e0351-2599-42ba-a754-8d8adf2fa0c8",
   "metadata": {},
   "outputs": [
    {
     "data": {
      "text/plain": [
       "sdiskusage(total=1055815524352, used=201310593024, free=854488154112, percent=19.1)"
      ]
     },
     "execution_count": 11,
     "metadata": {},
     "output_type": "execute_result"
    }
   ],
   "source": [
    "psutil.disk_usage(osp.join(PROCESSED_DATA_PATH, f\"graphs-{CONFIG['timestep']}\"))"
   ]
  },
  {
   "cell_type": "code",
   "execution_count": 1,
   "id": "91197132-df90-4202-8da9-da1e4f1d862c",
   "metadata": {},
   "outputs": [
    {
     "data": {
      "text/plain": [
       "9"
      ]
     },
     "execution_count": 1,
     "metadata": {},
     "output_type": "execute_result"
    }
   ],
   "source": [
    "926 // 100"
   ]
  },
  {
   "cell_type": "code",
   "execution_count": 2,
   "id": "2b0a5524-0a21-452b-930d-f13cc98df804",
   "metadata": {},
   "outputs": [
    {
     "data": {
      "text/plain": [
       "26"
      ]
     },
     "execution_count": 2,
     "metadata": {},
     "output_type": "execute_result"
    }
   ],
   "source": [
    "926 % 100"
   ]
  },
  {
   "cell_type": "code",
   "execution_count": 3,
   "id": "2166c0d1-16b5-4497-94b1-efa93b829477",
   "metadata": {},
   "outputs": [
    {
     "data": {
      "text/plain": [
       "160.0"
      ]
     },
     "execution_count": 3,
     "metadata": {},
     "output_type": "execute_result"
    }
   ],
   "source": [
    "1085440 / 6784"
   ]
  },
  {
   "cell_type": "code",
   "execution_count": 4,
   "id": "c5eaa963-54bb-4e75-9404-7737ec637f89",
   "metadata": {},
   "outputs": [
    {
     "data": {
      "text/plain": [
       "6775"
      ]
     },
     "execution_count": 4,
     "metadata": {},
     "output_type": "execute_result"
    }
   ],
   "source": [
    "1084000 // 160"
   ]
  },
  {
   "cell_type": "code",
   "execution_count": null,
   "id": "0d0542a6-9db1-49e8-a52d-e82c58f9b72a",
   "metadata": {},
   "outputs": [],
   "source": []
  },
  {
   "cell_type": "code",
   "execution_count": null,
   "id": "91cee415-8abd-4c02-b969-02d7cfde2d81",
   "metadata": {},
   "outputs": [],
   "source": []
  },
  {
   "cell_type": "code",
   "execution_count": null,
   "id": "0afb2151-1bdc-449b-9934-f99535f7b70b",
   "metadata": {},
   "outputs": [],
   "source": []
  },
  {
   "cell_type": "code",
   "execution_count": null,
   "id": "9194f701-fef9-479e-bbc6-71bf027d61f7",
   "metadata": {},
   "outputs": [],
   "source": []
  },
  {
   "cell_type": "code",
   "execution_count": null,
   "id": "90259f55-60cb-4d32-a719-cee449692783",
   "metadata": {},
   "outputs": [],
   "source": []
  },
  {
   "cell_type": "code",
   "execution_count": 5,
   "id": "7fb1dd58-9f31-474f-a3c4-c3f2368406b4",
   "metadata": {},
   "outputs": [
    {
     "data": {
      "text/plain": [
       "5764"
      ]
     },
     "execution_count": 5,
     "metadata": {},
     "output_type": "execute_result"
    }
   ],
   "source": [
    "922309 // (1085440 // 6784)"
   ]
  },
  {
   "cell_type": "code",
   "execution_count": 1,
   "id": "fe78ec31-c5d6-447b-a3c2-966f9ceacae4",
   "metadata": {},
   "outputs": [],
   "source": [
    "kwargs = {\n",
    "    \"logger\": \"hi\",\n",
    "    \"gpus\": \"hfdis\",\n",
    "    \"strategy\": \"ddp\",\n",
    "    \"progress_bar_refresh_rate\": 0\n",
    "}"
   ]
  },
  {
   "cell_type": "code",
   "execution_count": 4,
   "id": "2606df51-05c6-4f93-be3c-4227f7d278af",
   "metadata": {},
   "outputs": [
    {
     "data": {
      "text/plain": [
       "['logger', 'gpus', 'strategy', 'progress_bar_refresh_rate']"
      ]
     },
     "execution_count": 4,
     "metadata": {},
     "output_type": "execute_result"
    }
   ],
   "source": [
    "list(kwargs.keys())"
   ]
  },
  {
   "cell_type": "code",
   "execution_count": 5,
   "id": "2578b27b-dcfd-4881-a399-8cf106b088d4",
   "metadata": {},
   "outputs": [
    {
     "data": {
      "text/plain": [
       "'1.5.10'"
      ]
     },
     "execution_count": 5,
     "metadata": {},
     "output_type": "execute_result"
    }
   ],
   "source": [
    "import pytorch_lightning as pl\n",
    "pl.__version__"
   ]
  },
  {
   "cell_type": "code",
   "execution_count": 6,
   "id": "99319e2c-40c7-4535-8b9d-887f13742ad2",
   "metadata": {},
   "outputs": [
    {
     "data": {
      "text/plain": [
       "'1.10.0'"
      ]
     },
     "execution_count": 6,
     "metadata": {},
     "output_type": "execute_result"
    }
   ],
   "source": [
    "import ray\n",
    "ray.__version__"
   ]
  },
  {
   "cell_type": "code",
   "execution_count": null,
   "id": "9fccc56c-f4ec-47a8-8f2a-a874d53a452e",
   "metadata": {},
   "outputs": [],
   "source": []
  }
 ],
 "metadata": {
  "environment": {
   "kernel": "python3",
   "name": "pytorch-gpu.1-10.m89",
   "type": "gcloud",
   "uri": "gcr.io/deeplearning-platform-release/pytorch-gpu.1-10:m89"
  },
  "kernelspec": {
   "display_name": "Python 3",
   "language": "python",
   "name": "python3"
  },
  "language_info": {
   "codemirror_mode": {
    "name": "ipython",
    "version": 3
   },
   "file_extension": ".py",
   "mimetype": "text/x-python",
   "name": "python",
   "nbconvert_exporter": "python",
   "pygments_lexer": "ipython3",
   "version": "3.7.12"
  }
 },
 "nbformat": 4,
 "nbformat_minor": 5
}
