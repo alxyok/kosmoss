{
 "cells": [
  {
   "cell_type": "code",
   "execution_count": 7,
   "id": "0467f1e1-ea37-4953-a48d-62f02aef0d94",
   "metadata": {},
   "outputs": [],
   "source": [
    "from kosmoss import CONFIG, PROCESSED_DATA_PATH\n",
    "import os.path as osp\n",
    "import shutil"
   ]
  },
  {
   "cell_type": "code",
   "execution_count": 11,
   "id": "d02ce024-d1e1-47f4-9458-58db0e3c6ff4",
   "metadata": {},
   "outputs": [
    {
     "data": {
      "text/plain": [
       "187"
      ]
     },
     "execution_count": 11,
     "metadata": {},
     "output_type": "execute_result"
    }
   ],
   "source": [
    "_, used_space, _ = shutil.disk_usage(osp.join(PROCESSED_DATA_PATH, f\"graphs-{CONFIG['timestep']}\"))\n",
    "used_space // (2**30)"
   ]
  },
  {
   "cell_type": "code",
   "execution_count": 11,
   "id": "8f0e0351-2599-42ba-a754-8d8adf2fa0c8",
   "metadata": {},
   "outputs": [
    {
     "data": {
      "text/plain": [
       "sdiskusage(total=1055815524352, used=201310593024, free=854488154112, percent=19.1)"
      ]
     },
     "execution_count": 11,
     "metadata": {},
     "output_type": "execute_result"
    }
   ],
   "source": [
    "psutil.disk_usage(osp.join(PROCESSED_DATA_PATH, f\"graphs-{CONFIG['timestep']}\"))"
   ]
  },
  {
   "cell_type": "code",
   "execution_count": 1,
   "id": "91197132-df90-4202-8da9-da1e4f1d862c",
   "metadata": {},
   "outputs": [
    {
     "data": {
      "text/plain": [
       "9"
      ]
     },
     "execution_count": 1,
     "metadata": {},
     "output_type": "execute_result"
    }
   ],
   "source": [
    "926 // 100"
   ]
  },
  {
   "cell_type": "code",
   "execution_count": 2,
   "id": "2b0a5524-0a21-452b-930d-f13cc98df804",
   "metadata": {},
   "outputs": [
    {
     "data": {
      "text/plain": [
       "26"
      ]
     },
     "execution_count": 2,
     "metadata": {},
     "output_type": "execute_result"
    }
   ],
   "source": [
    "926 % 100"
   ]
  },
  {
   "cell_type": "code",
   "execution_count": 3,
   "id": "2166c0d1-16b5-4497-94b1-efa93b829477",
   "metadata": {},
   "outputs": [
    {
     "data": {
      "text/plain": [
       "160.0"
      ]
     },
     "execution_count": 3,
     "metadata": {},
     "output_type": "execute_result"
    }
   ],
   "source": [
    "1085440 / 6784"
   ]
  },
  {
   "cell_type": "code",
   "execution_count": 4,
   "id": "c5eaa963-54bb-4e75-9404-7737ec637f89",
   "metadata": {},
   "outputs": [
    {
     "data": {
      "text/plain": [
       "6775"
      ]
     },
     "execution_count": 4,
     "metadata": {},
     "output_type": "execute_result"
    }
   ],
   "source": [
    "1084000 // 160"
   ]
  },
  {
   "cell_type": "code",
   "execution_count": 3,
   "id": "0d0542a6-9db1-49e8-a52d-e82c58f9b72a",
   "metadata": {},
   "outputs": [
    {
     "data": {
      "text/plain": [
       "{}"
      ]
     },
     "execution_count": 3,
     "metadata": {},
     "output_type": "execute_result"
    }
   ],
   "source": [
    "d = {\"hello\": \"world\"}\n",
    "d.pop(\"hello\")\n",
    "d"
   ]
  },
  {
   "cell_type": "code",
   "execution_count": null,
   "id": "91cee415-8abd-4c02-b969-02d7cfde2d81",
   "metadata": {},
   "outputs": [],
   "source": []
  },
  {
   "cell_type": "code",
   "execution_count": null,
   "id": "0afb2151-1bdc-449b-9934-f99535f7b70b",
   "metadata": {},
   "outputs": [],
   "source": []
  },
  {
   "cell_type": "code",
   "execution_count": null,
   "id": "9194f701-fef9-479e-bbc6-71bf027d61f7",
   "metadata": {},
   "outputs": [],
   "source": []
  },
  {
   "cell_type": "code",
   "execution_count": null,
   "id": "90259f55-60cb-4d32-a719-cee449692783",
   "metadata": {},
   "outputs": [],
   "source": []
  },
  {
   "cell_type": "code",
   "execution_count": 5,
   "id": "7fb1dd58-9f31-474f-a3c4-c3f2368406b4",
   "metadata": {},
   "outputs": [
    {
     "data": {
      "text/plain": [
       "5764"
      ]
     },
     "execution_count": 5,
     "metadata": {},
     "output_type": "execute_result"
    }
   ],
   "source": [
    "922309 // (1085440 // 6784)"
   ]
  },
  {
   "cell_type": "code",
   "execution_count": 1,
   "id": "fe78ec31-c5d6-447b-a3c2-966f9ceacae4",
   "metadata": {},
   "outputs": [],
   "source": [
    "kwargs = {\n",
    "    \"logger\": \"hi\",\n",
    "    \"gpus\": \"hfdis\",\n",
    "    \"strategy\": \"ddp\",\n",
    "    \"progress_bar_refresh_rate\": 0\n",
    "}"
   ]
  },
  {
   "cell_type": "code",
   "execution_count": 4,
   "id": "2606df51-05c6-4f93-be3c-4227f7d278af",
   "metadata": {},
   "outputs": [
    {
     "data": {
      "text/plain": [
       "['logger', 'gpus', 'strategy', 'progress_bar_refresh_rate']"
      ]
     },
     "execution_count": 4,
     "metadata": {},
     "output_type": "execute_result"
    }
   ],
   "source": [
    "list(kwargs.keys())"
   ]
  },
  {
   "cell_type": "code",
   "execution_count": 5,
   "id": "2578b27b-dcfd-4881-a399-8cf106b088d4",
   "metadata": {},
   "outputs": [
    {
     "data": {
      "text/plain": [
       "'1.5.10'"
      ]
     },
     "execution_count": 5,
     "metadata": {},
     "output_type": "execute_result"
    }
   ],
   "source": [
    "import pytorch_lightning as pl\n",
    "pl.__version__"
   ]
  },
  {
   "cell_type": "code",
   "execution_count": 6,
   "id": "99319e2c-40c7-4535-8b9d-887f13742ad2",
   "metadata": {},
   "outputs": [
    {
     "data": {
      "text/plain": [
       "'1.10.0'"
      ]
     },
     "execution_count": 6,
     "metadata": {},
     "output_type": "execute_result"
    }
   ],
   "source": [
    "import ray\n",
    "ray.__version__"
   ]
  },
  {
   "cell_type": "code",
   "execution_count": 4,
   "id": "9fccc56c-f4ec-47a8-8f2a-a874d53a452e",
   "metadata": {},
   "outputs": [],
   "source": [
    "import numpy as np\n",
    "from ray import tune\n",
    "\n",
    "h = tune.choice([2 ** k for k in np.arange(2, 6)])"
   ]
  },
  {
   "cell_type": "code",
   "execution_count": 11,
   "id": "94e6c687-b709-44ba-ba3d-b3e6c5ed992b",
   "metadata": {},
   "outputs": [],
   "source": [
    "l = [2 ** k for k in np.arange(2, 6)]"
   ]
  },
  {
   "cell_type": "code",
   "execution_count": 12,
   "id": "babdb5bd-9da4-410d-b67f-038cf926b2f8",
   "metadata": {},
   "outputs": [
    {
     "data": {
      "text/plain": [
       "[4, 8, 16, 32]"
      ]
     },
     "execution_count": 12,
     "metadata": {},
     "output_type": "execute_result"
    }
   ],
   "source": [
    "l"
   ]
  },
  {
   "cell_type": "code",
   "execution_count": 15,
   "id": "8a71c339-abcd-4489-a363-8abae6cd1f1c",
   "metadata": {},
   "outputs": [
    {
     "ename": "IndexError",
     "evalue": "invalid index to scalar variable.",
     "output_type": "error",
     "traceback": [
      "\u001b[0;31m---------------------------------------------------------------------------\u001b[0m",
      "\u001b[0;31mIndexError\u001b[0m                                Traceback (most recent call last)",
      "\u001b[0;32m/tmp/ipykernel_33128/1275699519.py\u001b[0m in \u001b[0;36m<module>\u001b[0;34m\u001b[0m\n\u001b[0;32m----> 1\u001b[0;31m \u001b[0ml\u001b[0m\u001b[0;34m[\u001b[0m\u001b[0;36m3\u001b[0m\u001b[0;34m]\u001b[0m\u001b[0;34m[\u001b[0m\u001b[0;36m4\u001b[0m\u001b[0;34m]\u001b[0m\u001b[0;34m\u001b[0m\u001b[0;34m\u001b[0m\u001b[0m\n\u001b[0m",
      "\u001b[0;31mIndexError\u001b[0m: invalid index to scalar variable."
     ]
    }
   ],
   "source": [
    "l[3][4]"
   ]
  },
  {
   "cell_type": "code",
   "execution_count": 10,
   "id": "73c42812-0cb8-4535-82db-dd877408391d",
   "metadata": {},
   "outputs": [
    {
     "data": {
      "text/plain": [
       "32"
      ]
     },
     "execution_count": 10,
     "metadata": {},
     "output_type": "execute_result"
    }
   ],
   "source": [
    "h.sample()"
   ]
  },
  {
   "cell_type": "code",
   "execution_count": 77,
   "id": "000a6a0b-6526-4d6c-9e8b-0a4edcd2a89f",
   "metadata": {},
   "outputs": [],
   "source": [
    "import torch.nn as nn\n",
    "from ray import tune\n",
    "\n",
    "\n",
    "config = {\n",
    "    # Fixed set of HParams\n",
    "    \"batch_size\": 512,\n",
    "    \"in_feats\": 20,\n",
    "    \"out_feats\": 4,\n",
    "    \"act\": nn.SiLU(inplace=True),\n",
    "\n",
    "    # HPO sampled by Ray.Tune\n",
    "    \"hidden_feats\": 4, #tune.randint(4, 20),# tune.choice([2 ** k for k in np.arange(2, 6)]),\n",
    "    # \"hidden_feats\": tune.choice([2 ** k for k in np.arange(2, 6)]),\n",
    "    \"edge_dim\": 4, #tune.randint(4, 20),# tune.choice([2 ** k for k in np.arange(2, 6)]),\n",
    "    # \"edge_dim\": tune.choice([2 ** k for k in np.arange(2, 6)]),\n",
    "    \"num_layers\": 4, #tune.randint(4, 10),\n",
    "    \"lr\": tune.loguniform(1e-4, 1e-1),\n",
    "    \"dropout\": tune.uniform(0, 1),\n",
    "    \"heads\": 4, #tune.randint(4, 8)\n",
    "}"
   ]
  },
  {
   "cell_type": "code",
   "execution_count": 95,
   "id": "89202596-2e50-4372-bad6-a2745dafdfd2",
   "metadata": {},
   "outputs": [],
   "source": [
    "import copy\n",
    "\n",
    "class PatchedGAT(pyg.nn.models.basic_gnn.BasicGNN):\n",
    "    def init_conv(self, \n",
    "                  in_channels: int, \n",
    "                  out_channels: int, \n",
    "                  **kwargs) -> pyg.nn.conv.MessagePassing:\n",
    "\n",
    "        kwargs = copy.copy(kwargs)\n",
    "        if 'heads' in kwargs and out_channels % kwargs['heads'] != 0:\n",
    "            kwargs['heads'] = 1\n",
    "\n",
    "        return pyg.nn.conv.GATConv(in_channels, out_channels, dropout=self.dropout, **kwargs)"
   ]
  },
  {
   "cell_type": "code",
   "execution_count": 99,
   "id": "fec17559-56fe-4075-97bf-d89c13cff8e0",
   "metadata": {},
   "outputs": [],
   "source": [
    "import os.path as osp\n",
    "from torch_geometric.data import Dataset\n",
    "import torchmetrics.functional as F\n",
    "from typing import List, Union\n",
    "\n",
    "from kosmoss import ARTIFACTS_PATH, CONFIG, DATA_PATH, LOGS_PATH, METADATA\n",
    "from kosmoss.dataproc.flows import BuildGraphsFlow\n",
    "\n",
    "\n",
    "\n",
    "class GNNDataset(Dataset):\n",
    "\n",
    "    def __init__(self) -> None:\n",
    "\n",
    "        self.timestep = str(CONFIG['timestep'])\n",
    "        self.params = METADATA[str(self.timestep)]['features']\n",
    "        self.num_shards = self.params['num_shards']\n",
    "\n",
    "        super().__init__(root=DATA_PATH)\n",
    "\n",
    "    @property\n",
    "    def raw_file_names(self) -> list:\n",
    "        return [\"\"]\n",
    "\n",
    "    @property\n",
    "    def processed_file_names(self) -> List[str]:\n",
    "        return [osp.join(f\"graphs-{self.timestep}\", f\"data-{shard}.pt\") \n",
    "                for shard in np.arange(self.num_shards)]\n",
    "\n",
    "\n",
    "    def download(self) -> None:\n",
    "        raise Exception(\"Execute the Notebooks in this Bootcamp following the order defined by the Readme.\")\n",
    "\n",
    "\n",
    "    def process(self) -> None:\n",
    "        BuildGraphsFlow()\n",
    "\n",
    "    def len(self):\n",
    "        return self.params['dataset_len']\n",
    "\n",
    "    def get(self, idx):\n",
    "\n",
    "        shard_size = self.len() // self.num_shards\n",
    "        fileidx = idx // shard_size\n",
    "        rowidx = idx % shard_size\n",
    "\n",
    "        data_list = torch.load(osp.join(self.processed_dir, f\"graphs-{self.timestep}\", f'data-{fileidx}.pt'))\n",
    "        data = data_list[rowidx]\n",
    "\n",
    "        return data\n",
    "    \n",
    "ds = GNNDataset()"
   ]
  },
  {
   "cell_type": "code",
   "execution_count": 104,
   "id": "7ec2d3f0-021b-450b-a113-be4d8cd06e9d",
   "metadata": {},
   "outputs": [],
   "source": [
    "import pytorch_lightning as pl\n",
    "\n",
    "class LitGNNDataModule(pl.LightningDataModule):\n",
    "        \n",
    "    \n",
    "    def __init__(self, batch_size: int) -> None:\n",
    "        self.bs = batch_size\n",
    "        super().__init__()\n",
    "        \n",
    "        \n",
    "    def prepare_data(self) -> None:\n",
    "        pass\n",
    "    \n",
    "    \n",
    "    def setup(self, stage: str) -> None:\n",
    "        dataset = GNNDataset()#.shuffle()\n",
    "        length = len(dataset)\n",
    "        \n",
    "        self.testds = dataset[int(length * .9):]\n",
    "        self.valds = dataset[int(length * .8):int(length * .9)]\n",
    "        self.trainds = dataset[:int(length * .8)]\n",
    "    \n",
    "    \n",
    "    def train_dataloader(self) -> torch.utils.data.DataLoader:\n",
    "        return pyg.loader.DataLoader(self.trainds, batch_size=self.bs, num_workers=4, shuffle=True)\n",
    "    \n",
    "    \n",
    "    def val_dataloader(self) -> torch.utils.data.DataLoader:\n",
    "        return pyg.loader.DataLoader(self.valds, batch_size=self.bs, num_workers=4)\n",
    "    \n",
    "    \n",
    "    def test_dataloader(self) -> torch.utils.data.DataLoader:\n",
    "        return pyg.loader.DataLoader(self.testds, batch_size=self.bs, num_workers=4)\n",
    "    \n",
    "mo = LitGNNDataModule(16)"
   ]
  },
  {
   "cell_type": "code",
   "execution_count": 100,
   "id": "24b46037-96fa-43a5-a98a-7bf797c55d35",
   "metadata": {},
   "outputs": [],
   "source": [
    "net = PatchedGAT(\n",
    "    in_channels=config['in_feats'], \n",
    "    out_channels=config['out_feats'],\n",
    "    hidden_channels=config['hidden_feats'],\n",
    "    num_layers=config['num_layers'],\n",
    "    edge_dim=config['edge_dim'],\n",
    "    dropout=config['dropout'],\n",
    "    heads=config['heads'],\n",
    "    # act=nn.SiLU(inplace=True),\n",
    "    act=config['act']\n",
    ")"
   ]
  },
  {
   "cell_type": "code",
   "execution_count": 82,
   "id": "c4b73b57-cfd6-4e29-945c-89a2ac1ad513",
   "metadata": {},
   "outputs": [],
   "source": [
    "m = nn.ModuleList([nn.Linear(10, 10) for i in range(10)])"
   ]
  },
  {
   "cell_type": "code",
   "execution_count": 83,
   "id": "b4c76e9b-91de-4ab0-8560-a52bfed1d426",
   "metadata": {},
   "outputs": [
    {
     "data": {
      "text/plain": [
       "ModuleList(\n",
       "  (0): Linear(in_features=10, out_features=10, bias=True)\n",
       "  (1): Linear(in_features=10, out_features=10, bias=True)\n",
       "  (2): Linear(in_features=10, out_features=10, bias=True)\n",
       "  (3): Linear(in_features=10, out_features=10, bias=True)\n",
       "  (4): Linear(in_features=10, out_features=10, bias=True)\n",
       "  (5): Linear(in_features=10, out_features=10, bias=True)\n",
       "  (6): Linear(in_features=10, out_features=10, bias=True)\n",
       "  (7): Linear(in_features=10, out_features=10, bias=True)\n",
       "  (8): Linear(in_features=10, out_features=10, bias=True)\n",
       "  (9): Linear(in_features=10, out_features=10, bias=True)\n",
       "  (10): Linear(in_features=10, out_features=10, bias=True)\n",
       ")"
      ]
     },
     "execution_count": 83,
     "metadata": {},
     "output_type": "execute_result"
    }
   ],
   "source": [
    "m.append(nn.Linear(10, 10))"
   ]
  },
  {
   "cell_type": "code",
   "execution_count": 85,
   "id": "3a713faa-411a-48a9-9991-473fd0ea99fc",
   "metadata": {},
   "outputs": [
    {
     "data": {
      "text/plain": [
       "tensor([0.5408, 0.0991, 0.3162, 0.7140, 0.7784, 0.8058, 0.9549, 0.8038, 0.1840,\n",
       "        0.0950])"
      ]
     },
     "execution_count": 85,
     "metadata": {},
     "output_type": "execute_result"
    }
   ],
   "source": [
    "import torch\n",
    "\n",
    "t = torch.rand(10)\n",
    "t"
   ]
  },
  {
   "cell_type": "code",
   "execution_count": 90,
   "id": "0b3a78ea-f2d0-435e-82b1-2d43e71c7d03",
   "metadata": {},
   "outputs": [],
   "source": [
    "x = t\n",
    "for layer in m:\n",
    "    x = layer(x)"
   ]
  },
  {
   "cell_type": "code",
   "execution_count": 78,
   "id": "f33b982e-3f96-431a-9a24-bfa69f31ad10",
   "metadata": {},
   "outputs": [
    {
     "data": {
      "text/plain": [
       "<ray.tune.sample.Categorical at 0x7f87b4869250>"
      ]
     },
     "execution_count": 78,
     "metadata": {},
     "output_type": "execute_result"
    }
   ],
   "source": [
    "tune.choice(l)"
   ]
  },
  {
   "cell_type": "code",
   "execution_count": 1,
   "id": "ac4ca5b6-b6f8-4e85-affe-5f891e816968",
   "metadata": {},
   "outputs": [
    {
     "ename": "NameError",
     "evalue": "name 'tune' is not defined",
     "output_type": "error",
     "traceback": [
      "\u001b[0;31m---------------------------------------------------------------------------\u001b[0m",
      "\u001b[0;31mNameError\u001b[0m                                 Traceback (most recent call last)",
      "\u001b[0;32m/tmp/ipykernel_7043/525508288.py\u001b[0m in \u001b[0;36m<module>\u001b[0;34m\u001b[0m\n\u001b[0;32m----> 1\u001b[0;31m \u001b[0mtune\u001b[0m\u001b[0;34m.\u001b[0m\u001b[0mrandint\u001b[0m\u001b[0;34m(\u001b[0m\u001b[0;36m4\u001b[0m\u001b[0;34m,\u001b[0m \u001b[0;36m8\u001b[0m\u001b[0;34m)\u001b[0m\u001b[0;34m\u001b[0m\u001b[0;34m\u001b[0m\u001b[0m\n\u001b[0m",
      "\u001b[0;31mNameError\u001b[0m: name 'tune' is not defined"
     ]
    }
   ],
   "source": [
    "tune.randint(4, 8)"
   ]
  },
  {
   "cell_type": "code",
   "execution_count": 80,
   "id": "8e8acdeb-64cf-4923-800a-5c2747fa99ca",
   "metadata": {},
   "outputs": [],
   "source": [
    "import torch_geometric as pyg\n",
    "\n",
    "net = pyg.nn.GAT(\n",
    "            in_channels=config['in_feats'], \n",
    "            out_channels=config['out_feats'],\n",
    "            hidden_channels=config['hidden_feats'],\n",
    "            num_layers=config['num_layers'],\n",
    "            edge_dim=config['edge_dim'],\n",
    "            dropout=config['dropout'],\n",
    "            heads=config['heads'],\n",
    "            # act=nn.SiLU(inplace=True),\n",
    "            act=config['act']\n",
    "        )\n",
    "# net = pyg.nn.GAT(\n",
    "#             in_channels=20, \n",
    "#             out_channels=4,\n",
    "#             hidden_channels=32,\n",
    "#             num_layers=5,\n",
    "#             edge_dim=32,\n",
    "#             dropout=.17,\n",
    "#             heads=8,\n",
    "#             act=nn.SiLU(inplace=True),\n",
    "#         )"
   ]
  },
  {
   "cell_type": "code",
   "execution_count": 23,
   "id": "74b4596c-7ce7-4067-946e-6e02f15da82c",
   "metadata": {},
   "outputs": [
    {
     "data": {
      "text/plain": [
       "int"
      ]
     },
     "execution_count": 23,
     "metadata": {},
     "output_type": "execute_result"
    }
   ],
   "source": [
    "type(config['out_feats'])"
   ]
  },
  {
   "cell_type": "code",
   "execution_count": 22,
   "id": "882592d6-4634-4985-b790-6b8962fddeac",
   "metadata": {},
   "outputs": [
    {
     "data": {
      "text/plain": [
       "ray.tune.sample.Integer"
      ]
     },
     "execution_count": 22,
     "metadata": {},
     "output_type": "execute_result"
    }
   ],
   "source": [
    "type(config['heads'])"
   ]
  },
  {
   "cell_type": "code",
   "execution_count": null,
   "id": "80a6bdf5-a8e5-45ad-a2b0-8b526e3b1c44",
   "metadata": {},
   "outputs": [],
   "source": []
  }
 ],
 "metadata": {
  "environment": {
   "kernel": "python3",
   "name": "pytorch-gpu.1-10.m89",
   "type": "gcloud",
   "uri": "gcr.io/deeplearning-platform-release/pytorch-gpu.1-10:m89"
  },
  "kernelspec": {
   "display_name": "Python 3",
   "language": "python",
   "name": "python3"
  },
  "language_info": {
   "codemirror_mode": {
    "name": "ipython",
    "version": 3
   },
   "file_extension": ".py",
   "mimetype": "text/x-python",
   "name": "python",
   "nbconvert_exporter": "python",
   "pygments_lexer": "ipython3",
   "version": "3.7.12"
  }
 },
 "nbformat": 4,
 "nbformat_minor": 5
}
