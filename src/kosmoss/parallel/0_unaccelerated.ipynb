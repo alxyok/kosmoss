{
 "cells": [
  {
   "cell_type": "markdown",
   "id": "523e7e12-dac9-47c4-8d67-a210ff80daea",
   "metadata": {},
   "source": [
    "# PyTorch Lightning abstraction basics"
   ]
  },
  {
   "cell_type": "markdown",
   "id": "3f7806a3-59a5-4d76-9352-cbe9f7fa58d9",
   "metadata": {},
   "source": [
    "*Putting it all together with PL abstraction mechanics.*\n",
    "\n",
    "[PyTorch Lightning](https://www.pytorchlightning.ai/) is a framework built on top of PyTorch, which takes care of the boilerplates, as well as simplifies the training parallelism. It is often compared to Keras for TensorFlow. We will integrated directly our models and data modules with the PL mechanics, so that distributed training becomes easier."
   ]
  },
  {
   "cell_type": "markdown",
   "id": "d5c702d3-f03a-46f2-81fc-2ad1975c3072",
   "metadata": {},
   "source": [
    "Lightning has grown into a massive framework with functionalities missing from vanilla PyTorch, but for basic-level understanding of the abstraction logic, there are only a few usefull components, most notably:\n",
    "* `pl.LightningModule`, a wrapper for a PyTorch model, with implementable train, test, and validation loops\n",
    "* `pl.LightningDataModule`, a wrapper for a PyTorch Dataset, with implementable data splitting logic\n",
    "* `pl.Trainer` to orchestrate training + testing phases, as well as inference. Gradient clipping, \n",
    "* `pl.callbacks.base.Callback` to organize runtime workflow. Comes standard with EarlyStopping, ModelCheckpoint, LearningRateMonitor, and ModelPruning, among others\n",
    "* A Profiler to debug resource utilization"
   ]
  },
  {
   "cell_type": "markdown",
   "id": "a3edafc4-1c3c-42ae-94af-5efac1f873df",
   "metadata": {},
   "source": [
    "Let's first load all the necessary params."
   ]
  },
  {
   "cell_type": "code",
   "execution_count": 1,
   "id": "efd6e24d-405a-46fa-aa5b-1956cad4e7b5",
   "metadata": {},
   "outputs": [],
   "source": [
    "from kosmoss import CONFIG, LOGS_PATH, METADATA\n",
    "from kosmoss.parallel.data import FlattenedDataModule\n",
    "from kosmoss.parallel.models import LitMLP"
   ]
  },
  {
   "cell_type": "code",
   "execution_count": 4,
   "id": "392a0d65-b9d8-4ad7-9b87-ef5c0973ef47",
   "metadata": {},
   "outputs": [
    {
     "name": "stdout",
     "output_type": "stream",
     "text": [
      "Global seed set to 42\n"
     ]
    }
   ],
   "source": [
    "import numpy as np\n",
    "import os\n",
    "import pytorch_lightning as pl\n",
    "from pytorch_lightning import Trainer\n",
    "from pytorch_lightning.loggers.tensorboard import TensorBoardLogger\n",
    "\n",
    "# Ensures this Notebook's reproducibility\n",
    "pl.seed_everything(42, workers=True)\n",
    "\n",
    "step = CONFIG['timestep']\n",
    "params = METADATA[str(step)]['flattened']"
   ]
  },
  {
   "cell_type": "markdown",
   "id": "de6e9166-f8ab-44a7-aca1-53b38ff0089b",
   "metadata": {},
   "source": [
    "## Model and training logic"
   ]
  },
  {
   "cell_type": "code",
   "execution_count": 5,
   "id": "da267a70-50c3-4882-9312-24ed12fcda7b",
   "metadata": {},
   "outputs": [
    {
     "name": "stdout",
     "output_type": "stream",
     "text": [
      "cat: models.py: No such file or directory\n"
     ]
    }
   ],
   "source": [
    "!cat models.py"
   ]
  },
  {
   "cell_type": "code",
   "execution_count": 6,
   "id": "becf22e3-b1ab-4940-ba48-f54b3c8c0ace",
   "metadata": {},
   "outputs": [],
   "source": [
    "x_feats = params['x_shape'][-1]\n",
    "y_feats = params['y_shape'][-1]"
   ]
  },
  {
   "cell_type": "code",
   "execution_count": 7,
   "id": "6a0fe802-3725-4985-b723-0b0c8ce68245",
   "metadata": {},
   "outputs": [
    {
     "name": "stdout",
     "output_type": "stream",
     "text": [
      "x number of features: 4128\n",
      "y number of features: 552\n"
     ]
    }
   ],
   "source": [
    "print(f'x number of features: {x_feats}')\n",
    "print(f'y number of features: {y_feats}')"
   ]
  },
  {
   "cell_type": "code",
   "execution_count": 8,
   "id": "fb87787d-d140-4cfd-a3bb-131d4b31eeef",
   "metadata": {},
   "outputs": [
    {
     "data": {
      "text/plain": [
       "LitMLP(\n",
       "  (normalization_layer): Normalize()\n",
       "  (net): Sequential(\n",
       "    (0): Normalize()\n",
       "    (1): Linear(in_features=4128, out_features=100, bias=True)\n",
       "    (2): SiLU()\n",
       "    (3): Linear(in_features=100, out_features=100, bias=True)\n",
       "    (4): SiLU()\n",
       "    (5): Linear(in_features=100, out_features=100, bias=True)\n",
       "    (6): SiLU()\n",
       "    (7): Linear(in_features=100, out_features=552, bias=True)\n",
       "  )\n",
       ")"
      ]
     },
     "execution_count": 8,
     "metadata": {},
     "output_type": "execute_result"
    }
   ],
   "source": [
    "mlp = LitMLP(\n",
    "    in_channels=x_feats,\n",
    "    hidden_channels=100,\n",
    "    out_channels=y_feats\n",
    ")\n",
    "mlp"
   ]
  },
  {
   "cell_type": "markdown",
   "id": "10a08772-3965-46f4-b9f7-69d8915e8821",
   "metadata": {},
   "source": [
    "## Dataset creation and data loading mechanics"
   ]
  },
  {
   "cell_type": "code",
   "execution_count": 9,
   "id": "97fe32cf-92b3-47e3-8792-4eb2604c5c5b",
   "metadata": {},
   "outputs": [
    {
     "name": "stdout",
     "output_type": "stream",
     "text": [
      "import numpy as np\n",
      "import os.path as osp\n",
      "from pytorch_lightning import LightningDataModule\n",
      "import torch\n",
      "from typing import Tuple, Union\n",
      "\n",
      "from kosmoss import CONFIG, METADATA, PROCESSED_DATA_PATH\n",
      "\n",
      "class FlattenedDataset(torch.utils.data.Dataset):\n",
      "    \n",
      "    def __init__(self, \n",
      "                 step: int, \n",
      "                 mode: Union['efficient', 'controlled'] = 'controlled') -> None:\n",
      "        super().__init__()\n",
      "        self.step = step\n",
      "        self.mode = mode\n",
      "        self.params = METADATA[str(self.step)]['flattened']\n",
      "    \n",
      "    def __len__(self) -> int:\n",
      "        \n",
      "        return self.params['dataset_len']\n",
      "    \n",
      "    def __getitem__(self, idx: int) -> Tuple[torch.Tensor]:\n",
      "        \n",
      "        shard_size = len(self) // self.params['num_shards']\n",
      "        fileidx = idx // shard_size\n",
      "        rowidx = idx % shard_size\n",
      "        \n",
      "        def _load(name: Union['x', 'y']) -> Tuple[torch.Tensor]:\n",
      "            main_path = osp.join(PROCESSED_DATA_PATH, f\"flattened-{self.step}\")\n",
      "            \n",
      "            if self.mode == 'efficient':\n",
      "                data = np.lib.format.open_memmap(\n",
      "                    mode='r',\n",
      "                    dtype = self.params['dtype'],\n",
      "                    filename=osp.join(main_path, name, f'{fileidx}.npy'), \n",
      "                    shape=tuple(self.params[f'{name}_shape']) \n",
      "                )\n",
      "                \n",
      "            else:\n",
      "                data = np.load(osp.join(main_path, name, f'{fileidx}.npy'))\n",
      "                \n",
      "            tensor = torch.squeeze(torch.tensor(data[rowidx, ...]))\n",
      "            return tensor\n",
      "        \n",
      "        x = _load('x')\n",
      "        y = _load('y')\n",
      "        \n",
      "        return x, y\n",
      "    \n",
      "\n",
      "class FlattenedDataModule(LightningDataModule):\n",
      "    \n",
      "    def __init__(self, \n",
      "                 batch_size: int,\n",
      "                 num_workers: int) -> None:\n",
      "        \n",
      "        self.batch_size = batch_size\n",
      "        self.num_workers = num_workers\n",
      "        self.loading_mode = CONFIG['loading_mode']\n",
      "        self.timestep = CONFIG['timestep']\n",
      "        super().__init__()\n",
      "        \n",
      "    def prepare_data(self) -> None:\n",
      "        pass\n",
      "    \n",
      "    def setup(self, stage: str) -> None:\n",
      "        dataset = FlattenedDataset(self.timestep, mode=self.loading_mode)\n",
      "        length = len(dataset)\n",
      "        \n",
      "        self.train, self.val, self.test = torch.utils.data.random_split(\n",
      "            dataset,\n",
      "            [\n",
      "                int(length * .8), \n",
      "                int(length * .1), \n",
      "                int(length * .1)\n",
      "            ])\n",
      "    \n",
      "    def train_dataloader(self) -> torch.utils.data.DataLoader:\n",
      "        \n",
      "        return torch.utils.data.DataLoader(\n",
      "            self.train, \n",
      "            batch_size=self.batch_size, \n",
      "            shuffle=True, \n",
      "            num_workers=self.num_workers)\n",
      "    \n",
      "    def val_dataloader(self) -> torch.utils.data.DataLoader:\n",
      "        \n",
      "        return torch.utils.data.DataLoader(\n",
      "            self.val, \n",
      "            batch_size=self.batch_size, \n",
      "            num_workers=self.num_workers)\n",
      "    \n",
      "    def test_dataloader(self) -> torch.utils.data.DataLoader:\n",
      "        \n",
      "        return torch.utils.data.DataLoader(\n",
      "            self.test, \n",
      "            batch_size=self.batch_size, \n",
      "            num_workers=self.num_workers)"
     ]
    }
   ],
   "source": [
    "!cat data.py"
   ]
  },
  {
   "cell_type": "markdown",
   "id": "37cf4f5a-b347-41fd-81bf-95b2e020231d",
   "metadata": {},
   "source": [
    "* `batch_size` sets the number of element in a batch of data.\n",
    "* `num_workers` sets the number of workers the DataLoader can spawn to handle data loading and Dataset batching."
   ]
  },
  {
   "cell_type": "code",
   "execution_count": 10,
   "id": "9b0aa5af-10b4-43c7-bdf6-827bac3ca2c9",
   "metadata": {},
   "outputs": [],
   "source": [
    "import psutil\n",
    "cores = psutil.cpu_count(logical=False)"
   ]
  },
  {
   "cell_type": "code",
   "execution_count": 11,
   "id": "1cef746e-d153-42fe-b4d8-85781c379b9f",
   "metadata": {},
   "outputs": [],
   "source": [
    "datamodule = FlattenedDataModule(\n",
    "    batch_size=1024,\n",
    "    \n",
    "    # In CPU-only setup, make sure you still have enough cores to handle the training, \n",
    "    # Not just data loading, otherwise, it will bottleneck\n",
    "    num_workers=cores\n",
    ")"
   ]
  },
  {
   "cell_type": "markdown",
   "id": "f4790a70-acaf-4252-83d3-f1ae6f862361",
   "metadata": {},
   "source": [
    "## Orchestrating the training"
   ]
  },
  {
   "cell_type": "code",
   "execution_count": 12,
   "id": "843cd867-8f72-4866-8601-e46ca0f8b5e3",
   "metadata": {},
   "outputs": [],
   "source": [
    "logger = TensorBoardLogger(\n",
    "    save_dir=LOGS_PATH,\n",
    "    name='flattened_mlp_logs',\n",
    "    log_graph=True\n",
    ")"
   ]
  },
  {
   "cell_type": "markdown",
   "id": "a631799c-cc96-4bca-8c2f-3a425fdf3022",
   "metadata": {},
   "source": [
    "All the training instrumentation is done by an object call the Trainer. You can fix parameters such as:\n",
    "* `max_epochs` unless an early stopping happens\n",
    "* `accelerator` type and `device` logical number\n",
    "\n",
    "Notably interesting: \n",
    "* `callbacks` to handle in-betweens\n",
    "* `gradient_clip_val` and `gradient_clip_algorithm` to setup the gradient clipping\n",
    "* `logger` to interface with loss and metrics logging\n",
    "* `resume_from_checkpoint` helps resuming a previously initiated training\n",
    "* `amp_backend` to switch to Nvidia Apex framework for Automatic Mixed Precision support"
   ]
  },
  {
   "cell_type": "code",
   "execution_count": 13,
   "id": "093a4cd6-2526-4bf9-8ab6-b8e596687030",
   "metadata": {},
   "outputs": [
    {
     "name": "stdout",
     "output_type": "stream",
     "text": [
      "GPU available: False, used: False\n",
      "TPU available: False, using: 0 TPU cores\n",
      "IPU available: False, using: 0 IPUs\n"
     ]
    }
   ],
   "source": [
    "cpu_trainer = Trainer(\n",
    "    max_epochs=1,\n",
    "    logger=logger,\n",
    "    deterministic=True,\n",
    ")"
   ]
  },
  {
   "cell_type": "markdown",
   "id": "1bd78404-a02b-48aa-bbfb-7a075ebe2561",
   "metadata": {},
   "source": [
    "Training CPU is a one-line"
   ]
  },
  {
   "cell_type": "code",
   "execution_count": 14,
   "id": "6bc17ca0-4387-4cb9-9622-2ba1f482d17f",
   "metadata": {
    "tags": []
   },
   "outputs": [
    {
     "name": "stdout",
     "output_type": "stream",
     "text": [
      "Missing logger folder: /home/jupyter/.kosmoss/logs/flattened_mlp_logs\n",
      "\n",
      "  | Name                | Type       | Params\n",
      "---------------------------------------------------\n",
      "0 | normalization_layer | Normalize  | 0     \n",
      "1 | net                 | Sequential | 488 K \n",
      "---------------------------------------------------\n",
      "488 K     Trainable params\n",
      "0         Non-trainable params\n",
      "488 K     Total params\n",
      "1.955     Total estimated model params size (MB)\n"
     ]
    },
    {
     "name": "stderr",
     "output_type": "stream",
     "text": [
      "/opt/conda/lib/python3.7/site-packages/pytorch_lightning/loggers/tensorboard.py:251: UserWarning: Could not log computational graph since the `model.example_input_array` attribute is not set or `input_array` was not given\n",
      "  UserWarning,\n"
     ]
    },
    {
     "name": "stdout",
     "output_type": "stream",
     "text": [
      "Global seed set to 42                                                 \n",
      "Epoch 0:  89%|████████▉ | 848/954 [01:55<00:14,  7.32it/s, loss=0.592, v_num=0, train_loss=0.567]\n",
      "Validating: 0it [00:00, ?it/s]\u001b[A\n",
      "Validating:   0%|          | 0/106 [00:00<?, ?it/s]\u001b[A\n",
      "Validating:   1%|          | 1/106 [00:01<03:07,  1.78s/it]\u001b[A\n",
      "Epoch 0:  90%|████████▉ | 856/954 [01:57<00:13,  7.26it/s, loss=0.592, v_num=0, train_loss=0.567]\n",
      "Epoch 0:  91%|█████████ | 866/954 [01:57<00:11,  7.34it/s, loss=0.592, v_num=0, train_loss=0.567]\n",
      "Epoch 0:  92%|█████████▏| 876/954 [01:58<00:10,  7.42it/s, loss=0.592, v_num=0, train_loss=0.567]\n",
      "Epoch 0:  93%|█████████▎| 886/954 [01:58<00:09,  7.50it/s, loss=0.592, v_num=0, train_loss=0.567]\n",
      "Epoch 0:  94%|█████████▍| 896/954 [01:58<00:07,  7.58it/s, loss=0.592, v_num=0, train_loss=0.567]\n",
      "Validating:  45%|████▌     | 48/106 [00:02<00:01, 49.03it/s]\u001b[A\n",
      "Epoch 0:  95%|█████████▍| 906/954 [01:58<00:06,  7.65it/s, loss=0.592, v_num=0, train_loss=0.567]\n",
      "Epoch 0:  96%|█████████▋| 920/954 [01:58<00:04,  7.76it/s, loss=0.592, v_num=0, train_loss=0.567]\n",
      "Epoch 0:  98%|█████████▊| 934/954 [01:58<00:02,  7.87it/s, loss=0.592, v_num=0, train_loss=0.567]\n",
      "Epoch 0:  99%|█████████▉| 948/954 [01:58<00:00,  7.98it/s, loss=0.592, v_num=0, train_loss=0.567]\n",
      "Epoch 0: 100%|██████████| 954/954 [01:58<00:00,  8.02it/s, loss=0.592, v_num=0, train_loss=0.567, val_loss_step=0.646, val_loss_epoch=0.614]\n",
      "Epoch 0: 100%|██████████| 954/954 [01:58<00:00,  8.02it/s, loss=0.592, v_num=0, train_loss=0.567, val_loss_step=0.646, val_loss_epoch=0.614]\n"
     ]
    }
   ],
   "source": [
    "cpu_trainer.fit(model=mlp, datamodule=datamodule)"
   ]
  },
  {
   "cell_type": "markdown",
   "id": "76b563c5-dce8-403f-acd5-b8b8a58c706b",
   "metadata": {},
   "source": [
    "Never forget to test. The handy thing with the `Trainer` is, if a `.test()` is called somewhere at runtime, once a `SIGTERM` is thrown by the runtime such as a `KeyboardInterruptError`, it gets caught by Lightning, which tries to gracefully release resources, terminate training, and run the test anyway."
   ]
  },
  {
   "cell_type": "code",
   "execution_count": 15,
   "id": "efc311d2-8b7a-4dfa-9955-7c46dbeb0664",
   "metadata": {},
   "outputs": [
    {
     "name": "stderr",
     "output_type": "stream",
     "text": [
      "/opt/conda/lib/python3.7/site-packages/pytorch_lightning/loggers/tensorboard.py:251: UserWarning: Could not log computational graph since the `model.example_input_array` attribute is not set or `input_array` was not given\n",
      "  UserWarning,\n"
     ]
    },
    {
     "name": "stdout",
     "output_type": "stream",
     "text": [
      "Testing:  99%|█████████▉| 105/106 [00:02<00:00, 83.03it/s]--------------------------------------------------------------------------------\n",
      "DATALOADER:0 TEST RESULTS\n",
      "{'test_loss': 0.5979500412940979, 'test_loss_epoch': 0.5979500412940979}\n",
      "--------------------------------------------------------------------------------\n",
      "Testing: 100%|██████████| 106/106 [00:03<00:00, 34.88it/s]\n"
     ]
    },
    {
     "data": {
      "text/plain": [
       "[{'test_loss': 0.5979500412940979, 'test_loss_epoch': 0.5979500412940979}]"
      ]
     },
     "execution_count": 15,
     "metadata": {},
     "output_type": "execute_result"
    }
   ],
   "source": [
    "cpu_trainer.test(model=mlp, datamodule=datamodule)"
   ]
  },
  {
   "cell_type": "code",
   "execution_count": null,
   "id": "02559602-9ee2-417f-a419-89a7e2e97065",
   "metadata": {},
   "outputs": [],
   "source": []
  }
 ],
 "metadata": {
  "environment": {
   "kernel": "python3",
   "name": "pytorch-gpu.1-10.m89",
   "type": "gcloud",
   "uri": "gcr.io/deeplearning-platform-release/pytorch-gpu.1-10:m89"
  },
  "kernelspec": {
   "display_name": "Python 3",
   "language": "python",
   "name": "python3"
  },
  "language_info": {
   "codemirror_mode": {
    "name": "ipython",
    "version": 3
   },
   "file_extension": ".py",
   "mimetype": "text/x-python",
   "name": "python",
   "nbconvert_exporter": "python",
   "pygments_lexer": "ipython3",
   "version": "3.7.12"
  }
 },
 "nbformat": 4,
 "nbformat_minor": 5
}
