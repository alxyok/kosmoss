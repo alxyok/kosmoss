{
 "cells": [
  {
   "cell_type": "markdown",
   "id": "523e7e12-dac9-47c4-8d67-a210ff80daea",
   "metadata": {},
   "source": [
    "# PyTorch Lightning abstraction basics"
   ]
  },
  {
   "cell_type": "markdown",
   "id": "3f7806a3-59a5-4d76-9352-cbe9f7fa58d9",
   "metadata": {},
   "source": [
    "*Putting it all together with PL abstraction mechanics.*\n",
    "\n",
    "[PyTorch Lightning](https://www.pytorchlightning.ai/) is a framework built on top of PyTorch, which takes care of the boilerplates, as well as simplifies the training parallelism. It is often compared to Keras for TensorFlow. We will integrated directly our models and data modules with the PL mechanics, so that distributed training becomes easier."
   ]
  },
  {
   "cell_type": "markdown",
   "id": "d5c702d3-f03a-46f2-81fc-2ad1975c3072",
   "metadata": {},
   "source": [
    "Lightning has grown into a massive framework with functionalities missing from vanilla PyTorch, but for basic-level understanding of the abstraction logic, there are only a few usefull components, most notably:\n",
    "* `pl.LightningModule`, a wrapper for a PyTorch model, with implementable train, test, and validation loops\n",
    "* `pl.LightningDataModule`, a wrapper for a PyTorch `Dataset`, with implementable data splitting logic\n",
    "* `pl.Trainer` to orchestrate training + testing phases, as well as inference. Gradient clipping, \n",
    "* `pl.callbacks.base.Callback` to organize runtime workflow. Comes standard with `EarlyStopping`, `ModelCheckpoint`, `LearningRateMonitor`, and `ModelPruning`, among others\n",
    "* A Profiler to debug resource utilization"
   ]
  },
  {
   "cell_type": "markdown",
   "id": "a3edafc4-1c3c-42ae-94af-5efac1f873df",
   "metadata": {},
   "source": [
    "Let's first load all the necessary params."
   ]
  },
  {
   "cell_type": "code",
   "execution_count": 1,
   "id": "efd6e24d-405a-46fa-aa5b-1956cad4e7b5",
   "metadata": {},
   "outputs": [
    {
     "name": "stderr",
     "output_type": "stream",
     "text": [
      "/usr/local/lib/python3.8/dist-packages/tqdm/auto.py:22: TqdmWarning: IProgress not found. Please update jupyter and ipywidgets. See https://ipywidgets.readthedocs.io/en/stable/user_install.html\n",
      "  from .autonotebook import tqdm as notebook_tqdm\n"
     ]
    }
   ],
   "source": [
    "from kosmoss import CONFIG, LOGS_PATH, METADATA\n",
    "from kosmoss.parallel.data import FlattenedDataModule\n",
    "from kosmoss.parallel.mlp import LitMLP"
   ]
  },
  {
   "cell_type": "code",
   "execution_count": 2,
   "id": "392a0d65-b9d8-4ad7-9b87-ef5c0973ef47",
   "metadata": {},
   "outputs": [
    {
     "name": "stdout",
     "output_type": "stream",
     "text": [
      "Global seed set to 42\n"
     ]
    }
   ],
   "source": [
    "import numpy as np\n",
    "import os\n",
    "import pytorch_lightning as pl\n",
    "from pytorch_lightning import Trainer\n",
    "from pytorch_lightning.loggers.tensorboard import TensorBoardLogger\n",
    "\n",
    "# Ensures this Notebook's reproducibility\n",
    "pl.seed_everything(42, workers=True)\n",
    "\n",
    "step = CONFIG['timestep']\n",
    "params = METADATA[str(step)]['flattened']"
   ]
  },
  {
   "cell_type": "markdown",
   "id": "de6e9166-f8ab-44a7-aca1-53b38ff0089b",
   "metadata": {},
   "source": [
    "## Model and training logic"
   ]
  },
  {
   "cell_type": "code",
   "execution_count": 3,
   "id": "da267a70-50c3-4882-9312-24ed12fcda7b",
   "metadata": {},
   "outputs": [
    {
     "name": "stdout",
     "output_type": "stream",
     "text": [
      "import os.path as osp\n",
      "from pytorch_lightning import LightningModule\n",
      "import torch\n",
      "import torch.nn as nn\n",
      "import torch_optimizer as optim\n",
      "import torchmetrics.functional as F\n",
      "from typing import List, Tuple, Union\n",
      "\n",
      "from kosmoss import CONFIG, DATA_PATH\n",
      "\n",
      "class ThreeDCorrectionModule(LightningModule):\n",
      "    \n",
      "    def __init__(self):\n",
      "        super().__init__()\n",
      "        \n",
      "        # 'The LightningModule knows what device it is on. You can access the reference via self.device. Sometimes it is necessary to store tensors as module attributes. However, if they are not parameters they will remain on the CPU even if the module gets moved to a new device. To prevent that and remain device agnostic, register the tensor as a buffer in your modules’s __init__ method with register_buffer().'\n",
      "        self.register_buffer(\"epsilon\", torch.tensor(1.e-8))\n",
      "\n",
      "    def forward(self, x: torch.Tensor) -> torch.Tensor:\n",
      "        return self.net(x)\n",
      "    \n",
      "    def _common_step(self, \n",
      "                     batch: List[torch.Tensor], \n",
      "                     batch_idx: int, \n",
      "                     stage: Union['train', 'test', 'val']) -> Tuple[torch.Tensor]:\n",
      "        \n",
      "        x, y = batch\n",
      "        y_hat = self(x)\n",
      "        \n",
      "        # Note: by using a metric from TorchMetrics, you don't have to manually set the sync_dist option, 'ensures that each GPU worker has the same behaviour when tracking model checkpoints, which is important for later downstream tasks such as testing the best checkpoint across all workers'.\n",
      "        loss = F.mean_squared_error(y_hat, y)\n",
      "        self.log(\n",
      "            f\"{stage}_loss\", \n",
      "            loss, prog_bar=True, \n",
      "            on_step=True, \n",
      "            batch_size=len(batch),\n",
      "            # Uncomment, for the 'test' and 'val' stages if you're not using TorchMetrics\n",
      "            # sync_dist = True\n",
      "        )\n",
      "        \n",
      "        return y_hat, loss\n",
      "    \n",
      "    def training_step(self, \n",
      "                      batch: List[torch.Tensor], \n",
      "                      batch_idx: int) -> torch.Tensor:\n",
      "        \n",
      "        _, loss = self._common_step(batch, batch_idx, \"train\")\n",
      "        \n",
      "        return loss\n",
      "\n",
      "    \n",
      "    def validation_step(self, \n",
      "                        batch: List[torch.Tensor], \n",
      "                        batch_idx: int) -> Tuple[torch.Tensor]:\n",
      "        \n",
      "        self._common_step(batch, batch_idx, \"val\")\n",
      "\n",
      "        \n",
      "    def test_step(self, \n",
      "                  batch: List[torch.Tensor], \n",
      "                  batch_idx: int) -> Tuple[torch.Tensor]:\n",
      "        \n",
      "        self._common_step(batch, batch_idx, \"test\")\n",
      "    \n",
      "    \n",
      "    def configure_optimizers(self) -> optim.Optimizer:\n",
      "        \n",
      "        return optim.AdamP(self.parameters(), lr=self.lr)\n",
      "    \n",
      "    \n",
      "    \n",
      "class LitMLP(ThreeDCorrectionModule):\n",
      "\n",
      "    \n",
      "    class Normalize(nn.Module):\n",
      "\n",
      "        def __init__(self, epsilon: torch.Tensor) -> None:\n",
      "\n",
      "            super().__init__()\n",
      "\n",
      "            self.epsilon = epsilon\n",
      "\n",
      "            step = CONFIG['timestep']\n",
      "            stats = torch.load(osp.join(DATA_PATH, f\"stats-flattened-{step}.pt\"))\n",
      "\n",
      "            self.x_mean = stats[\"x_mean\"]\n",
      "            self.x_std = stats[\"x_std\"]\n",
      "\n",
      "        def forward(self, x: torch.Tensor) -> torch.Tensor:\n",
      "\n",
      "            # Adjusting the tensors to scale to other devices. 'When you need to create a new tensor, use type_as. This will make your code scale to any arbitrary number of GPUs or TPUs with Lightning.'\n",
      "            mean = self.x_mean.type_as(x)\n",
      "            std = self.x_std.type_as(x)\n",
      "            epsilon = torch.tensor(1.e-8).type_as(x)\n",
      "\n",
      "            return (x - mean) / (std + self.epsilon)\n",
      "\n",
      "    \n",
      "    # Doing the feature selection in the model is maybe less efficient from a data loading perspecitve, but way more flexible. \n",
      "    # That way, you can train a model\n",
      "#     class SelectFeatures(nn.Module):\n",
      "\n",
      "#         def __init__(self) -> None:\n",
      "#             super().__init__()\n",
      "\n",
      "#         def forward(self, x: torch.Tensor) -> torch.Tensor:\n",
      "#             start_idx = 276 + 136 + 17\n",
      "    \n",
      "    \n",
      "    def __init__(self, \n",
      "                 in_channels: int, \n",
      "                 hidden_channels: int, \n",
      "                 out_channels: int, \n",
      "                 lr: float = 1e-4) -> None:\n",
      "        \n",
      "        super().__init__()\n",
      "        \n",
      "        self.lr = lr\n",
      "        \n",
      "        self.normalization_layer = LitMLP.Normalize(self.epsilon)\n",
      "        # self.feature_selection_layer = LitMLP.SelectFeatures()\n",
      "        \n",
      "        self.net = nn.Sequential(\n",
      "            self.normalization_layer,\n",
      "            # self.feature_selection_layer,\n",
      "            nn.Linear(in_channels, hidden_channels),\n",
      "            nn.SiLU(),\n",
      "            nn.Linear(hidden_channels, hidden_channels),\n",
      "            nn.SiLU(),\n",
      "            nn.Linear(hidden_channels, hidden_channels),\n",
      "            nn.SiLU(),\n",
      "            nn.Linear(hidden_channels, out_channels),\n",
      "        )"
     ]
    }
   ],
   "source": [
    "!cat mlp.py"
   ]
  },
  {
   "cell_type": "code",
   "execution_count": 4,
   "id": "becf22e3-b1ab-4940-ba48-f54b3c8c0ace",
   "metadata": {},
   "outputs": [],
   "source": [
    "x_feats = params['x_shape'][-1]\n",
    "y_feats = params['y_shape'][-1]"
   ]
  },
  {
   "cell_type": "code",
   "execution_count": 5,
   "id": "6a0fe802-3725-4985-b723-0b0c8ce68245",
   "metadata": {},
   "outputs": [
    {
     "name": "stdout",
     "output_type": "stream",
     "text": [
      "x number of features: 4128\n",
      "y number of features: 552\n"
     ]
    }
   ],
   "source": [
    "print(f'x number of features: {x_feats}')\n",
    "print(f'y number of features: {y_feats}')"
   ]
  },
  {
   "cell_type": "code",
   "execution_count": 6,
   "id": "fb87787d-d140-4cfd-a3bb-131d4b31eeef",
   "metadata": {},
   "outputs": [
    {
     "data": {
      "text/plain": [
       "LitMLP(\n",
       "  (normalization_layer): Normalize()\n",
       "  (net): Sequential(\n",
       "    (0): Normalize()\n",
       "    (1): Linear(in_features=4128, out_features=100, bias=True)\n",
       "    (2): SiLU()\n",
       "    (3): Linear(in_features=100, out_features=100, bias=True)\n",
       "    (4): SiLU()\n",
       "    (5): Linear(in_features=100, out_features=100, bias=True)\n",
       "    (6): SiLU()\n",
       "    (7): Linear(in_features=100, out_features=552, bias=True)\n",
       "  )\n",
       ")"
      ]
     },
     "execution_count": 6,
     "metadata": {},
     "output_type": "execute_result"
    }
   ],
   "source": [
    "mlp = LitMLP(\n",
    "    in_channels=x_feats,\n",
    "    hidden_channels=100,\n",
    "    out_channels=y_feats\n",
    ")\n",
    "mlp"
   ]
  },
  {
   "cell_type": "markdown",
   "id": "10a08772-3965-46f4-b9f7-69d8915e8821",
   "metadata": {},
   "source": [
    "## Dataset creation and data loading mechanics"
   ]
  },
  {
   "cell_type": "code",
   "execution_count": 7,
   "id": "97fe32cf-92b3-47e3-8792-4eb2604c5c5b",
   "metadata": {},
   "outputs": [
    {
     "name": "stdout",
     "output_type": "stream",
     "text": [
      "import numpy as np\n",
      "import os.path as osp\n",
      "from pytorch_lightning import LightningDataModule\n",
      "import torch\n",
      "from typing import Tuple, Union\n",
      "\n",
      "from kosmoss import CONFIG, METADATA, PROCESSED_DATA_PATH\n",
      "\n",
      "class FlattenedDataset(torch.utils.data.Dataset):\n",
      "    \n",
      "    def __init__(self, \n",
      "                 step: int, \n",
      "                 mode: Union['efficient', 'controlled'] = 'controlled') -> None:\n",
      "        super().__init__()\n",
      "        self.step = step\n",
      "        self.mode = mode\n",
      "        self.params = METADATA[str(self.step)]['flattened']\n",
      "    \n",
      "    def __len__(self) -> int:\n",
      "        \n",
      "        return self.params['dataset_len']\n",
      "    \n",
      "    def __getitem__(self, idx: int) -> Tuple[torch.Tensor]:\n",
      "        \n",
      "        shard_size = len(self) // self.params['num_shards']\n",
      "        fileidx = idx // shard_size\n",
      "        rowidx = idx % shard_size\n",
      "        \n",
      "        def _load(name: Union['x', 'y']) -> Tuple[torch.Tensor]:\n",
      "            main_path = osp.join(PROCESSED_DATA_PATH, f\"flattened-{self.step}\")\n",
      "            \n",
      "            if self.mode == 'efficient':\n",
      "                data = np.lib.format.open_memmap(\n",
      "                    mode='r',\n",
      "                    dtype = self.params['dtype'],\n",
      "                    filename=osp.join(main_path, name, f'{fileidx}.npy'), \n",
      "                    shape=tuple(self.params[f'{name}_shape']) \n",
      "                )\n",
      "                \n",
      "            else:\n",
      "                data = np.load(osp.join(main_path, name, f'{fileidx}.npy'))\n",
      "                \n",
      "            tensor = torch.squeeze(torch.tensor(data[rowidx, ...]))\n",
      "            return tensor\n",
      "        \n",
      "        x = _load('x')\n",
      "        y = _load('y')\n",
      "        \n",
      "        return x, y\n",
      "    \n",
      "\n",
      "class FlattenedDataModule(LightningDataModule):\n",
      "    \n",
      "    def __init__(self, \n",
      "                 batch_size: int,\n",
      "                 num_workers: int) -> None:\n",
      "        \n",
      "        self.batch_size = batch_size\n",
      "        self.num_workers = num_workers\n",
      "        self.loading_mode = CONFIG['loading_mode']\n",
      "        self.timestep = CONFIG['timestep']\n",
      "        super().__init__()\n",
      "        \n",
      "    def prepare_data(self) -> None:\n",
      "        pass\n",
      "    \n",
      "    def setup(self, stage: str) -> None:\n",
      "        dataset = FlattenedDataset(self.timestep, mode=self.loading_mode)\n",
      "        length = len(dataset)\n",
      "        \n",
      "        self.train, self.val, self.test = torch.utils.data.random_split(\n",
      "            dataset,\n",
      "            [\n",
      "                int(length * .8), \n",
      "                int(length * .1), \n",
      "                int(length * .1)\n",
      "            ])\n",
      "    \n",
      "    def train_dataloader(self) -> torch.utils.data.DataLoader:\n",
      "        \n",
      "        return torch.utils.data.DataLoader(\n",
      "            self.train, \n",
      "            batch_size=self.batch_size, \n",
      "            shuffle=True, \n",
      "            num_workers=self.num_workers)\n",
      "    \n",
      "    def val_dataloader(self) -> torch.utils.data.DataLoader:\n",
      "        \n",
      "        return torch.utils.data.DataLoader(\n",
      "            self.val, \n",
      "            batch_size=self.batch_size, \n",
      "            num_workers=self.num_workers)\n",
      "    \n",
      "    def test_dataloader(self) -> torch.utils.data.DataLoader:\n",
      "        \n",
      "        return torch.utils.data.DataLoader(\n",
      "            self.test, \n",
      "            batch_size=self.batch_size, \n",
      "            num_workers=self.num_workers)"
     ]
    }
   ],
   "source": [
    "!cat data.py"
   ]
  },
  {
   "cell_type": "markdown",
   "id": "37cf4f5a-b347-41fd-81bf-95b2e020231d",
   "metadata": {},
   "source": [
    "* `batch_size` sets the number of element in a batch of data.\n",
    "* `num_workers` sets the number of workers the DataLoader can spawn to handle data loading and Dataset batching."
   ]
  },
  {
   "cell_type": "code",
   "execution_count": 8,
   "id": "9b0aa5af-10b4-43c7-bdf6-827bac3ca2c9",
   "metadata": {},
   "outputs": [],
   "source": [
    "import psutil\n",
    "cores = psutil.cpu_count(logical=False)"
   ]
  },
  {
   "cell_type": "code",
   "execution_count": 9,
   "id": "1cef746e-d153-42fe-b4d8-85781c379b9f",
   "metadata": {},
   "outputs": [],
   "source": [
    "datamodule = FlattenedDataModule(\n",
    "    batch_size=1024,\n",
    "    \n",
    "    # In CPU-only setup, make sure you still have enough cores to handle the training, \n",
    "    # Not just data loading, otherwise, it will bottleneck\n",
    "    num_workers=cores\n",
    ")"
   ]
  },
  {
   "cell_type": "markdown",
   "id": "f4790a70-acaf-4252-83d3-f1ae6f862361",
   "metadata": {},
   "source": [
    "## Orchestrating the training"
   ]
  },
  {
   "cell_type": "code",
   "execution_count": 10,
   "id": "843cd867-8f72-4866-8601-e46ca0f8b5e3",
   "metadata": {},
   "outputs": [],
   "source": [
    "logger = TensorBoardLogger(\n",
    "    save_dir=LOGS_PATH,\n",
    "    name='flattened_mlp_logs',\n",
    "    log_graph=True\n",
    ")"
   ]
  },
  {
   "cell_type": "markdown",
   "id": "a631799c-cc96-4bca-8c2f-3a425fdf3022",
   "metadata": {},
   "source": [
    "All the training instrumentation is done by an object call the Trainer. You can fix parameters such as:\n",
    "* `max_epochs` unless an early stopping happens\n",
    "* `accelerator` type and `device` logical number\n",
    "\n",
    "Notably interesting: \n",
    "* `callbacks` to handle in-betweens\n",
    "* `gradient_clip_val` and `gradient_clip_algorithm` to setup the gradient clipping\n",
    "* `logger` to interface with loss and metrics logging\n",
    "* `resume_from_checkpoint` helps resuming a previously initiated training\n",
    "* `amp_backend` to switch to Nvidia Apex framework for Automatic Mixed Precision support"
   ]
  },
  {
   "cell_type": "code",
   "execution_count": 11,
   "id": "093a4cd6-2526-4bf9-8ab6-b8e596687030",
   "metadata": {},
   "outputs": [
    {
     "name": "stdout",
     "output_type": "stream",
     "text": [
      "GPU available: True, used: False\n",
      "TPU available: False, using: 0 TPU cores\n",
      "IPU available: False, using: 0 IPUs\n"
     ]
    },
    {
     "name": "stderr",
     "output_type": "stream",
     "text": [
      "/usr/local/lib/python3.8/dist-packages/pytorch_lightning/trainer/trainer.py:1584: UserWarning: GPU available but not used. Set the gpus flag in your trainer `Trainer(gpus=1)` or script `--gpus=1`.\n",
      "  rank_zero_warn(\n"
     ]
    }
   ],
   "source": [
    "cpu_trainer = Trainer(\n",
    "    max_epochs=1,\n",
    "    logger=logger,\n",
    "    deterministic=True,\n",
    ")"
   ]
  },
  {
   "cell_type": "markdown",
   "id": "1bd78404-a02b-48aa-bbfb-7a075ebe2561",
   "metadata": {},
   "source": [
    "Training CPU is a one-line"
   ]
  },
  {
   "cell_type": "code",
   "execution_count": 12,
   "id": "6bc17ca0-4387-4cb9-9622-2ba1f482d17f",
   "metadata": {
    "tags": []
   },
   "outputs": [
    {
     "name": "stdout",
     "output_type": "stream",
     "text": [
      "\n",
      "  | Name                | Type       | Params\n",
      "---------------------------------------------------\n",
      "0 | normalization_layer | Normalize  | 0     \n",
      "1 | net                 | Sequential | 488 K \n",
      "---------------------------------------------------\n",
      "488 K     Trainable params\n",
      "0         Non-trainable params\n",
      "488 K     Total params\n",
      "1.955     Total estimated model params size (MB)\n"
     ]
    },
    {
     "name": "stderr",
     "output_type": "stream",
     "text": [
      "/usr/local/lib/python3.8/dist-packages/pytorch_lightning/loggers/tensorboard.py:247: UserWarning: Could not log computational graph since the `model.example_input_array` attribute is not set or `input_array` was not given\n",
      "  rank_zero_warn(\n"
     ]
    },
    {
     "name": "stdout",
     "output_type": "stream",
     "text": [
      "Global seed set to 42                                     \n",
      "Epoch 0:  89% 848/954 [02:25<00:18,  5.83it/s, loss=0.594, v_num=3, train_loss=0.569]\n",
      "Validating: 0it [00:00, ?it/s]\u001b[A\n",
      "Validating:   0% 0/106 [00:00<?, ?it/s]\u001b[A\n",
      "Epoch 0:  89% 850/954 [03:09<00:23,  4.48it/s, loss=0.594, v_num=3, train_loss=0.569]\n",
      "Epoch 0:  89% 853/954 [03:09<00:22,  4.49it/s, loss=0.594, v_num=3, train_loss=0.569]\n",
      "Epoch 0:  90% 858/954 [03:09<00:21,  4.52it/s, loss=0.594, v_num=3, train_loss=0.569]\n",
      "Epoch 0:  90% 863/954 [03:10<00:20,  4.54it/s, loss=0.594, v_num=3, train_loss=0.569]\n",
      "Epoch 0:  91% 870/954 [03:10<00:18,  4.57it/s, loss=0.594, v_num=3, train_loss=0.569]\n",
      "Epoch 0:  92% 877/954 [03:10<00:16,  4.61it/s, loss=0.594, v_num=3, train_loss=0.569]\n",
      "Epoch 0:  93% 884/954 [03:10<00:15,  4.64it/s, loss=0.594, v_num=3, train_loss=0.569]\n",
      "Validating:  34% 36/106 [00:45<00:15,  4.43it/s]\u001b[A\n",
      "Epoch 0:  93% 891/954 [03:10<00:13,  4.68it/s, loss=0.594, v_num=3, train_loss=0.569]\n",
      "Epoch 0:  94% 901/954 [03:10<00:11,  4.72it/s, loss=0.594, v_num=3, train_loss=0.569]\n",
      "Epoch 0:  96% 913/954 [03:10<00:08,  4.79it/s, loss=0.594, v_num=3, train_loss=0.569]\n",
      "Epoch 0:  97% 926/954 [03:10<00:05,  4.85it/s, loss=0.594, v_num=3, train_loss=0.569]\n",
      "Epoch 0:  98% 939/954 [03:11<00:03,  4.92it/s, loss=0.594, v_num=3, train_loss=0.569]\n",
      "Epoch 0: 100% 954/954 [03:12<00:00,  4.96it/s, loss=0.594, v_num=3, train_loss=0.569, val_loss_step=0.650, val_loss_epoch=0.614]\n",
      "Epoch 0: 100% 954/954 [03:12<00:00,  4.96it/s, loss=0.594, v_num=3, train_loss=0.569, val_loss_step=0.650, val_loss_epoch=0.614]\n"
     ]
    }
   ],
   "source": [
    "cpu_trainer.fit(model=mlp, datamodule=datamodule)"
   ]
  },
  {
   "cell_type": "markdown",
   "id": "76b563c5-dce8-403f-acd5-b8b8a58c706b",
   "metadata": {},
   "source": [
    "Never forget to test. The handy thing with the `Trainer` is, if a `.test()` is called somewhere at runtime, once a `SIGTERM` is thrown by the runtime such as a `KeyboardInterruptError`, it gets caught by Lightning, which tries to gracefully release resources, terminate training, and run the test anyway."
   ]
  },
  {
   "cell_type": "code",
   "execution_count": 13,
   "id": "efc311d2-8b7a-4dfa-9955-7c46dbeb0664",
   "metadata": {},
   "outputs": [
    {
     "name": "stderr",
     "output_type": "stream",
     "text": [
      "/usr/local/lib/python3.8/dist-packages/pytorch_lightning/loggers/tensorboard.py:247: UserWarning: Could not log computational graph since the `model.example_input_array` attribute is not set or `input_array` was not given\n",
      "  rank_zero_warn(\n"
     ]
    },
    {
     "name": "stdout",
     "output_type": "stream",
     "text": [
      "Testing:  95% 101/106 [00:56<00:00, 20.14it/s]--------------------------------------------------------------------------------\n",
      "DATALOADER:0 TEST RESULTS\n",
      "{'test_loss': 0.5971405506134033, 'test_loss_epoch': 0.5971405506134033}\n",
      "--------------------------------------------------------------------------------\n",
      "Testing: 100% 106/106 [00:56<00:00,  1.86it/s]\n"
     ]
    },
    {
     "data": {
      "text/plain": [
       "[{'test_loss': 0.5971405506134033, 'test_loss_epoch': 0.5971405506134033}]"
      ]
     },
     "execution_count": 13,
     "metadata": {},
     "output_type": "execute_result"
    }
   ],
   "source": [
    "cpu_trainer.test(model=mlp, datamodule=datamodule)"
   ]
  },
  {
   "cell_type": "code",
   "execution_count": null,
   "id": "02559602-9ee2-417f-a419-89a7e2e97065",
   "metadata": {},
   "outputs": [],
   "source": []
  }
 ],
 "metadata": {
  "environment": {
   "kernel": "python3",
   "name": "pytorch-gpu.1-10.m89",
   "type": "gcloud",
   "uri": "gcr.io/deeplearning-platform-release/pytorch-gpu.1-10:m89"
  },
  "kernelspec": {
   "display_name": "Python 3 (ipykernel)",
   "language": "python",
   "name": "python3"
  },
  "language_info": {
   "codemirror_mode": {
    "name": "ipython",
    "version": 3
   },
   "file_extension": ".py",
   "mimetype": "text/x-python",
   "name": "python",
   "nbconvert_exporter": "python",
   "pygments_lexer": "ipython3",
   "version": "3.8.10"
  }
 },
 "nbformat": 4,
 "nbformat_minor": 5
}
