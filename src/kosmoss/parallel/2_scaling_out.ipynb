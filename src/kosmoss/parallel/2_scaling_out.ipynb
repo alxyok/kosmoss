{
 "cells": [
  {
   "cell_type": "markdown",
   "id": "523e7e12-dac9-47c4-8d67-a210ff80daea",
   "metadata": {},
   "source": [
    "# Scaling out (multi-nodes + multi-GPUs)"
   ]
  },
  {
   "cell_type": "markdown",
   "id": "b1ebfdb2-ed51-4a06-9230-9d44af08bc7c",
   "metadata": {},
   "source": [
    "Lightning integrates, standardly, a lot of options to go for multi-nodes, multi-GPUs training on a cluster. For HPC-grade cluster, it would be fooling not to leverage Interconnect capabilities. Lightning makes it easy to launch with SLURM at negligeable cost."
   ]
  },
  {
   "cell_type": "markdown",
   "id": "11033d9a-6f48-42e0-8e8b-b966d4ad696f",
   "metadata": {},
   "source": [
    "### SLURM\n",
    "\n",
    "SLURM is an Open Source, flexible job scheduler used to manage resources in an HPC context, in 3 keys functions:\n",
    "* Exclusive or non-exclusive resource allocation system for a specific time period\n",
    "* A tool for executing and monitoring jobs on a set of allocated resources\n",
    "* A scheduling system that manages contention for resources"
   ]
  },
  {
   "cell_type": "markdown",
   "id": "b3127a0d-3ad4-4c4d-81df-4f3a545f7fe9",
   "metadata": {},
   "source": [
    "### Quick-guide to Resources Allocation and Job Submission\n",
    "\n",
    "**This part is just a brief introduction to SLURM not intended as a comprehensive review.**\n",
    "\n",
    "A few commands:\n",
    "\n",
    "* Listing visible cluster resources with `sinfo <options>`\n",
    "* Allocate resources with `salloc <resources_type_and_options>`\n",
    "* Run commands directly on allocated resources with an `srun <command>`. This will end-up building the environment\n",
    "* Run an ensemble of commands with a call to `sbatch <script>`"
   ]
  },
  {
   "cell_type": "markdown",
   "id": "3b40d459-9370-4901-b20b-feeb9d619a58",
   "metadata": {},
   "source": [
    "echo ${SLURM_NODEID} && cat /etc/docker/daemon.json"
   ]
  },
  {
   "cell_type": "code",
   "execution_count": null,
   "id": "bbb90766-1da8-43da-b7af-27e9df388981",
   "metadata": {},
   "outputs": [],
   "source": []
  }
 ],
 "metadata": {
  "environment": {
   "kernel": "python3",
   "name": "pytorch-gpu.1-10.m89",
   "type": "gcloud",
   "uri": "gcr.io/deeplearning-platform-release/pytorch-gpu.1-10:m89"
  },
  "kernelspec": {
   "display_name": "Python 3",
   "language": "python",
   "name": "python3"
  },
  "language_info": {
   "codemirror_mode": {
    "name": "ipython",
    "version": 3
   },
   "file_extension": ".py",
   "mimetype": "text/x-python",
   "name": "python",
   "nbconvert_exporter": "python",
   "pygments_lexer": "ipython3",
   "version": "3.7.12"
  }
 },
 "nbformat": 4,
 "nbformat_minor": 5
}
