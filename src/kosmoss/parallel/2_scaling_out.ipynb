{
 "cells": [
  {
   "cell_type": "markdown",
   "id": "523e7e12-dac9-47c4-8d67-a210ff80daea",
   "metadata": {},
   "source": [
    "# PyTorch Lightning abstraction basics"
   ]
  },
  {
   "cell_type": "markdown",
   "id": "22373b90-f912-4138-92d8-ac21ff9feb99",
   "metadata": {},
   "source": [
    "Putting it all together with PL abstraction mechanics"
   ]
  },
  {
   "cell_type": "markdown",
   "id": "a3edafc4-1c3c-42ae-94af-5efac1f873df",
   "metadata": {},
   "source": [
    "Let's first load all the necessary params"
   ]
  },
  {
   "cell_type": "code",
   "execution_count": null,
   "id": "8a21d3fc-c73b-485f-9233-634844e135db",
   "metadata": {},
   "outputs": [],
   "source": []
  },
  {
   "cell_type": "code",
   "execution_count": 2,
   "id": "392a0d65-b9d8-4ad7-9b87-ef5c0973ef47",
   "metadata": {},
   "outputs": [
    {
     "name": "stderr",
     "output_type": "stream",
     "text": [
      "Global seed set to 42\n"
     ]
    }
   ],
   "source": [
    "import numpy as np\n",
    "import os.path as osp\n",
    "import pytorch_lightning as pl\n",
    "\n",
    "# Ensures this Notebook's reproducibility\n",
    "pl.seed_everything(42, workers=True)\n",
    "\n",
    "step = km.CONFIG['timestep']\n",
    "params = km.PARAMS[str(step)]['flattened']"
   ]
  },
  {
   "cell_type": "markdown",
   "id": "de6e9166-f8ab-44a7-aca1-53b38ff0089b",
   "metadata": {},
   "source": [
    "## Model and training logic"
   ]
  },
  {
   "cell_type": "code",
   "execution_count": null,
   "id": "becf22e3-b1ab-4940-ba48-f54b3c8c0ace",
   "metadata": {},
   "outputs": [],
   "source": [
    "x_feats = params['x_shape'][-1]\n",
    "y_feats = params['y_shape'][-1]"
   ]
  },
  {
   "cell_type": "code",
   "execution_count": null,
   "id": "6a0fe802-3725-4985-b723-0b0c8ce68245",
   "metadata": {},
   "outputs": [],
   "source": [
    "print(f'x number of features: {x_feats}')\n",
    "print(f'y number of features: {y_feats}')"
   ]
  },
  {
   "cell_type": "code",
   "execution_count": 79,
   "id": "fb87787d-d140-4cfd-a3bb-131d4b31eeef",
   "metadata": {},
   "outputs": [
    {
     "data": {
      "text/plain": [
       "LitMLP(\n",
       "  (net): Sequential(\n",
       "    (0): Normalize()\n",
       "    (1): Linear(in_features=4128, out_features=100, bias=True)\n",
       "    (2): SiLU()\n",
       "    (3): Linear(in_features=100, out_features=100, bias=True)\n",
       "    (4): SiLU()\n",
       "    (5): Linear(in_features=100, out_features=100, bias=True)\n",
       "    (6): SiLU()\n",
       "    (7): Linear(in_features=100, out_features=552, bias=True)\n",
       "  )\n",
       ")"
      ]
     },
     "execution_count": 79,
     "metadata": {},
     "output_type": "execute_result"
    }
   ],
   "source": [
    "mlp = km.parallel.models.LitMLP(\n",
    "    in_channels=x_feats,\n",
    "    hidden_channels=100,\n",
    "    out_channels=y_feats\n",
    ")\n",
    "mlp"
   ]
  },
  {
   "cell_type": "markdown",
   "id": "10a08772-3965-46f4-b9f7-69d8915e8821",
   "metadata": {},
   "source": [
    "## Dataset creation and data loading mechanics"
   ]
  },
  {
   "cell_type": "markdown",
   "id": "37cf4f5a-b347-41fd-81bf-95b2e020231d",
   "metadata": {},
   "source": [
    "* `batch_size` sets the number of element in a batch of data.\n",
    "* `num_workers` sets the number of workers the DataLoader can spawn to handle data loading and Dataset batching."
   ]
  },
  {
   "cell_type": "code",
   "execution_count": 85,
   "id": "1cef746e-d153-42fe-b4d8-85781c379b9f",
   "metadata": {},
   "outputs": [],
   "source": [
    "datamodule = km.parallel.data.FlattenedDataModule(\n",
    "    batch_size=256,\n",
    "    num_workers=16\n",
    ")"
   ]
  },
  {
   "cell_type": "markdown",
   "id": "f4790a70-acaf-4252-83d3-f1ae6f862361",
   "metadata": {},
   "source": [
    "## Orchestrating the training"
   ]
  },
  {
   "cell_type": "markdown",
   "id": "a631799c-cc96-4bca-8c2f-3a425fdf3022",
   "metadata": {},
   "source": [
    "All the training instrumentation is done by an object call the Trainer. You can fix parameters such as `max_epochs`, the `accelerator` type and `device` logical number.\n",
    "\n",
    "Notably interesting: \n",
    "* `callbacks` to handle in-betweens\n",
    "* `gradient_clip_val` and `gradient_clip_algorithm` to setup the gradient clipping\n",
    "* `logger` to interface with loss and metrics logging\n",
    "* `resume_from_checkpoint` helps resuming a previously initiated training\n",
    "* `amp_backend` to switch to Nvidia Apex framework for Automatic Mixed Precision support"
   ]
  },
  {
   "cell_type": "code",
   "execution_count": null,
   "id": "093a4cd6-2526-4bf9-8ab6-b8e596687030",
   "metadata": {},
   "outputs": [],
   "source": [
    "trainer = pl.Trainer(\n",
    "    max_epochs=1,\n",
    "    logger=pl.loggers.tensorboard.TensorBoardLogger(\n",
    "        save_dir=km.LOGS_PATH,\n",
    "        name='flattened_mlp_logs',\n",
    "        log_graph=True\n",
    "    ),\n",
    "    deterministic=True,\n",
    "    amp_backend='apex'\n",
    ")"
   ]
  },
  {
   "cell_type": "markdown",
   "id": "1bd78404-a02b-48aa-bbfb-7a075ebe2561",
   "metadata": {},
   "source": [
    "Training CPU is a one-line"
   ]
  },
  {
   "cell_type": "code",
   "execution_count": 86,
   "id": "6bc17ca0-4387-4cb9-9622-2ba1f482d17f",
   "metadata": {
    "collapsed": true,
    "jupyter": {
     "outputs_hidden": true
    },
    "tags": []
   },
   "outputs": [
    {
     "name": "stderr",
     "output_type": "stream",
     "text": [
      "GPU available: False, used: False\n",
      "TPU available: False, using: 0 TPU cores\n",
      "IPU available: False, using: 0 IPUs\n",
      "\n",
      "  | Name | Type       | Params\n",
      "------------------------------------\n",
      "0 | net  | Sequential | 488 K \n",
      "------------------------------------\n",
      "488 K     Trainable params\n",
      "0         Non-trainable params\n",
      "488 K     Total params\n",
      "1.955     Total estimated model params size (MB)\n"
     ]
    },
    {
     "name": "stdout",
     "output_type": "stream",
     "text": [
      "Epoch 0:   0%|          | 4/3816 [23:01<365:46:29, 345.43s/it, loss=1.93, v_num=17, train_loss=2.080]\n",
      "Epoch 0:   0%|          | 11/3816 [01:32<8:55:23,  8.44s/it, loss=1.7, v_num=18, train_loss=1.640]\n",
      "Epoch 0:   0%|          | 4/3816 [29:32<469:16:50, 443.18s/it, loss=1.93, v_num=17, train_loss=2.080]\n",
      "Epoch 0:   0%|          | 11/3816 [08:03<46:29:39, 43.99s/it, loss=1.7, v_num=18, train_loss=1.640]]\n",
      "Epoch 0:   0%|          | 4/3816 [29:32<469:18:21, 443.21s/it, loss=1.93, v_num=17, train_loss=2.080]\n",
      "Epoch 0:   0%|          | 4/3816 [29:32<469:19:25, 443.22s/it, loss=1.93, v_num=17, train_loss=2.080]\n",
      "Epoch 0:   0%|          | 11/3816 [08:04<46:30:22, 44.00s/it, loss=1.7, v_num=18, train_loss=1.640]\n",
      "Epoch 0:   0%|          | 4/3816 [29:32<469:19:41, 443.23s/it, loss=1.93, v_num=17, train_loss=2.080]\n",
      "Epoch 0:   0%|          | 4/3816 [29:32<469:20:01, 443.23s/it, loss=1.93, v_num=17, train_loss=2.080]\n",
      "Epoch 0:   0%|          | 11/3816 [08:04<46:30:44, 44.01s/it, loss=1.7, v_num=18, train_loss=1.640]\n",
      "Epoch 0:   0%|          | 4/3816 [29:32<469:20:45, 443.24s/it, loss=1.93, v_num=17, train_loss=2.080]\n",
      "Epoch 0:   0%|          | 11/3816 [08:04<46:30:48, 44.01s/it, loss=1.7, v_num=18, train_loss=1.640]\n",
      "Epoch 0:   0%|          | 11/3816 [08:04<46:30:51, 44.01s/it, loss=1.7, v_num=18, train_loss=1.640]\n",
      "Epoch 0:   0%|          | 4/3816 [29:32<469:21:04, 443.25s/it, loss=1.93, v_num=17, train_loss=2.080]\n",
      "Epoch 0:   0%|          | 4/3816 [29:33<469:21:36, 443.26s/it, loss=1.93, v_num=17, train_loss=2.080]\n",
      "Epoch 0:   0%|          | 11/3816 [08:04<46:31:06, 44.01s/it, loss=1.7, v_num=18, train_loss=1.640]\n",
      "Epoch 0:   0%|          | 4/3816 [29:33<469:21:56, 443.26s/it, loss=1.93, v_num=17, train_loss=2.080]\n",
      "Epoch 0:   0%|          | 11/3816 [08:04<46:31:18, 44.02s/it, loss=1.7, v_num=18, train_loss=1.640]\n",
      "Epoch 0:   0%|          | 11/3816 [08:04<46:31:21, 44.02s/it, loss=1.7, v_num=18, train_loss=1.640]\n",
      "Epoch 0:   0%|          | 4/3816 [29:33<469:22:25, 443.27s/it, loss=1.93, v_num=17, train_loss=2.080]\n",
      "Epoch 0:   0%|          | 11/3816 [08:04<46:31:29, 44.02s/it, loss=1.7, v_num=18, train_loss=1.640]\n",
      "Epoch 0:   0%|          | 11/3816 [08:04<46:31:41, 44.02s/it, loss=1.7, v_num=18, train_loss=1.640]\n",
      "Epoch 0:   0%|          | 4/3816 [29:35<470:01:59, 443.89s/it, loss=1.93, v_num=17, train_loss=2.080]\n",
      "Epoch 0:   0%|          | 11/3816 [08:06<46:46:11, 44.25s/it, loss=1.7, v_num=18, train_loss=1.640]\n",
      "Epoch 0:   0%|          | 4/3816 [29:35<470:04:27, 443.93s/it, loss=1.93, v_num=17, train_loss=2.080]\n",
      "Epoch 0:   0%|          | 11/3816 [08:06<46:46:51, 44.26s/it, loss=1.7, v_num=18, train_loss=1.640]\n",
      "Epoch 0:   0%|          | 4/3816 [31:05<493:52:11, 466.40s/it, loss=1.93, v_num=17, train_loss=2.080]\n",
      "Epoch 0:   0%|          | 11/3816 [09:36<55:25:10, 52.43s/it, loss=1.7, v_num=18, train_loss=1.640]]\n",
      "Epoch 0:   0%|          | 4/3816 [31:05<493:53:22, 466.42s/it, loss=1.93, v_num=17, train_loss=2.080]\n",
      "Epoch 0:   0%|          | 4/3816 [31:05<493:53:47, 466.43s/it, loss=1.93, v_num=17, train_loss=2.080]\n",
      "Epoch 0:   0%|          | 11/3816 [09:36<55:25:34, 52.44s/it, loss=1.7, v_num=18, train_loss=1.640]]\n",
      "Epoch 0:   0%|          | 11/3816 [09:36<55:25:47, 52.44s/it, loss=1.7, v_num=18, train_loss=1.640]]\n",
      "Epoch 0:   0%|          | 4/3816 [31:09<494:47:31, 467.27s/it, loss=1.93, v_num=17, train_loss=2.080]\n",
      "Epoch 0:   0%|          | 11/3816 [09:40<55:45:14, 52.75s/it, loss=1.7, v_num=18, train_loss=1.640]]\n",
      "Epoch 0:  89%|████████▉ | 3393/3816 [12:54<01:36,  4.38it/s, loss=0.438, v_num=19, train_loss=0.311]\n",
      "Validating: 0it [00:00, ?it/s]\u001b[A\n",
      "Validating:   0%|          | 0/424 [00:00<?, ?it/s]\u001b[A\n",
      "Validating:   0%|          | 1/424 [00:04<30:31,  4.33s/it]\u001b[A\n",
      "Epoch 0:  89%|████████▉ | 3401/3816 [12:58<01:35,  4.37it/s, loss=0.438, v_num=19, train_loss=0.311]\n",
      "Epoch 0:  89%|████████▉ | 3409/3816 [13:02<01:33,  4.36it/s, loss=0.438, v_num=19, train_loss=0.311]\n",
      "Epoch 0:  90%|████████▉ | 3417/3816 [13:02<01:31,  4.37it/s, loss=0.438, v_num=19, train_loss=0.311]\n",
      "Validating:   6%|▌         | 25/424 [00:07<01:24,  4.74it/s]\u001b[A\n",
      "Epoch 0:  90%|████████▉ | 3425/3816 [13:05<01:29,  4.36it/s, loss=0.438, v_num=19, train_loss=0.311]\n",
      "Epoch 0:  90%|█████████ | 3435/3816 [13:05<01:27,  4.37it/s, loss=0.438, v_num=19, train_loss=0.311]\n",
      "Epoch 0:  90%|█████████ | 3445/3816 [13:09<01:25,  4.36it/s, loss=0.438, v_num=19, train_loss=0.311]\n",
      "Validating:  12%|█▎        | 53/424 [00:15<01:24,  4.41it/s]\u001b[A\n",
      "Epoch 0:  91%|█████████ | 3455/3816 [13:09<01:22,  4.38it/s, loss=0.438, v_num=19, train_loss=0.311]\n",
      "Validating:  15%|█▌        | 65/424 [00:18<01:41,  3.54it/s]\u001b[A\n",
      "Epoch 0:  91%|█████████ | 3465/3816 [13:13<01:20,  4.37it/s, loss=0.438, v_num=19, train_loss=0.311]\n",
      "Validating:  18%|█▊        | 75/424 [00:18<00:56,  6.21it/s]\u001b[A\n",
      "Epoch 0:  91%|█████████ | 3475/3816 [13:16<01:18,  4.36it/s, loss=0.438, v_num=19, train_loss=0.311]\n",
      "Epoch 0:  91%|█████████▏| 3485/3816 [13:16<01:15,  4.37it/s, loss=0.438, v_num=19, train_loss=0.311]\n",
      "Validating:  22%|██▏       | 93/424 [00:22<00:46,  7.08it/s]\u001b[A\n",
      "Validating:  23%|██▎       | 98/424 [00:25<01:29,  3.65it/s]\u001b[A\n",
      "Epoch 0:  92%|█████████▏| 3495/3816 [13:20<01:13,  4.37it/s, loss=0.438, v_num=19, train_loss=0.311]\n",
      "Epoch 0:  92%|█████████▏| 3505/3816 [13:23<01:11,  4.36it/s, loss=0.438, v_num=19, train_loss=0.311]\n",
      "Validating:  27%|██▋       | 115/424 [00:29<01:21,  3.78it/s]\u001b[A\n",
      "Epoch 0:  92%|█████████▏| 3515/3816 [13:23<01:08,  4.37it/s, loss=0.438, v_num=19, train_loss=0.311]\n",
      "Validating:  30%|██▉       | 127/424 [00:29<00:42,  7.03it/s]\u001b[A\n",
      "Epoch 0:  92%|█████████▏| 3525/3816 [13:26<01:06,  4.37it/s, loss=0.438, v_num=19, train_loss=0.311]\n",
      "Validating:  32%|███▏      | 135/424 [00:33<01:10,  4.12it/s]\u001b[A\n",
      "Epoch 0:  93%|█████████▎| 3535/3816 [13:27<01:04,  4.38it/s, loss=0.438, v_num=19, train_loss=0.311]\n",
      "Validating:  34%|███▍      | 146/424 [00:36<01:20,  3.47it/s]\u001b[A\n",
      "Epoch 0:  93%|█████████▎| 3545/3816 [13:31<01:02,  4.37it/s, loss=0.438, v_num=19, train_loss=0.311]\n",
      "Validating:  37%|███▋      | 157/424 [00:36<00:41,  6.42it/s]\u001b[A\n",
      "Epoch 0:  93%|█████████▎| 3555/3816 [13:33<00:59,  4.37it/s, loss=0.438, v_num=19, train_loss=0.311]\n",
      "Epoch 0:  93%|█████████▎| 3565/3816 [13:34<00:57,  4.38it/s, loss=0.438, v_num=19, train_loss=0.311]\n",
      "Validating:  41%|████      | 174/424 [00:40<00:36,  6.94it/s]\u001b[A\n",
      "Validating:  42%|████▏     | 178/424 [00:43<01:06,  3.71it/s]\u001b[A\n",
      "Epoch 0:  94%|█████████▎| 3575/3816 [13:38<00:55,  4.37it/s, loss=0.438, v_num=19, train_loss=0.311]\n",
      "Epoch 0:  94%|█████████▍| 3585/3816 [13:41<00:52,  4.37it/s, loss=0.438, v_num=19, train_loss=0.311]\n",
      "Validating:  46%|████▌     | 193/424 [00:46<01:06,  3.47it/s]\u001b[A\n",
      "Epoch 0:  94%|█████████▍| 3595/3816 [13:41<00:50,  4.37it/s, loss=0.438, v_num=19, train_loss=0.311]\n",
      "Validating:  49%|████▊     | 206/424 [00:47<00:31,  6.90it/s]\u001b[A\n",
      "Epoch 0:  94%|█████████▍| 3605/3816 [13:44<00:48,  4.37it/s, loss=0.438, v_num=19, train_loss=0.311]\n",
      "Validating:  50%|█████     | 214/424 [00:50<00:51,  4.06it/s]\u001b[A\n",
      "Epoch 0:  95%|█████████▍| 3615/3816 [13:45<00:45,  4.38it/s, loss=0.438, v_num=19, train_loss=0.311]\n",
      "Validating:  53%|█████▎    | 226/424 [00:53<00:54,  3.66it/s]\u001b[A\n",
      "Epoch 0:  95%|█████████▍| 3625/3816 [13:48<00:43,  4.37it/s, loss=0.438, v_num=19, train_loss=0.311]\n",
      "Validating:  56%|█████▌    | 237/424 [00:54<00:28,  6.48it/s]\u001b[A\n",
      "Epoch 0:  95%|█████████▌| 3635/3816 [13:51<00:41,  4.37it/s, loss=0.438, v_num=19, train_loss=0.311]\n",
      "Epoch 0:  96%|█████████▌| 3645/3816 [13:52<00:39,  4.38it/s, loss=0.438, v_num=19, train_loss=0.311]\n",
      "Validating:  60%|█████▉    | 253/424 [00:58<00:26,  6.54it/s]\u001b[A\n",
      "Validating:  61%|██████    | 257/424 [01:00<00:46,  3.63it/s]\u001b[A\n",
      "Epoch 0:  96%|█████████▌| 3655/3816 [13:55<00:36,  4.37it/s, loss=0.438, v_num=19, train_loss=0.311]\n",
      "Epoch 0:  96%|█████████▌| 3665/3816 [13:58<00:34,  4.37it/s, loss=0.438, v_num=19, train_loss=0.311]\n",
      "Validating:  65%|██████▍   | 274/424 [01:04<00:40,  3.68it/s]\u001b[A\n",
      "Epoch 0:  96%|█████████▋| 3675/3816 [13:59<00:32,  4.38it/s, loss=0.438, v_num=19, train_loss=0.311]\n",
      "Validating:  67%|██████▋   | 285/424 [01:05<00:21,  6.33it/s]\u001b[A\n",
      "Epoch 0:  97%|█████████▋| 3685/3816 [14:02<00:29,  4.37it/s, loss=0.438, v_num=19, train_loss=0.311]\n",
      "Epoch 0:  97%|█████████▋| 3695/3816 [14:03<00:27,  4.38it/s, loss=0.438, v_num=19, train_loss=0.311]\n",
      "Validating:  71%|███████▏  | 303/424 [01:08<00:17,  6.91it/s]\u001b[A\n",
      "Validating:  73%|███████▎  | 308/424 [01:11<00:27,  4.24it/s]\u001b[A\n",
      "Epoch 0:  97%|█████████▋| 3705/3816 [14:06<00:25,  4.38it/s, loss=0.438, v_num=19, train_loss=0.311]\n",
      "Epoch 0:  97%|█████████▋| 3715/3816 [14:09<00:23,  4.37it/s, loss=0.438, v_num=19, train_loss=0.311]\n",
      "Epoch 0:  98%|█████████▊| 3725/3816 [14:10<00:20,  4.38it/s, loss=0.438, v_num=19, train_loss=0.311]\n",
      "Validating:  79%|███████▉  | 335/424 [01:16<00:13,  6.62it/s]\u001b[A\n",
      "Validating:  80%|███████▉  | 339/424 [01:18<00:19,  4.29it/s]\u001b[A\n",
      "Epoch 0:  98%|█████████▊| 3735/3816 [14:14<00:18,  4.37it/s, loss=0.438, v_num=19, train_loss=0.311]\n",
      "Epoch 0:  98%|█████████▊| 3745/3816 [14:16<00:16,  4.37it/s, loss=0.438, v_num=19, train_loss=0.311]\n",
      "Epoch 0:  98%|█████████▊| 3755/3816 [14:17<00:13,  4.38it/s, loss=0.438, v_num=19, train_loss=0.311]\n",
      "Validating:  87%|████████▋ | 367/424 [01:23<00:08,  6.55it/s]\u001b[A\n",
      "Epoch 0:  99%|█████████▊| 3765/3816 [14:19<00:11,  4.38it/s, loss=0.438, v_num=19, train_loss=0.311]\n",
      "Epoch 0:  99%|█████████▉| 3775/3816 [14:21<00:09,  4.38it/s, loss=0.438, v_num=19, train_loss=0.311]\n",
      "Validating:  91%|█████████ | 384/424 [01:28<00:09,  4.27it/s]\u001b[A\n",
      "Epoch 0:  99%|█████████▉| 3785/3816 [14:24<00:07,  4.38it/s, loss=0.438, v_num=19, train_loss=0.311]\n",
      "Epoch 0:  99%|█████████▉| 3795/3816 [14:26<00:04,  4.38it/s, loss=0.438, v_num=19, train_loss=0.311]\n",
      "Epoch 0: 100%|█████████▉| 3805/3816 [14:27<00:02,  4.39it/s, loss=0.438, v_num=19, train_loss=0.311]\n",
      "Validating:  98%|█████████▊| 416/424 [01:34<00:01,  5.50it/s]\u001b[A\n",
      "Epoch 0: 100%|██████████| 3816/3816 [14:30<00:00,  4.39it/s, loss=0.438, v_num=19, train_loss=0.311, val_loss_step=0.342, val_loss_epoch=0.417]\n",
      "Epoch 0: 100%|██████████| 3816/3816 [14:30<00:00,  4.38it/s, loss=0.438, v_num=19, train_loss=0.311, val_loss_step=0.342, val_loss_epoch=0.417]\n"
     ]
    }
   ],
   "source": [
    "trainer.fit(model=mlp, datamodule=datamodule)\n",
    "\n",
    "# Never forget the test\n",
    "trainer.test(model=mlp, datamodule=datamodule)"
   ]
  },
  {
   "cell_type": "markdown",
   "id": "b1ebfdb2-ed51-4a06-9230-9d44af08bc7c",
   "metadata": {},
   "source": [
    "Now let's go multi-GPU"
   ]
  },
  {
   "cell_type": "code",
   "execution_count": null,
   "id": "67523929-d9b2-47d4-a1d1-77c0fea9437c",
   "metadata": {},
   "outputs": [],
   "source": [
    "trainer.fit(\n",
    "    accelerator='gpu',\n",
    "    devices=[0, 1, 2, 3],\n",
    "    model=mlp,\n",
    "    datamodule=datamodule\n",
    ")\n",
    "trainer.test(model=mlp, datamodule=datamodule)"
   ]
  },
  {
   "cell_type": "code",
   "execution_count": null,
   "id": "db162453-1e32-42c8-9de1-c290daa38894",
   "metadata": {},
   "outputs": [],
   "source": []
  },
  {
   "cell_type": "code",
   "execution_count": null,
   "id": "bbb90766-1da8-43da-b7af-27e9df388981",
   "metadata": {},
   "outputs": [],
   "source": []
  }
 ],
 "metadata": {
  "environment": {
   "kernel": "python3",
   "name": "pytorch-gpu.1-10.m89",
   "type": "gcloud",
   "uri": "gcr.io/deeplearning-platform-release/pytorch-gpu.1-10:m89"
  },
  "kernelspec": {
   "display_name": "Python 3",
   "language": "python",
   "name": "python3"
  },
  "language_info": {
   "codemirror_mode": {
    "name": "ipython",
    "version": 3
   },
   "file_extension": ".py",
   "mimetype": "text/x-python",
   "name": "python",
   "nbconvert_exporter": "python",
   "pygments_lexer": "ipython3",
   "version": "3.7.12"
  }
 },
 "nbformat": 4,
 "nbformat_minor": 5
}
