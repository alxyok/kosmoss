{
 "cells": [
  {
   "cell_type": "markdown",
   "id": "523e7e12-dac9-47c4-8d67-a210ff80daea",
   "metadata": {},
   "source": [
    "# Scaling out (multi-nodes + multi-GPUs)"
   ]
  },
  {
   "cell_type": "markdown",
   "id": "b1ebfdb2-ed51-4a06-9230-9d44af08bc7c",
   "metadata": {},
   "source": [
    "Lightning integrates with horovod, standard."
   ]
  },
  {
   "cell_type": "markdown",
   "id": "11033d9a-6f48-42e0-8e8b-b966d4ad696f",
   "metadata": {
    "tags": []
   },
   "source": [
    "### Horovod\n",
    "\n",
    "Horovod"
   ]
  },
  {
   "cell_type": "markdown",
   "id": "c7dd6a7b-5e18-4b03-82b8-98686ee2584d",
   "metadata": {},
   "source": [
    "With a simple change in the Trainer options, you can rely on horovod backend to perform the computations. Prallelism is achieved by SPMD with MPI: one process per GPU potentially distributed accross multiple nodes, and collective computing is made by process of rank 0.\n",
    "\n",
    "No need to adjust the learning rate `lr` this time, horovod takes care of that underneath."
   ]
  },
  {
   "cell_type": "code",
   "execution_count": null,
   "id": "7682cad8-85fd-421d-88b7-046c9a4848c9",
   "metadata": {},
   "outputs": [],
   "source": [
    "%%bash\n",
    "horovodrun -np 4 python trainout.py > ${HOME}/.kosmoss/logs/trainout_gpu_horovod.stdout"
   ]
  },
  {
   "cell_type": "code",
   "execution_count": null,
   "id": "dd04496d-7949-440d-95a9-c3f99f54740a",
   "metadata": {},
   "outputs": [],
   "source": [
    "%%bash\n",
    "horovodrun -np 8 -H hostname1:4,hostname2:4 python trainout.py > ${HOME}/.kosmoss/logs/trainout_gpu_horovod.stdout"
   ]
  },
  {
   "cell_type": "code",
   "execution_count": null,
   "id": "bbb90766-1da8-43da-b7af-27e9df388981",
   "metadata": {},
   "outputs": [],
   "source": []
  }
 ],
 "metadata": {
  "environment": {
   "kernel": "python3",
   "name": "pytorch-gpu.1-10.m89",
   "type": "gcloud",
   "uri": "gcr.io/deeplearning-platform-release/pytorch-gpu.1-10:m89"
  },
  "kernelspec": {
   "display_name": "Python 3",
   "language": "python",
   "name": "python3"
  },
  "language_info": {
   "codemirror_mode": {
    "name": "ipython",
    "version": 3
   },
   "file_extension": ".py",
   "mimetype": "text/x-python",
   "name": "python",
   "nbconvert_exporter": "python",
   "pygments_lexer": "ipython3",
   "version": "3.7.12"
  }
 },
 "nbformat": 4,
 "nbformat_minor": 5
}
